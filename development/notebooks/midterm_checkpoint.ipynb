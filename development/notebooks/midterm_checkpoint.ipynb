{
 "cells": [
  {
   "cell_type": "markdown",
   "id": "6d34554d",
   "metadata": {},
   "source": [
    "# Import Required Libraries"
   ]
  },
  {
   "cell_type": "code",
   "execution_count": 1,
   "id": "0938b1f0",
   "metadata": {},
   "outputs": [],
   "source": [
    "# Basic Stuff\n",
    "import pandas as pd\n",
    "import numpy as np\n",
    "import matplotlib.pyplot as plt\n",
    "import datetime as dt\n",
    "\n",
    "# For Model Training\n",
    "import itertools\n",
    "import statsmodels.api as sm\n",
    "from statsmodels.tsa.arima.model import ARIMA\n",
    "from statsmodels.tsa.holtwinters import ExponentialSmoothing\n",
    "from statsmodels.tsa.holtwinters import SimpleExpSmoothing\n",
    "from statsmodels.tsa.seasonal import seasonal_decompose\n",
    "import statsmodels.tsa.api as smt \n",
    "import pmdarima\n",
    "from pmdarima import auto_arima\n",
    "from sklearn.model_selection import train_test_split\n",
    "from sklearn.metrics import mean_absolute_percentage_error, mean_squared_error"
   ]
  },
  {
   "cell_type": "markdown",
   "id": "874fa672",
   "metadata": {},
   "source": [
    "# EDA"
   ]
  },
  {
   "cell_type": "markdown",
   "id": "ac13c6ca",
   "metadata": {},
   "source": [
    "# Pre-Processing"
   ]
  },
  {
   "cell_type": "markdown",
   "id": "6590ffb8",
   "metadata": {},
   "source": [
    "# "
   ]
  },
  {
   "cell_type": "markdown",
   "id": "467b2a8a",
   "metadata": {},
   "source": [
    "# Model #1: ARIMA"
   ]
  },
  {
   "cell_type": "markdown",
   "id": "a4704b97",
   "metadata": {},
   "source": [
    "# Model #2: SARIMAX"
   ]
  },
  {
   "cell_type": "markdown",
   "id": "3dd6f607",
   "metadata": {},
   "source": [
    "# Model #3: Holt-Winters Exponential Smoothing"
   ]
  },
  {
   "cell_type": "markdown",
   "id": "dd397ef1",
   "metadata": {},
   "source": [
    "# Model #4: Ensemble Learning of ARIMA and SARIMAX"
   ]
  }
 ],
 "metadata": {
  "kernelspec": {
   "display_name": "Python 3 (ipykernel)",
   "language": "python",
   "name": "python3"
  },
  "language_info": {
   "codemirror_mode": {
    "name": "ipython",
    "version": 3
   },
   "file_extension": ".py",
   "mimetype": "text/x-python",
   "name": "python",
   "nbconvert_exporter": "python",
   "pygments_lexer": "ipython3",
   "version": "3.9.7"
  }
 },
 "nbformat": 4,
 "nbformat_minor": 5
}
