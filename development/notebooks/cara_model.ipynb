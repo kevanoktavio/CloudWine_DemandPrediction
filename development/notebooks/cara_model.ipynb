{
 "cells": [
  {
   "cell_type": "code",
   "execution_count": 34,
   "id": "d70397fc",
   "metadata": {},
   "outputs": [],
   "source": [
    "# import the necessary libraries\n",
    "\n",
    "import pandas as pd\n",
    "import numpy as np\n",
    "import matplotlib.pyplot as plt\n",
    "#import seaborn as sns"
   ]
  },
  {
   "cell_type": "code",
   "execution_count": 35,
   "id": "c4c0732a",
   "metadata": {},
   "outputs": [
    {
     "name": "stdout",
     "output_type": "stream",
     "text": [
      "<class 'pandas.core.frame.DataFrame'>\n",
      "RangeIndex: 22976 entries, 0 to 22975\n",
      "Data columns (total 14 columns):\n",
      " #   Column                                Non-Null Count  Dtype  \n",
      "---  ------                                --------------  -----  \n",
      " 0   Unnamed: 0                            22976 non-null  int64  \n",
      " 1   customer_id                           22976 non-null  int64  \n",
      " 2   order_time                            22976 non-null  object \n",
      " 3   item_quantity                         22976 non-null  int64  \n",
      " 4   item_id                               22976 non-null  object \n",
      " 5   item_price                            22976 non-null  float64\n",
      " 6   item_discount_raw                     22976 non-null  float64\n",
      " 7   item_discount_percentage              22976 non-null  float64\n",
      " 8   item_disc_bins_item_disc_null         22976 non-null  int64  \n",
      " 9   item_disc_bins_item_disc_sub_twenty   22976 non-null  int64  \n",
      " 10  item_disc_bins_item_disc_sub_forty    22976 non-null  int64  \n",
      " 11  item_disc_bins_item_disc_sub_sixty    22976 non-null  int64  \n",
      " 12  item_disc_bins_item_disc_sub_eighty   22976 non-null  int64  \n",
      " 13  item_disc_bins_item_disc_sub_hundred  22976 non-null  int64  \n",
      "dtypes: float64(3), int64(9), object(2)\n",
      "memory usage: 2.5+ MB\n"
     ]
    }
   ],
   "source": [
    "df = pd.read_excel('../datasets/cleaned_orders.xlsx')\n",
    "df.info()"
   ]
  },
  {
   "cell_type": "code",
   "execution_count": 36,
   "id": "e45defaa",
   "metadata": {},
   "outputs": [
    {
     "data": {
      "text/html": [
       "<div>\n",
       "<style scoped>\n",
       "    .dataframe tbody tr th:only-of-type {\n",
       "        vertical-align: middle;\n",
       "    }\n",
       "\n",
       "    .dataframe tbody tr th {\n",
       "        vertical-align: top;\n",
       "    }\n",
       "\n",
       "    .dataframe thead th {\n",
       "        text-align: right;\n",
       "    }\n",
       "</style>\n",
       "<table border=\"1\" class=\"dataframe\">\n",
       "  <thead>\n",
       "    <tr style=\"text-align: right;\">\n",
       "      <th></th>\n",
       "      <th>customer_id</th>\n",
       "      <th>order_time</th>\n",
       "      <th>item_quantity</th>\n",
       "      <th>item_id</th>\n",
       "      <th>item_price</th>\n",
       "      <th>item_discount_raw</th>\n",
       "      <th>item_discount_percentage</th>\n",
       "      <th>item_disc_bins_item_disc_null</th>\n",
       "      <th>item_disc_bins_item_disc_sub_twenty</th>\n",
       "      <th>item_disc_bins_item_disc_sub_forty</th>\n",
       "      <th>item_disc_bins_item_disc_sub_sixty</th>\n",
       "      <th>item_disc_bins_item_disc_sub_eighty</th>\n",
       "      <th>item_disc_bins_item_disc_sub_hundred</th>\n",
       "    </tr>\n",
       "  </thead>\n",
       "  <tbody>\n",
       "    <tr>\n",
       "      <th>0</th>\n",
       "      <td>0</td>\n",
       "      <td>2022-04-29 18:29:49+08:00</td>\n",
       "      <td>1</td>\n",
       "      <td>Arzuaga blanco</td>\n",
       "      <td>49.0</td>\n",
       "      <td>0.0</td>\n",
       "      <td>0.0</td>\n",
       "      <td>1</td>\n",
       "      <td>0</td>\n",
       "      <td>0</td>\n",
       "      <td>0</td>\n",
       "      <td>0</td>\n",
       "      <td>0</td>\n",
       "    </tr>\n",
       "    <tr>\n",
       "      <th>1</th>\n",
       "      <td>0</td>\n",
       "      <td>2022-04-29 18:29:49+08:00</td>\n",
       "      <td>1</td>\n",
       "      <td>Arzuaga reserva</td>\n",
       "      <td>94.0</td>\n",
       "      <td>0.0</td>\n",
       "      <td>0.0</td>\n",
       "      <td>1</td>\n",
       "      <td>0</td>\n",
       "      <td>0</td>\n",
       "      <td>0</td>\n",
       "      <td>0</td>\n",
       "      <td>0</td>\n",
       "    </tr>\n",
       "  </tbody>\n",
       "</table>\n",
       "</div>"
      ],
      "text/plain": [
       "   customer_id                order_time  item_quantity          item_id  \\\n",
       "0            0 2022-04-29 18:29:49+08:00              1   Arzuaga blanco   \n",
       "1            0 2022-04-29 18:29:49+08:00              1  Arzuaga reserva   \n",
       "\n",
       "   item_price  item_discount_raw  item_discount_percentage  \\\n",
       "0        49.0                0.0                       0.0   \n",
       "1        94.0                0.0                       0.0   \n",
       "\n",
       "   item_disc_bins_item_disc_null  item_disc_bins_item_disc_sub_twenty  \\\n",
       "0                              1                                    0   \n",
       "1                              1                                    0   \n",
       "\n",
       "   item_disc_bins_item_disc_sub_forty  item_disc_bins_item_disc_sub_sixty  \\\n",
       "0                                   0                                   0   \n",
       "1                                   0                                   0   \n",
       "\n",
       "   item_disc_bins_item_disc_sub_eighty  item_disc_bins_item_disc_sub_hundred  \n",
       "0                                    0                                     0  \n",
       "1                                    0                                     0  "
      ]
     },
     "execution_count": 36,
     "metadata": {},
     "output_type": "execute_result"
    }
   ],
   "source": [
    "# remove time from datetime so we can groupby later\n",
    "\n",
    "df.drop(columns=df.columns[0], axis=1, inplace=True)\n",
    "df['order_time'] = pd.to_datetime(df['order_time'])\n",
    "df.head(2)"
   ]
  },
  {
   "cell_type": "code",
   "execution_count": 37,
   "id": "c2d77e4d",
   "metadata": {},
   "outputs": [
    {
     "data": {
      "text/plain": [
       "Index(['customer_id', 'order_time', 'item_quantity', 'item_id', 'item_price',\n",
       "       'item_discount_raw', 'item_discount_percentage',\n",
       "       'item_disc_bins_item_disc_null', 'item_disc_bins_item_disc_sub_twenty',\n",
       "       'item_disc_bins_item_disc_sub_forty',\n",
       "       'item_disc_bins_item_disc_sub_sixty',\n",
       "       'item_disc_bins_item_disc_sub_eighty',\n",
       "       'item_disc_bins_item_disc_sub_hundred'],\n",
       "      dtype='object')"
      ]
     },
     "execution_count": 37,
     "metadata": {},
     "output_type": "execute_result"
    }
   ],
   "source": [
    "df.columns"
   ]
  },
  {
   "cell_type": "code",
   "execution_count": 38,
   "id": "eeca01e3",
   "metadata": {},
   "outputs": [],
   "source": [
    "grouped = df[['order_time', 'item_id', 'item_quantity', 'item_price', \n",
    "              'item_disc_bins_item_disc_null', \n",
    "              'item_disc_bins_item_disc_sub_twenty',\n",
    "              'item_disc_bins_item_disc_sub_forty',\n",
    "              'item_disc_bins_item_disc_sub_sixty',\n",
    "              'item_disc_bins_item_disc_sub_eighty',\n",
    "              'item_disc_bins_item_disc_sub_hundred']]"
   ]
  },
  {
   "cell_type": "code",
   "execution_count": 39,
   "id": "251b5f6c",
   "metadata": {},
   "outputs": [],
   "source": [
    "groupedbyitem = grouped.groupby('item_id', group_keys=True).apply(lambda x:x)\n"
   ]
  },
  {
   "cell_type": "code",
   "execution_count": 40,
   "id": "48519383",
   "metadata": {},
   "outputs": [
    {
     "data": {
      "text/plain": [
       "Glassware                          728\n",
       "Wine Virgin                        325\n",
       "Rara Neagră de Purcari 2020        110\n",
       "Wine Nut                            86\n",
       "Puchang Beichun 2015                81\n",
       "                                  ... \n",
       "GT Spain                             1\n",
       "Blink Wines                          1\n",
       "Freehand Ormus Field Blend 2020      1\n",
       "Fumo olive oil                       1\n",
       "Muga Gift Set                        1\n",
       "Name: item_id, Length: 4481, dtype: int64"
      ]
     },
     "execution_count": 40,
     "metadata": {},
     "output_type": "execute_result"
    }
   ],
   "source": [
    "groupedbyitem['item_id'].value_counts()"
   ]
  },
  {
   "cell_type": "code",
   "execution_count": 41,
   "id": "54a358fa",
   "metadata": {},
   "outputs": [],
   "source": [
    "sample = groupedbyitem[groupedbyitem['item_id']=='Rara Neagră de Purcari 2020']"
   ]
  },
  {
   "cell_type": "markdown",
   "id": "3e6c1315",
   "metadata": {},
   "source": [
    "## Just looking @ the sample data first"
   ]
  },
  {
   "cell_type": "code",
   "execution_count": 42,
   "id": "5292fb6e",
   "metadata": {},
   "outputs": [
    {
     "name": "stderr",
     "output_type": "stream",
     "text": [
      "/var/folders/j9/hl0rz3wj6yb5zwjtn6qjs8bh0000gn/T/ipykernel_7294/1515691136.py:1: SettingWithCopyWarning: \n",
      "A value is trying to be set on a copy of a slice from a DataFrame\n",
      "\n",
      "See the caveats in the documentation: https://pandas.pydata.org/pandas-docs/stable/user_guide/indexing.html#returning-a-view-versus-a-copy\n",
      "  sample.sort_values(by='order_time', inplace=True)\n"
     ]
    }
   ],
   "source": [
    "sample.sort_values(by='order_time', inplace=True)"
   ]
  },
  {
   "cell_type": "code",
   "execution_count": 43,
   "id": "b8d21c41",
   "metadata": {},
   "outputs": [
    {
     "data": {
      "text/plain": [
       "[<matplotlib.lines.Line2D at 0x7fd8c6f42c40>]"
      ]
     },
     "execution_count": 43,
     "metadata": {},
     "output_type": "execute_result"
    },
    {
     "data": {
      "image/png": "[encoded data removed]",
      "text/plain": [
       "<Figure size 432x288 with 1 Axes>"
      ]
     },
     "metadata": {
      "needs_background": "light"
     },
     "output_type": "display_data"
    }
   ],
   "source": [
    "sample['item_id'].value_counts()\n",
    "x = sample['order_time']\n",
    "y = sample['item_quantity']\n",
    "plt.plot(x,y)"
   ]
  },
  {
   "cell_type": "code",
   "execution_count": 44,
   "id": "1dda3971",
   "metadata": {},
   "outputs": [
    {
     "data": {
      "text/html": [
       "<div>\n",
       "<style scoped>\n",
       "    .dataframe tbody tr th:only-of-type {\n",
       "        vertical-align: middle;\n",
       "    }\n",
       "\n",
       "    .dataframe tbody tr th {\n",
       "        vertical-align: top;\n",
       "    }\n",
       "\n",
       "    .dataframe thead th {\n",
       "        text-align: right;\n",
       "    }\n",
       "</style>\n",
       "<table border=\"1\" class=\"dataframe\">\n",
       "  <thead>\n",
       "    <tr style=\"text-align: right;\">\n",
       "      <th></th>\n",
       "      <th>order_time</th>\n",
       "      <th>item_id</th>\n",
       "      <th>item_quantity</th>\n",
       "      <th>item_price</th>\n",
       "      <th>item_disc_bins_item_disc_null</th>\n",
       "      <th>item_disc_bins_item_disc_sub_twenty</th>\n",
       "      <th>item_disc_bins_item_disc_sub_forty</th>\n",
       "      <th>item_disc_bins_item_disc_sub_sixty</th>\n",
       "      <th>item_disc_bins_item_disc_sub_eighty</th>\n",
       "      <th>item_disc_bins_item_disc_sub_hundred</th>\n",
       "    </tr>\n",
       "  </thead>\n",
       "  <tbody>\n",
       "    <tr>\n",
       "      <th>3775</th>\n",
       "      <td>2022-04-08 11:52:24+08:00</td>\n",
       "      <td>Rara Neagră de Purcari 2020</td>\n",
       "      <td>1</td>\n",
       "      <td>47.0</td>\n",
       "      <td>1</td>\n",
       "      <td>0</td>\n",
       "      <td>0</td>\n",
       "      <td>0</td>\n",
       "      <td>0</td>\n",
       "      <td>0</td>\n",
       "    </tr>\n",
       "  </tbody>\n",
       "</table>\n",
       "</div>"
      ],
      "text/plain": [
       "                    order_time                      item_id  item_quantity  \\\n",
       "3775 2022-04-08 11:52:24+08:00  Rara Neagră de Purcari 2020              1   \n",
       "\n",
       "      item_price  item_disc_bins_item_disc_null  \\\n",
       "3775        47.0                              1   \n",
       "\n",
       "      item_disc_bins_item_disc_sub_twenty  item_disc_bins_item_disc_sub_forty  \\\n",
       "3775                                    0                                   0   \n",
       "\n",
       "      item_disc_bins_item_disc_sub_sixty  item_disc_bins_item_disc_sub_eighty  \\\n",
       "3775                                   0                                    0   \n",
       "\n",
       "      item_disc_bins_item_disc_sub_hundred  \n",
       "3775                                     0  "
      ]
     },
     "execution_count": 44,
     "metadata": {},
     "output_type": "execute_result"
    }
   ],
   "source": [
    "sample.head(1)"
   ]
  },
  {
   "cell_type": "code",
   "execution_count": 45,
   "id": "7c04b45c",
   "metadata": {},
   "outputs": [
    {
     "name": "stderr",
     "output_type": "stream",
     "text": [
      "/var/folders/j9/hl0rz3wj6yb5zwjtn6qjs8bh0000gn/T/ipykernel_7294/2963820660.py:2: SettingWithCopyWarning: \n",
      "A value is trying to be set on a copy of a slice from a DataFrame\n",
      "\n",
      "See the caveats in the documentation: https://pandas.pydata.org/pandas-docs/stable/user_guide/indexing.html#returning-a-view-versus-a-copy\n",
      "  sample.drop(columns=sample.columns[1], axis=1, inplace=True)\n"
     ]
    }
   ],
   "source": [
    "# remove the item name\n",
    "sample.drop(columns=sample.columns[1], axis=1, inplace=True)\n",
    "\n",
    "# group by order time\n",
    "#sample = sample.groupby('order_time', group_keys=True).apply(lambda x:x)"
   ]
  },
  {
   "cell_type": "code",
   "execution_count": 46,
   "id": "7c3964ed",
   "metadata": {},
   "outputs": [
    {
     "data": {
      "text/html": [
       "<div>\n",
       "<style scoped>\n",
       "    .dataframe tbody tr th:only-of-type {\n",
       "        vertical-align: middle;\n",
       "    }\n",
       "\n",
       "    .dataframe tbody tr th {\n",
       "        vertical-align: top;\n",
       "    }\n",
       "\n",
       "    .dataframe thead th {\n",
       "        text-align: right;\n",
       "    }\n",
       "</style>\n",
       "<table border=\"1\" class=\"dataframe\">\n",
       "  <thead>\n",
       "    <tr style=\"text-align: right;\">\n",
       "      <th></th>\n",
       "      <th>order_time</th>\n",
       "      <th>item_quantity</th>\n",
       "      <th>item_price</th>\n",
       "      <th>item_disc_bins_item_disc_null</th>\n",
       "      <th>item_disc_bins_item_disc_sub_twenty</th>\n",
       "      <th>item_disc_bins_item_disc_sub_forty</th>\n",
       "      <th>item_disc_bins_item_disc_sub_sixty</th>\n",
       "      <th>item_disc_bins_item_disc_sub_eighty</th>\n",
       "      <th>item_disc_bins_item_disc_sub_hundred</th>\n",
       "    </tr>\n",
       "  </thead>\n",
       "  <tbody>\n",
       "    <tr>\n",
       "      <th>3775</th>\n",
       "      <td>2022-04-08 11:52:24+08:00</td>\n",
       "      <td>1</td>\n",
       "      <td>47.0</td>\n",
       "      <td>1</td>\n",
       "      <td>0</td>\n",
       "      <td>0</td>\n",
       "      <td>0</td>\n",
       "      <td>0</td>\n",
       "      <td>0</td>\n",
       "    </tr>\n",
       "    <tr>\n",
       "      <th>5026</th>\n",
       "      <td>2022-04-08 14:57:17+08:00</td>\n",
       "      <td>1</td>\n",
       "      <td>47.0</td>\n",
       "      <td>1</td>\n",
       "      <td>0</td>\n",
       "      <td>0</td>\n",
       "      <td>0</td>\n",
       "      <td>0</td>\n",
       "      <td>0</td>\n",
       "    </tr>\n",
       "  </tbody>\n",
       "</table>\n",
       "</div>"
      ],
      "text/plain": [
       "                    order_time  item_quantity  item_price  \\\n",
       "3775 2022-04-08 11:52:24+08:00              1        47.0   \n",
       "5026 2022-04-08 14:57:17+08:00              1        47.0   \n",
       "\n",
       "      item_disc_bins_item_disc_null  item_disc_bins_item_disc_sub_twenty  \\\n",
       "3775                              1                                    0   \n",
       "5026                              1                                    0   \n",
       "\n",
       "      item_disc_bins_item_disc_sub_forty  item_disc_bins_item_disc_sub_sixty  \\\n",
       "3775                                   0                                   0   \n",
       "5026                                   0                                   0   \n",
       "\n",
       "      item_disc_bins_item_disc_sub_eighty  \\\n",
       "3775                                    0   \n",
       "5026                                    0   \n",
       "\n",
       "      item_disc_bins_item_disc_sub_hundred  \n",
       "3775                                     0  \n",
       "5026                                     0  "
      ]
     },
     "execution_count": 46,
     "metadata": {},
     "output_type": "execute_result"
    }
   ],
   "source": [
    "sample.head(2)"
   ]
  },
  {
   "cell_type": "markdown",
   "id": "b2d52755",
   "metadata": {},
   "source": [
    "### MLR using sklearn"
   ]
  },
  {
   "cell_type": "code",
   "execution_count": 61,
   "id": "95ab6e52",
   "metadata": {},
   "outputs": [
    {
     "name": "stderr",
     "output_type": "stream",
     "text": [
      "/var/folders/j9/hl0rz3wj6yb5zwjtn6qjs8bh0000gn/T/ipykernel_7294/225775164.py:1: SettingWithCopyWarning: \n",
      "A value is trying to be set on a copy of a slice from a DataFrame\n",
      "\n",
      "See the caveats in the documentation: https://pandas.pydata.org/pandas-docs/stable/user_guide/indexing.html#returning-a-view-versus-a-copy\n",
      "  sample.sort_values(by='order_time', inplace=True)\n"
     ]
    },
    {
     "data": {
      "text/plain": [
       "[<matplotlib.lines.Line2D at 0x7fd8b64a8bb0>]"
      ]
     },
     "execution_count": 61,
     "metadata": {},
     "output_type": "execute_result"
    },
    {
     "data": {
      "image/png": "[encoded data removed]",
      "text/plain": [
       "<Figure size 432x288 with 1 Axes>"
      ]
     },
     "metadata": {
      "needs_background": "light"
     },
     "output_type": "display_data"
    }
   ],
   "source": [
    "sample.sort_values(by='order_time', inplace=True)\n",
    "x = sample['order_time']\n",
    "y = sample['item_quantity']\n",
    "plt.plot(x,y)"
   ]
  },
  {
   "cell_type": "code",
   "execution_count": 48,
   "id": "6413c340",
   "metadata": {},
   "outputs": [
    {
     "name": "stdout",
     "output_type": "stream",
     "text": [
      "<class 'pandas.core.frame.DataFrame'>\n",
      "Int64Index: 110 entries, 3775 to 15102\n",
      "Data columns (total 9 columns):\n",
      " #   Column                                Non-Null Count  Dtype                                \n",
      "---  ------                                --------------  -----                                \n",
      " 0   order_time                            110 non-null    datetime64[ns, pytz.FixedOffset(480)]\n",
      " 1   item_quantity                         110 non-null    int64                                \n",
      " 2   item_price                            110 non-null    float64                              \n",
      " 3   item_disc_bins_item_disc_null         110 non-null    int64                                \n",
      " 4   item_disc_bins_item_disc_sub_twenty   110 non-null    int64                                \n",
      " 5   item_disc_bins_item_disc_sub_forty    110 non-null    int64                                \n",
      " 6   item_disc_bins_item_disc_sub_sixty    110 non-null    int64                                \n",
      " 7   item_disc_bins_item_disc_sub_eighty   110 non-null    int64                                \n",
      " 8   item_disc_bins_item_disc_sub_hundred  110 non-null    int64                                \n",
      "dtypes: datetime64[ns, pytz.FixedOffset(480)](1), float64(1), int64(7)\n",
      "memory usage: 8.6 KB\n"
     ]
    }
   ],
   "source": [
    "sample.info()"
   ]
  },
  {
   "cell_type": "code",
   "execution_count": 62,
   "id": "7e0d45d3",
   "metadata": {},
   "outputs": [],
   "source": [
    "x = sample.drop(columns=['item_quantity'])\n",
    "y = sample['item_quantity']\n",
    "\n",
    "# change to timestamp objects\n",
    "x['order_time'] = x['order_time'].apply(pd.Timestamp.timestamp)"
   ]
  },
  {
   "cell_type": "code",
   "execution_count": 63,
   "id": "cee7d4a1",
   "metadata": {},
   "outputs": [],
   "source": [
    "from sklearn.model_selection import train_test_split\n",
    "x_train, x_test, y_train, y_test = train_test_split(x, y, test_size = 0.2, random_state = 42)"
   ]
  },
  {
   "cell_type": "code",
   "execution_count": 64,
   "id": "c4ed42de",
   "metadata": {},
   "outputs": [
    {
     "data": {
      "text/plain": [
       "LinearRegression()"
      ]
     },
     "execution_count": 64,
     "metadata": {},
     "output_type": "execute_result"
    }
   ],
   "source": [
    "#import sklearn\n",
    "from sklearn.linear_model import LinearRegression\n",
    "\n",
    "model = LinearRegression()\n",
    "\n",
    "model.fit(x_train, y_train)"
   ]
  },
  {
   "cell_type": "code",
   "execution_count": 65,
   "id": "717906bd",
   "metadata": {},
   "outputs": [],
   "source": [
    "import statsmodels.api as sm\n",
    "\n",
    "# add constant so stats model will give you regression coefficients\n",
    "x2 = sm.add_constant(x_train)\n"
   ]
  },
  {
   "cell_type": "code",
   "execution_count": 66,
   "id": "9b2ee94e",
   "metadata": {},
   "outputs": [
    {
     "data": {
      "text/html": [
       "<div>\n",
       "<style scoped>\n",
       "    .dataframe tbody tr th:only-of-type {\n",
       "        vertical-align: middle;\n",
       "    }\n",
       "\n",
       "    .dataframe tbody tr th {\n",
       "        vertical-align: top;\n",
       "    }\n",
       "\n",
       "    .dataframe thead th {\n",
       "        text-align: right;\n",
       "    }\n",
       "</style>\n",
       "<table border=\"1\" class=\"dataframe\">\n",
       "  <thead>\n",
       "    <tr style=\"text-align: right;\">\n",
       "      <th></th>\n",
       "      <th>const</th>\n",
       "      <th>order_time</th>\n",
       "      <th>item_price</th>\n",
       "      <th>item_disc_bins_item_disc_null</th>\n",
       "      <th>item_disc_bins_item_disc_sub_twenty</th>\n",
       "      <th>item_disc_bins_item_disc_sub_forty</th>\n",
       "      <th>item_disc_bins_item_disc_sub_sixty</th>\n",
       "      <th>item_disc_bins_item_disc_sub_eighty</th>\n",
       "      <th>item_disc_bins_item_disc_sub_hundred</th>\n",
       "    </tr>\n",
       "  </thead>\n",
       "  <tbody>\n",
       "    <tr>\n",
       "      <th>13393</th>\n",
       "      <td>1.0</td>\n",
       "      <td>1.674269e+09</td>\n",
       "      <td>50.0</td>\n",
       "      <td>1</td>\n",
       "      <td>0</td>\n",
       "      <td>0</td>\n",
       "      <td>0</td>\n",
       "      <td>0</td>\n",
       "      <td>0</td>\n",
       "    </tr>\n",
       "    <tr>\n",
       "      <th>13940</th>\n",
       "      <td>1.0</td>\n",
       "      <td>1.655736e+09</td>\n",
       "      <td>50.0</td>\n",
       "      <td>1</td>\n",
       "      <td>0</td>\n",
       "      <td>0</td>\n",
       "      <td>0</td>\n",
       "      <td>0</td>\n",
       "      <td>0</td>\n",
       "    </tr>\n",
       "    <tr>\n",
       "      <th>21381</th>\n",
       "      <td>1.0</td>\n",
       "      <td>1.655023e+09</td>\n",
       "      <td>50.0</td>\n",
       "      <td>1</td>\n",
       "      <td>0</td>\n",
       "      <td>0</td>\n",
       "      <td>0</td>\n",
       "      <td>0</td>\n",
       "      <td>0</td>\n",
       "    </tr>\n",
       "  </tbody>\n",
       "</table>\n",
       "</div>"
      ],
      "text/plain": [
       "       const    order_time  item_price  item_disc_bins_item_disc_null  \\\n",
       "13393    1.0  1.674269e+09        50.0                              1   \n",
       "13940    1.0  1.655736e+09        50.0                              1   \n",
       "21381    1.0  1.655023e+09        50.0                              1   \n",
       "\n",
       "       item_disc_bins_item_disc_sub_twenty  \\\n",
       "13393                                    0   \n",
       "13940                                    0   \n",
       "21381                                    0   \n",
       "\n",
       "       item_disc_bins_item_disc_sub_forty  item_disc_bins_item_disc_sub_sixty  \\\n",
       "13393                                   0                                   0   \n",
       "13940                                   0                                   0   \n",
       "21381                                   0                                   0   \n",
       "\n",
       "       item_disc_bins_item_disc_sub_eighty  \\\n",
       "13393                                    0   \n",
       "13940                                    0   \n",
       "21381                                    0   \n",
       "\n",
       "       item_disc_bins_item_disc_sub_hundred  \n",
       "13393                                     0  \n",
       "13940                                     0  \n",
       "21381                                     0  "
      ]
     },
     "execution_count": 66,
     "metadata": {},
     "output_type": "execute_result"
    }
   ],
   "source": [
    "x2.head(3)"
   ]
  },
  {
   "cell_type": "code",
   "execution_count": 67,
   "id": "f296dd92",
   "metadata": {},
   "outputs": [
    {
     "name": "stdout",
     "output_type": "stream",
     "text": [
      "                            OLS Regression Results                            \n",
      "==============================================================================\n",
      "Dep. Variable:          item_quantity   R-squared:                       0.061\n",
      "Model:                            OLS   Adj. R-squared:                  0.016\n",
      "Method:                 Least Squares   F-statistic:                     1.356\n",
      "Date:                Wed, 23 Aug 2023   Prob (F-statistic):              0.256\n",
      "Time:                        13:31:34   Log-Likelihood:                -122.80\n",
      "No. Observations:                  88   AIC:                             255.6\n",
      "Df Residuals:                      83   BIC:                             268.0\n",
      "Df Model:                           4                                         \n",
      "Covariance Type:            nonrobust                                         \n",
      "========================================================================================================\n",
      "                                           coef    std err          t      P>|t|      [0.025      0.975]\n",
      "--------------------------------------------------------------------------------------------------------\n",
      "const                                   -1.0706     15.466     -0.069      0.945     -31.831      29.690\n",
      "order_time                           -2.481e-09   8.86e-09     -0.280      0.780   -2.01e-08    1.51e-08\n",
      "item_price                               0.1471      0.342      0.430      0.668      -0.533       0.828\n",
      "item_disc_bins_item_disc_null           -0.7525      5.176     -0.145      0.885     -11.048       9.543\n",
      "item_disc_bins_item_disc_sub_twenty      0.8109      5.121      0.158      0.875      -9.375      10.997\n",
      "item_disc_bins_item_disc_sub_forty            0          0        nan        nan           0           0\n",
      "item_disc_bins_item_disc_sub_sixty            0          0        nan        nan           0           0\n",
      "item_disc_bins_item_disc_sub_eighty           0          0        nan        nan           0           0\n",
      "item_disc_bins_item_disc_sub_hundred    -1.1289      5.268     -0.214      0.831     -11.606       9.349\n",
      "==============================================================================\n",
      "Omnibus:                       76.054   Durbin-Watson:                   2.063\n",
      "Prob(Omnibus):                  0.000   Jarque-Bera (JB):              467.382\n",
      "Skew:                           2.840   Prob(JB):                    3.23e-102\n",
      "Kurtosis:                      12.757   Cond. No.                          inf\n",
      "==============================================================================\n",
      "\n",
      "Notes:\n",
      "[1] Standard Errors assume that the covariance matrix of the errors is correctly specified.\n",
      "[2] The smallest eigenvalue is      0. This might indicate that there are\n",
      "strong multicollinearity problems or that the design matrix is singular.\n"
     ]
    },
    {
     "name": "stderr",
     "output_type": "stream",
     "text": [
      "/Users/caraloo/opt/anaconda3/lib/python3.9/site-packages/statsmodels/regression/linear_model.py:1918: RuntimeWarning: divide by zero encountered in double_scalars\n",
      "  return np.sqrt(eigvals[0]/eigvals[-1])\n"
     ]
    }
   ],
   "source": [
    "# refit regression model using statsmodels\n",
    "model2 = sm.OLS(y_train, x2)\n",
    "model2_fit = model2.fit()\n",
    "print(model2_fit.summary())"
   ]
  },
  {
   "cell_type": "code",
   "execution_count": 68,
   "id": "3a83ac08",
   "metadata": {},
   "outputs": [],
   "source": [
    "# see predictions\n",
    "y_pred = model.predict(x_test)"
   ]
  },
  {
   "cell_type": "code",
   "execution_count": 70,
   "id": "86a18925",
   "metadata": {},
   "outputs": [
    {
     "name": "stdout",
     "output_type": "stream",
     "text": [
      "r2: 0.016511607477732393\n",
      "rmse: 1.1050938817172271\n"
     ]
    }
   ],
   "source": [
    "from sklearn import metrics\n",
    "\n",
    "r2 = metrics.r2_score(y_test, y_pred)\n",
    "rmse = np.sqrt(metrics.mean_squared_error(y_test,y_pred))\n",
    "\n",
    "print('r2: ' + str(r2))\n",
    "print('rmse: ' + str(rmse))"
   ]
  },
  {
   "cell_type": "code",
   "execution_count": null,
   "id": "ab50507c",
   "metadata": {},
   "outputs": [],
   "source": []
  },
  {
   "cell_type": "code",
   "execution_count": null,
   "id": "ea0cc789",
   "metadata": {},
   "outputs": [],
   "source": []
  },
  {
   "cell_type": "code",
   "execution_count": null,
   "id": "02015cb1",
   "metadata": {},
   "outputs": [],
   "source": []
  },
  {
   "cell_type": "markdown",
   "id": "5604e842",
   "metadata": {},
   "source": [
    "## Dump"
   ]
  },
  {
   "cell_type": "raw",
   "id": "d65fda39",
   "metadata": {},
   "source": [
    "# sample code for functions + apply to df\n",
    "\n",
    "def process_disc(item_discount_raw, item_price, item_quantity):\n",
    "    \n",
    "    # logic to handle if discount > item price\n",
    "    if float(item_discount_raw) <= float(item_price) * float(item_quantity):\n",
    "        total_amt = float(item_price) * float(item_quantity)\n",
    "        \n",
    "        if total_amt == 0:\n",
    "            return np.nan\n",
    "        \n",
    "        disc_percentage = (float(item_discount_raw) / total_amt) / float(item_quantity)\n",
    "        \n",
    "        return disc_percentage *100\n",
    "    return np.nan\n",
    "\n",
    "to_process['item_discount_percentage'] = to_process.apply(lambda x: process_disc(x['item_discount_raw'], x['item_price'], x['item_quantity']), axis=1)\n",
    "\n",
    "\n",
    "#to_process['item_discount_percentage'] = (to_process['item_discount_raw'] / to_process['item_price']*to_process['item_quantity']) / to_process['item_quantity']\n",
    "\n",
    "# handle cases where item_price == 0 as they would be NaN\n",
    "to_process['item_discount_percentage'].fillna(0, inplace=True)"
   ]
  },
  {
   "cell_type": "code",
   "execution_count": 40,
   "id": "6e12e40c",
   "metadata": {},
   "outputs": [
    {
     "ename": "ValueError",
     "evalue": "Pandas data cast to numpy dtype of object. Check input data with np.asarray(data).",
     "output_type": "error",
     "traceback": [
      "\u001b[0;31m---------------------------------------------------------------------------\u001b[0m",
      "\u001b[0;31mValueError\u001b[0m                                Traceback (most recent call last)",
      "Input \u001b[0;32mIn [40]\u001b[0m, in \u001b[0;36m<cell line: 20>\u001b[0;34m()\u001b[0m\n\u001b[1;32m     17\u001b[0m \u001b[38;5;66;03m# import VAR model and fit \u001b[39;00m\n\u001b[1;32m     18\u001b[0m \u001b[38;5;28;01mfrom\u001b[39;00m \u001b[38;5;21;01mstatsmodels\u001b[39;00m\u001b[38;5;21;01m.\u001b[39;00m\u001b[38;5;21;01mtsa\u001b[39;00m\u001b[38;5;21;01m.\u001b[39;00m\u001b[38;5;21;01mvector_ar\u001b[39;00m\u001b[38;5;21;01m.\u001b[39;00m\u001b[38;5;21;01mvar_model\u001b[39;00m \u001b[38;5;28;01mimport\u001b[39;00m VAR\n\u001b[0;32m---> 20\u001b[0m model \u001b[38;5;241m=\u001b[39m \u001b[43mVAR\u001b[49m\u001b[43m(\u001b[49m\u001b[43mendog\u001b[49m\u001b[38;5;241;43m=\u001b[39;49m\u001b[43mtrain\u001b[49m\u001b[43m)\u001b[49m\n\u001b[1;32m     21\u001b[0m model_fit \u001b[38;5;241m=\u001b[39m model\u001b[38;5;241m.\u001b[39mfit()\n\u001b[1;32m     23\u001b[0m \u001b[38;5;66;03m# make prediction on validation\u001b[39;00m\n",
      "File \u001b[0;32m~/opt/anaconda3/lib/python3.9/site-packages/statsmodels/tsa/vector_ar/var_model.py:551\u001b[0m, in \u001b[0;36mVAR.__init__\u001b[0;34m(self, endog, exog, dates, freq, missing)\u001b[0m\n\u001b[1;32m    548\u001b[0m \u001b[38;5;28;01mdef\u001b[39;00m \u001b[38;5;21m__init__\u001b[39m(\n\u001b[1;32m    549\u001b[0m     \u001b[38;5;28mself\u001b[39m, endog, exog\u001b[38;5;241m=\u001b[39m\u001b[38;5;28;01mNone\u001b[39;00m, dates\u001b[38;5;241m=\u001b[39m\u001b[38;5;28;01mNone\u001b[39;00m, freq\u001b[38;5;241m=\u001b[39m\u001b[38;5;28;01mNone\u001b[39;00m, missing\u001b[38;5;241m=\u001b[39m\u001b[38;5;124m\"\u001b[39m\u001b[38;5;124mnone\u001b[39m\u001b[38;5;124m\"\u001b[39m\n\u001b[1;32m    550\u001b[0m ):\n\u001b[0;32m--> 551\u001b[0m     \u001b[38;5;28;43msuper\u001b[39;49m\u001b[43m(\u001b[49m\u001b[43m)\u001b[49m\u001b[38;5;241;43m.\u001b[39;49m\u001b[38;5;21;43m__init__\u001b[39;49m\u001b[43m(\u001b[49m\u001b[43mendog\u001b[49m\u001b[43m,\u001b[49m\u001b[43m \u001b[49m\u001b[43mexog\u001b[49m\u001b[43m,\u001b[49m\u001b[43m \u001b[49m\u001b[43mdates\u001b[49m\u001b[43m,\u001b[49m\u001b[43m \u001b[49m\u001b[43mfreq\u001b[49m\u001b[43m,\u001b[49m\u001b[43m \u001b[49m\u001b[43mmissing\u001b[49m\u001b[38;5;241;43m=\u001b[39;49m\u001b[43mmissing\u001b[49m\u001b[43m)\u001b[49m\n\u001b[1;32m    552\u001b[0m     \u001b[38;5;28;01mif\u001b[39;00m \u001b[38;5;28mself\u001b[39m\u001b[38;5;241m.\u001b[39mendog\u001b[38;5;241m.\u001b[39mndim \u001b[38;5;241m==\u001b[39m \u001b[38;5;241m1\u001b[39m:\n\u001b[1;32m    553\u001b[0m         \u001b[38;5;28;01mraise\u001b[39;00m \u001b[38;5;167;01mValueError\u001b[39;00m(\u001b[38;5;124m\"\u001b[39m\u001b[38;5;124mOnly gave one variable to VAR\u001b[39m\u001b[38;5;124m\"\u001b[39m)\n",
      "File \u001b[0;32m~/opt/anaconda3/lib/python3.9/site-packages/statsmodels/tsa/base/tsa_model.py:468\u001b[0m, in \u001b[0;36mTimeSeriesModel.__init__\u001b[0;34m(self, endog, exog, dates, freq, missing, **kwargs)\u001b[0m\n\u001b[1;32m    465\u001b[0m \u001b[38;5;28;01mdef\u001b[39;00m \u001b[38;5;21m__init__\u001b[39m(\n\u001b[1;32m    466\u001b[0m     \u001b[38;5;28mself\u001b[39m, endog, exog\u001b[38;5;241m=\u001b[39m\u001b[38;5;28;01mNone\u001b[39;00m, dates\u001b[38;5;241m=\u001b[39m\u001b[38;5;28;01mNone\u001b[39;00m, freq\u001b[38;5;241m=\u001b[39m\u001b[38;5;28;01mNone\u001b[39;00m, missing\u001b[38;5;241m=\u001b[39m\u001b[38;5;124m\"\u001b[39m\u001b[38;5;124mnone\u001b[39m\u001b[38;5;124m\"\u001b[39m, \u001b[38;5;241m*\u001b[39m\u001b[38;5;241m*\u001b[39mkwargs\n\u001b[1;32m    467\u001b[0m ):\n\u001b[0;32m--> 468\u001b[0m     \u001b[38;5;28;43msuper\u001b[39;49m\u001b[43m(\u001b[49m\u001b[43m)\u001b[49m\u001b[38;5;241;43m.\u001b[39;49m\u001b[38;5;21;43m__init__\u001b[39;49m\u001b[43m(\u001b[49m\u001b[43mendog\u001b[49m\u001b[43m,\u001b[49m\u001b[43m \u001b[49m\u001b[43mexog\u001b[49m\u001b[43m,\u001b[49m\u001b[43m \u001b[49m\u001b[43mmissing\u001b[49m\u001b[38;5;241;43m=\u001b[39;49m\u001b[43mmissing\u001b[49m\u001b[43m,\u001b[49m\u001b[43m \u001b[49m\u001b[38;5;241;43m*\u001b[39;49m\u001b[38;5;241;43m*\u001b[39;49m\u001b[43mkwargs\u001b[49m\u001b[43m)\u001b[49m\n\u001b[1;32m    470\u001b[0m     \u001b[38;5;66;03m# Date handling in indexes\u001b[39;00m\n\u001b[1;32m    471\u001b[0m     \u001b[38;5;28mself\u001b[39m\u001b[38;5;241m.\u001b[39m_init_dates(dates, freq)\n",
      "File \u001b[0;32m~/opt/anaconda3/lib/python3.9/site-packages/statsmodels/base/model.py:267\u001b[0m, in \u001b[0;36mLikelihoodModel.__init__\u001b[0;34m(self, endog, exog, **kwargs)\u001b[0m\n\u001b[1;32m    266\u001b[0m \u001b[38;5;28;01mdef\u001b[39;00m \u001b[38;5;21m__init__\u001b[39m(\u001b[38;5;28mself\u001b[39m, endog, exog\u001b[38;5;241m=\u001b[39m\u001b[38;5;28;01mNone\u001b[39;00m, \u001b[38;5;241m*\u001b[39m\u001b[38;5;241m*\u001b[39mkwargs):\n\u001b[0;32m--> 267\u001b[0m     \u001b[38;5;28;43msuper\u001b[39;49m\u001b[43m(\u001b[49m\u001b[43m)\u001b[49m\u001b[38;5;241;43m.\u001b[39;49m\u001b[38;5;21;43m__init__\u001b[39;49m\u001b[43m(\u001b[49m\u001b[43mendog\u001b[49m\u001b[43m,\u001b[49m\u001b[43m \u001b[49m\u001b[43mexog\u001b[49m\u001b[43m,\u001b[49m\u001b[43m \u001b[49m\u001b[38;5;241;43m*\u001b[39;49m\u001b[38;5;241;43m*\u001b[39;49m\u001b[43mkwargs\u001b[49m\u001b[43m)\u001b[49m\n\u001b[1;32m    268\u001b[0m     \u001b[38;5;28mself\u001b[39m\u001b[38;5;241m.\u001b[39minitialize()\n",
      "File \u001b[0;32m~/opt/anaconda3/lib/python3.9/site-packages/statsmodels/base/model.py:92\u001b[0m, in \u001b[0;36mModel.__init__\u001b[0;34m(self, endog, exog, **kwargs)\u001b[0m\n\u001b[1;32m     90\u001b[0m missing \u001b[38;5;241m=\u001b[39m kwargs\u001b[38;5;241m.\u001b[39mpop(\u001b[38;5;124m'\u001b[39m\u001b[38;5;124mmissing\u001b[39m\u001b[38;5;124m'\u001b[39m, \u001b[38;5;124m'\u001b[39m\u001b[38;5;124mnone\u001b[39m\u001b[38;5;124m'\u001b[39m)\n\u001b[1;32m     91\u001b[0m hasconst \u001b[38;5;241m=\u001b[39m kwargs\u001b[38;5;241m.\u001b[39mpop(\u001b[38;5;124m'\u001b[39m\u001b[38;5;124mhasconst\u001b[39m\u001b[38;5;124m'\u001b[39m, \u001b[38;5;28;01mNone\u001b[39;00m)\n\u001b[0;32m---> 92\u001b[0m \u001b[38;5;28mself\u001b[39m\u001b[38;5;241m.\u001b[39mdata \u001b[38;5;241m=\u001b[39m \u001b[38;5;28;43mself\u001b[39;49m\u001b[38;5;241;43m.\u001b[39;49m\u001b[43m_handle_data\u001b[49m\u001b[43m(\u001b[49m\u001b[43mendog\u001b[49m\u001b[43m,\u001b[49m\u001b[43m \u001b[49m\u001b[43mexog\u001b[49m\u001b[43m,\u001b[49m\u001b[43m \u001b[49m\u001b[43mmissing\u001b[49m\u001b[43m,\u001b[49m\u001b[43m \u001b[49m\u001b[43mhasconst\u001b[49m\u001b[43m,\u001b[49m\n\u001b[1;32m     93\u001b[0m \u001b[43m                              \u001b[49m\u001b[38;5;241;43m*\u001b[39;49m\u001b[38;5;241;43m*\u001b[39;49m\u001b[43mkwargs\u001b[49m\u001b[43m)\u001b[49m\n\u001b[1;32m     94\u001b[0m \u001b[38;5;28mself\u001b[39m\u001b[38;5;241m.\u001b[39mk_constant \u001b[38;5;241m=\u001b[39m \u001b[38;5;28mself\u001b[39m\u001b[38;5;241m.\u001b[39mdata\u001b[38;5;241m.\u001b[39mk_constant\n\u001b[1;32m     95\u001b[0m \u001b[38;5;28mself\u001b[39m\u001b[38;5;241m.\u001b[39mexog \u001b[38;5;241m=\u001b[39m \u001b[38;5;28mself\u001b[39m\u001b[38;5;241m.\u001b[39mdata\u001b[38;5;241m.\u001b[39mexog\n",
      "File \u001b[0;32m~/opt/anaconda3/lib/python3.9/site-packages/statsmodels/base/model.py:132\u001b[0m, in \u001b[0;36mModel._handle_data\u001b[0;34m(self, endog, exog, missing, hasconst, **kwargs)\u001b[0m\n\u001b[1;32m    131\u001b[0m \u001b[38;5;28;01mdef\u001b[39;00m \u001b[38;5;21m_handle_data\u001b[39m(\u001b[38;5;28mself\u001b[39m, endog, exog, missing, hasconst, \u001b[38;5;241m*\u001b[39m\u001b[38;5;241m*\u001b[39mkwargs):\n\u001b[0;32m--> 132\u001b[0m     data \u001b[38;5;241m=\u001b[39m \u001b[43mhandle_data\u001b[49m\u001b[43m(\u001b[49m\u001b[43mendog\u001b[49m\u001b[43m,\u001b[49m\u001b[43m \u001b[49m\u001b[43mexog\u001b[49m\u001b[43m,\u001b[49m\u001b[43m \u001b[49m\u001b[43mmissing\u001b[49m\u001b[43m,\u001b[49m\u001b[43m \u001b[49m\u001b[43mhasconst\u001b[49m\u001b[43m,\u001b[49m\u001b[43m \u001b[49m\u001b[38;5;241;43m*\u001b[39;49m\u001b[38;5;241;43m*\u001b[39;49m\u001b[43mkwargs\u001b[49m\u001b[43m)\u001b[49m\n\u001b[1;32m    133\u001b[0m     \u001b[38;5;66;03m# kwargs arrays could have changed, easier to just attach here\u001b[39;00m\n\u001b[1;32m    134\u001b[0m     \u001b[38;5;28;01mfor\u001b[39;00m key \u001b[38;5;129;01min\u001b[39;00m kwargs:\n",
      "File \u001b[0;32m~/opt/anaconda3/lib/python3.9/site-packages/statsmodels/base/data.py:673\u001b[0m, in \u001b[0;36mhandle_data\u001b[0;34m(endog, exog, missing, hasconst, **kwargs)\u001b[0m\n\u001b[1;32m    670\u001b[0m     exog \u001b[38;5;241m=\u001b[39m np\u001b[38;5;241m.\u001b[39masarray(exog)\n\u001b[1;32m    672\u001b[0m klass \u001b[38;5;241m=\u001b[39m handle_data_class_factory(endog, exog)\n\u001b[0;32m--> 673\u001b[0m \u001b[38;5;28;01mreturn\u001b[39;00m \u001b[43mklass\u001b[49m\u001b[43m(\u001b[49m\u001b[43mendog\u001b[49m\u001b[43m,\u001b[49m\u001b[43m \u001b[49m\u001b[43mexog\u001b[49m\u001b[38;5;241;43m=\u001b[39;49m\u001b[43mexog\u001b[49m\u001b[43m,\u001b[49m\u001b[43m \u001b[49m\u001b[43mmissing\u001b[49m\u001b[38;5;241;43m=\u001b[39;49m\u001b[43mmissing\u001b[49m\u001b[43m,\u001b[49m\u001b[43m \u001b[49m\u001b[43mhasconst\u001b[49m\u001b[38;5;241;43m=\u001b[39;49m\u001b[43mhasconst\u001b[49m\u001b[43m,\u001b[49m\n\u001b[1;32m    674\u001b[0m \u001b[43m             \u001b[49m\u001b[38;5;241;43m*\u001b[39;49m\u001b[38;5;241;43m*\u001b[39;49m\u001b[43mkwargs\u001b[49m\u001b[43m)\u001b[49m\n",
      "File \u001b[0;32m~/opt/anaconda3/lib/python3.9/site-packages/statsmodels/base/data.py:82\u001b[0m, in \u001b[0;36mModelData.__init__\u001b[0;34m(self, endog, exog, missing, hasconst, **kwargs)\u001b[0m\n\u001b[1;32m     80\u001b[0m     \u001b[38;5;28mself\u001b[39m\u001b[38;5;241m.\u001b[39morig_endog \u001b[38;5;241m=\u001b[39m endog\n\u001b[1;32m     81\u001b[0m     \u001b[38;5;28mself\u001b[39m\u001b[38;5;241m.\u001b[39morig_exog \u001b[38;5;241m=\u001b[39m exog\n\u001b[0;32m---> 82\u001b[0m     \u001b[38;5;28mself\u001b[39m\u001b[38;5;241m.\u001b[39mendog, \u001b[38;5;28mself\u001b[39m\u001b[38;5;241m.\u001b[39mexog \u001b[38;5;241m=\u001b[39m \u001b[38;5;28;43mself\u001b[39;49m\u001b[38;5;241;43m.\u001b[39;49m\u001b[43m_convert_endog_exog\u001b[49m\u001b[43m(\u001b[49m\u001b[43mendog\u001b[49m\u001b[43m,\u001b[49m\u001b[43m \u001b[49m\u001b[43mexog\u001b[49m\u001b[43m)\u001b[49m\n\u001b[1;32m     84\u001b[0m \u001b[38;5;28mself\u001b[39m\u001b[38;5;241m.\u001b[39mconst_idx \u001b[38;5;241m=\u001b[39m \u001b[38;5;28;01mNone\u001b[39;00m\n\u001b[1;32m     85\u001b[0m \u001b[38;5;28mself\u001b[39m\u001b[38;5;241m.\u001b[39mk_constant \u001b[38;5;241m=\u001b[39m \u001b[38;5;241m0\u001b[39m\n",
      "File \u001b[0;32m~/opt/anaconda3/lib/python3.9/site-packages/statsmodels/base/data.py:507\u001b[0m, in \u001b[0;36mPandasData._convert_endog_exog\u001b[0;34m(self, endog, exog)\u001b[0m\n\u001b[1;32m    505\u001b[0m exog \u001b[38;5;241m=\u001b[39m exog \u001b[38;5;28;01mif\u001b[39;00m exog \u001b[38;5;129;01mis\u001b[39;00m \u001b[38;5;28;01mNone\u001b[39;00m \u001b[38;5;28;01melse\u001b[39;00m np\u001b[38;5;241m.\u001b[39masarray(exog)\n\u001b[1;32m    506\u001b[0m \u001b[38;5;28;01mif\u001b[39;00m endog\u001b[38;5;241m.\u001b[39mdtype \u001b[38;5;241m==\u001b[39m \u001b[38;5;28mobject\u001b[39m \u001b[38;5;129;01mor\u001b[39;00m exog \u001b[38;5;129;01mis\u001b[39;00m \u001b[38;5;129;01mnot\u001b[39;00m \u001b[38;5;28;01mNone\u001b[39;00m \u001b[38;5;129;01mand\u001b[39;00m exog\u001b[38;5;241m.\u001b[39mdtype \u001b[38;5;241m==\u001b[39m \u001b[38;5;28mobject\u001b[39m:\n\u001b[0;32m--> 507\u001b[0m     \u001b[38;5;28;01mraise\u001b[39;00m \u001b[38;5;167;01mValueError\u001b[39;00m(\u001b[38;5;124m\"\u001b[39m\u001b[38;5;124mPandas data cast to numpy dtype of object. \u001b[39m\u001b[38;5;124m\"\u001b[39m\n\u001b[1;32m    508\u001b[0m                      \u001b[38;5;124m\"\u001b[39m\u001b[38;5;124mCheck input data with np.asarray(data).\u001b[39m\u001b[38;5;124m\"\u001b[39m)\n\u001b[1;32m    509\u001b[0m \u001b[38;5;28;01mreturn\u001b[39;00m \u001b[38;5;28msuper\u001b[39m(PandasData, \u001b[38;5;28mself\u001b[39m)\u001b[38;5;241m.\u001b[39m_convert_endog_exog(endog, exog)\n",
      "\u001b[0;31mValueError\u001b[0m: Pandas data cast to numpy dtype of object. Check input data with np.asarray(data)."
     ]
    }
   ],
   "source": [
    "# train 80% and test 20%\n",
    "train = sample[:int(0.8*(len(sample)))]\n",
    "test = sample[int(0.8*(len(sample))):]\n",
    "\n",
    "dates = sample['order_time']\n",
    "data = sample[['item_quantity', 'item_price',\n",
    "               'item_disc_bins_item_disc_null', \n",
    "               'item_disc_bins_item_disc_sub_twenty',\n",
    "               'item_disc_bins_item_disc_sub_forty',\n",
    "               'item_disc_bins_item_disc_sub_sixty',\n",
    "               'item_disc_bins_item_disc_sub_eighty',\n",
    "               'item_disc_bins_item_disc_sub_hundred']]\n",
    "\n",
    "data = data.astype(float)\n",
    "data.index = pd.DatetimeIndex(dates)\n",
    "\n",
    "# import VAR model and fit \n",
    "from statsmodels.tsa.vector_ar.var_model import VAR\n",
    "\n",
    "model = VAR(endog=train)\n",
    "model_fit = model.fit()\n",
    "\n",
    "# make prediction on validation\n",
    "prediction = model_fit.forecast(model_fit.y, steps=len(test))"
   ]
  }
 ],
 "metadata": {
  "kernelspec": {
   "display_name": "Python 3 (ipykernel)",
   "language": "python",
   "name": "python3"
  },
  "language_info": {
   "codemirror_mode": {
    "name": "ipython",
    "version": 3
   },
   "file_extension": ".py",
   "mimetype": "text/x-python",
   "name": "python",
   "nbconvert_exporter": "python",
   "pygments_lexer": "ipython3",
   "version": "3.9.12"
  }
 },
 "nbformat": 4,
 "nbformat_minor": 5
}
