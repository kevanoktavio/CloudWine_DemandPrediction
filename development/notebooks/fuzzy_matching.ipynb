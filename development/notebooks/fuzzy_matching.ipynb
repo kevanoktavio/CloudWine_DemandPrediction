{
 "cells": [
  {
   "cell_type": "markdown",
   "metadata": {},
   "source": [
    "# Import Required Libraries"
   ]
  },
  {
   "cell_type": "code",
   "execution_count": 23,
   "metadata": {},
   "outputs": [],
   "source": [
    "from fuzzywuzzy import fuzz\n",
    "import pandas as pd\n",
    "import re # use regular expression (regex) operations on top of fuzzscore\n",
    "import time"
   ]
  },
  {
   "cell_type": "markdown",
   "metadata": {},
   "source": [
    "# Use Case 1: Match BBW Products with BBW Orders"
   ]
  },
  {
   "cell_type": "code",
   "execution_count": 30,
   "metadata": {},
   "outputs": [
    {
     "name": "stdout",
     "output_type": "stream",
     "text": [
      "Products df shape: (2355, 3)\n",
      "Orders df shape: (19467, 13)\n",
      "Merged df shape: (19467, 16)\n"
     ]
    }
   ],
   "source": [
    "# === get product & order data === #\n",
    "products_df = pd.read_csv('../datasets/products.csv')\n",
    "products_df = products_df[['product_name','shopify_product_id','product_type']]\n",
    "\n",
    "products_df[\"product_name\"].value_counts() # we see that there are duplicates\n",
    "products_df = products_df.drop_duplicates(subset=['product_name'])\n",
    "print('Products df shape: ' + str(products_df.shape))\n",
    "\n",
    "orders_df = pd.read_csv('../datasets/cleaned_orders.csv')\n",
    "print('Orders df shape: ' + str(orders_df.shape))\n",
    "\n",
    "# === merge product & order data to find exact matches of product name === #\n",
    "merged = orders_df.merge(products_df, left_on='item_id', right_on=\"product_name\", how=\"left\")\n",
    "print('Merged df shape: ' + str(merged.shape))"
   ]
  },
  {
   "cell_type": "code",
   "execution_count": 31,
   "metadata": {},
   "outputs": [
    {
     "name": "stdout",
     "output_type": "stream",
     "text": [
      "merged_cleaned df shape: (10444, 16)\n",
      "dropped df shape: (9023, 16)\n"
     ]
    }
   ],
   "source": [
    "# merged_cleaned: contains all the orders that have exact matches to product name from product data\n",
    "merged_cleaned = merged.dropna(subset=['shopify_product_id'])\n",
    "print('merged_cleaned df shape: ' + str(merged_cleaned.shape))\n",
    "\n",
    "# dropped: contains all the orders that don't have exact matches\n",
    "dropped = merged[merged['shopify_product_id'].isna()]\n",
    "print('dropped df shape: ' + str(dropped.shape))\n",
    "\n",
    "# === to check which order items have been dropped === #\n",
    "# values = dropped['item_id'].value_counts()\n",
    "# values.to_csv('datasets/items_dropped.csv')"
   ]
  },
  {
   "cell_type": "code",
   "execution_count": 32,
   "metadata": {},
   "outputs": [],
   "source": [
    "# products dictionary, key: product_name, values: { shopify_product_id, product_type } \n",
    "products_dict = products_df.set_index('product_name').to_dict('index') "
   ]
  },
  {
   "cell_type": "code",
   "execution_count": 33,
   "metadata": {},
   "outputs": [],
   "source": [
    "copied_dropped = dropped.copy() # orders with no exact product name matches\n",
    "\n",
    "for index, row in dropped.iterrows():\n",
    "    # preliminary checks to reduce comp power -> check if substring inside pdt dict keys\n",
    "    volume_pattern = r'(- \\d+\\s*(ml|ML|l|L))'  # Match digits followed by \"ml,\", \"ML\", \"L,\" or \"l\"\n",
    "    year_pattern = r'(\\b\\d{4}\\b)'  # Match year/vintage\n",
    "    # Remove volume & year patterns from the string\n",
    "    string = re.sub(volume_pattern, '', row['item_id'], flags=re.IGNORECASE) # case-insensitive\n",
    "    string = re.sub(year_pattern, '', string)\n",
    "    res = [key for key in products_dict.keys() if string in key]\n",
    "\n",
    "    fuzzthreshold = 70 # threshold for fuzzy score - currently an arbitrary number\n",
    "\n",
    "    if len(res) == 0: # if the new string gives no matches, do fuzzy score with pdt dict\n",
    "        max_score = 0\n",
    "        best_match = \"\"\n",
    "        for key in products_dict.keys():\n",
    "            if fuzz.ratio(row['item_id'], key) > max_score and max_score >= fuzzthreshold:\n",
    "                best_match = key\n",
    "                max_score = fuzz.ratio(row['item_id'], key)\n",
    "\n",
    "    if len(res) >= 1:\n",
    "        scores = []\n",
    "        for pdt in res: # find similarity score based on ORIGINAL pdt name from orders data\n",
    "            scores.append(fuzz.ratio(row['item_id'], pdt))\n",
    "        max_score = max(scores) # find max score - best match\n",
    "        best_match = res[scores.index(max_score)]\n",
    "\n",
    "    if max_score >= fuzzthreshold:\n",
    "        copied_dropped.at[index, 'product_name'] = best_match\n",
    "        copied_dropped.at[index, 'shopify_product_id'] = products_dict[best_match]['shopify_product_id']\n",
    "        copied_dropped.at[index, 'product_type'] = products_dict[best_match]['product_type']"
   ]
  },
  {
   "cell_type": "code",
   "execution_count": 34,
   "metadata": {},
   "outputs": [
    {
     "name": "stdout",
     "output_type": "stream",
     "text": [
      "merged_cleaned2 df shape: (3744, 16)\n",
      "final df shape: (14188, 16)\n"
     ]
    }
   ],
   "source": [
    "# merged_cleaned2: contains orders that have good-enough product name matches\n",
    "merged_cleaned2 = copied_dropped.dropna(subset=['shopify_product_id'])\n",
    "print('merged_cleaned2 df shape: ' + str(merged_cleaned2.shape))\n",
    "\n",
    "# final: all matched products from 1st & 2nd round of matching\n",
    "final = pd.concat([merged_cleaned, merged_cleaned2], ignore_index=True)\n",
    "print('final df shape: ' + str(final.shape))"
   ]
  },
  {
   "cell_type": "code",
   "execution_count": 36,
   "metadata": {},
   "outputs": [],
   "source": [
    "final.to_csv('../datasets/matched_orders.csv')"
   ]
  },
  {
   "cell_type": "markdown",
   "metadata": {},
   "source": [
    "# Use Case 2: Match BBW Products with Competitors' Products"
   ]
  },
  {
   "cell_type": "code",
   "execution_count": null,
   "metadata": {},
   "outputs": [],
   "source": []
  }
 ],
 "metadata": {
  "kernelspec": {
   "display_name": "base",
   "language": "python",
   "name": "python3"
  },
  "language_info": {
   "codemirror_mode": {
    "name": "ipython",
    "version": 3
   },
   "file_extension": ".py",
   "mimetype": "text/x-python",
   "name": "python",
   "nbconvert_exporter": "python",
   "pygments_lexer": "ipython3",
   "version": "3.9.12"
  },
  "orig_nbformat": 4
 },
 "nbformat": 4,
 "nbformat_minor": 2
}
