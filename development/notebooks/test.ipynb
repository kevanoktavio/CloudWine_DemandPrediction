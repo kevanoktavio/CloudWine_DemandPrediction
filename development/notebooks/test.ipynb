{
 "cells": [
  {
   "cell_type": "code",
   "execution_count": 1,
   "metadata": {},
   "outputs": [],
   "source": [
    "import pandas as pd"
   ]
  },
  {
   "cell_type": "code",
   "execution_count": 28,
   "metadata": {},
   "outputs": [],
   "source": [
    "df = pd.read_csv('../datasets/matched_orders_with_metafields.csv')"
   ]
  },
  {
   "cell_type": "code",
   "execution_count": 29,
   "metadata": {},
   "outputs": [
    {
     "name": "stdout",
     "output_type": "stream",
     "text": [
      "(14307, 71)\n",
      "Index(['Unnamed: 0', 'customer_id', 'order_date', 'order_time', 'sku',\n",
      "       'item_id', 'item_quantity', 'item_price', 'item_discount_raw',\n",
      "       'item_discount_percentage', 'item_disc_bins_item_disc_null',\n",
      "       'item_disc_bins_item_disc_sub_twenty',\n",
      "       'item_disc_bins_item_disc_sub_forty',\n",
      "       'item_disc_bins_item_disc_sub_sixty',\n",
      "       'item_disc_bins_item_disc_sub_eighty',\n",
      "       'item_disc_bins_item_disc_sub_hundred', 'product_name',\n",
      "       'shopify_product_id', 'product_type', 'title_tag', 'gender',\n",
      "       'condition', 'acidity', 'black_fruit', 'country', 'dryness',\n",
      "       'fermentation', 'glass', 'grape', 'maker', 'oak',\n",
      "       'one_liner_description', 'region', 'spices', 'tannin', 'alcohol_',\n",
      "       'body', 'one_liner', 'serving_temperature', 'western_food_pairing',\n",
      "       'food_pairing', 'stone_fruit', 'dried_fruit', 'regional_varietals',\n",
      "       'google_product_type', 'red_fruit', 'awards', 'floral', 'herbasceous',\n",
      "       'citrus', 'google_product_category', 'sustainability',\n",
      "       'fermentation_method', 'fermentation_duration', 'winemaking_techniques',\n",
      "       'primary_notes', 'secondary_taste_notes', 'earthy', 'herbs',\n",
      "       'winemaking_practices', 'decant', 'review_data', 'mineral', 'varietal',\n",
      "       'tree_fruit', 'yeasty', 'tropical_fruit', 'rating', 'rating_count',\n",
      "       'reviews', 'description_tag'],\n",
      "      dtype='object')\n"
     ]
    },
    {
     "data": {
      "text/html": [
       "<div>\n",
       "<style scoped>\n",
       "    .dataframe tbody tr th:only-of-type {\n",
       "        vertical-align: middle;\n",
       "    }\n",
       "\n",
       "    .dataframe tbody tr th {\n",
       "        vertical-align: top;\n",
       "    }\n",
       "\n",
       "    .dataframe thead th {\n",
       "        text-align: right;\n",
       "    }\n",
       "</style>\n",
       "<table border=\"1\" class=\"dataframe\">\n",
       "  <thead>\n",
       "    <tr style=\"text-align: right;\">\n",
       "      <th></th>\n",
       "      <th>Unnamed: 0</th>\n",
       "      <th>customer_id</th>\n",
       "      <th>order_date</th>\n",
       "      <th>order_time</th>\n",
       "      <th>sku</th>\n",
       "      <th>item_id</th>\n",
       "      <th>item_quantity</th>\n",
       "      <th>item_price</th>\n",
       "      <th>item_discount_raw</th>\n",
       "      <th>item_discount_percentage</th>\n",
       "      <th>...</th>\n",
       "      <th>review_data</th>\n",
       "      <th>mineral</th>\n",
       "      <th>varietal</th>\n",
       "      <th>tree_fruit</th>\n",
       "      <th>yeasty</th>\n",
       "      <th>tropical_fruit</th>\n",
       "      <th>rating</th>\n",
       "      <th>rating_count</th>\n",
       "      <th>reviews</th>\n",
       "      <th>description_tag</th>\n",
       "    </tr>\n",
       "  </thead>\n",
       "  <tbody>\n",
       "    <tr>\n",
       "      <th>0</th>\n",
       "      <td>0</td>\n",
       "      <td>3</td>\n",
       "      <td>2023-07-20</td>\n",
       "      <td>17:00:28</td>\n",
       "      <td>NaN</td>\n",
       "      <td>Ziereisen Blauer Spatburgunder 2017</td>\n",
       "      <td>1.0</td>\n",
       "      <td>50.0</td>\n",
       "      <td>0.0</td>\n",
       "      <td>0.0</td>\n",
       "      <td>...</td>\n",
       "      <td>NaN</td>\n",
       "      <td>NaN</td>\n",
       "      <td>NaN</td>\n",
       "      <td>NaN</td>\n",
       "      <td>NaN</td>\n",
       "      <td>NaN</td>\n",
       "      <td>NaN</td>\n",
       "      <td>NaN</td>\n",
       "      <td>NaN</td>\n",
       "      <td>NaN</td>\n",
       "    </tr>\n",
       "    <tr>\n",
       "      <th>1</th>\n",
       "      <td>1</td>\n",
       "      <td>3</td>\n",
       "      <td>2023-07-20</td>\n",
       "      <td>17:00:28</td>\n",
       "      <td>NaN</td>\n",
       "      <td>Corte Moschina I Tarai 2020</td>\n",
       "      <td>1.0</td>\n",
       "      <td>44.0</td>\n",
       "      <td>0.0</td>\n",
       "      <td>0.0</td>\n",
       "      <td>...</td>\n",
       "      <td>NaN</td>\n",
       "      <td>NaN</td>\n",
       "      <td>NaN</td>\n",
       "      <td>NaN</td>\n",
       "      <td>NaN</td>\n",
       "      <td>NaN</td>\n",
       "      <td>NaN</td>\n",
       "      <td>NaN</td>\n",
       "      <td>NaN</td>\n",
       "      <td>NaN</td>\n",
       "    </tr>\n",
       "    <tr>\n",
       "      <th>2</th>\n",
       "      <td>2</td>\n",
       "      <td>3</td>\n",
       "      <td>2023-07-20</td>\n",
       "      <td>17:00:28</td>\n",
       "      <td>NaN</td>\n",
       "      <td>Cascina Chicco Birbet NV</td>\n",
       "      <td>1.0</td>\n",
       "      <td>32.0</td>\n",
       "      <td>0.0</td>\n",
       "      <td>0.0</td>\n",
       "      <td>...</td>\n",
       "      <td>NaN</td>\n",
       "      <td>NaN</td>\n",
       "      <td>NaN</td>\n",
       "      <td>NaN</td>\n",
       "      <td>NaN</td>\n",
       "      <td>NaN</td>\n",
       "      <td>NaN</td>\n",
       "      <td>NaN</td>\n",
       "      <td>NaN</td>\n",
       "      <td>NaN</td>\n",
       "    </tr>\n",
       "    <tr>\n",
       "      <th>3</th>\n",
       "      <td>3</td>\n",
       "      <td>7</td>\n",
       "      <td>2022-05-29</td>\n",
       "      <td>20:43:58</td>\n",
       "      <td>BBW-WINE-153</td>\n",
       "      <td>Loveblock Gewurztraminer 2020</td>\n",
       "      <td>1.0</td>\n",
       "      <td>44.0</td>\n",
       "      <td>0.0</td>\n",
       "      <td>0.0</td>\n",
       "      <td>...</td>\n",
       "      <td>NaN</td>\n",
       "      <td>NaN</td>\n",
       "      <td>[\"Gewürztraminer\"]</td>\n",
       "      <td>NaN</td>\n",
       "      <td>NaN</td>\n",
       "      <td>Guava, Lychee</td>\n",
       "      <td>NaN</td>\n",
       "      <td>NaN</td>\n",
       "      <td>NaN</td>\n",
       "      <td>NaN</td>\n",
       "    </tr>\n",
       "    <tr>\n",
       "      <th>4</th>\n",
       "      <td>4</td>\n",
       "      <td>7</td>\n",
       "      <td>2022-05-29</td>\n",
       "      <td>20:43:58</td>\n",
       "      <td>NaN</td>\n",
       "      <td>Southern Right Pinotage 2020</td>\n",
       "      <td>1.0</td>\n",
       "      <td>56.0</td>\n",
       "      <td>0.0</td>\n",
       "      <td>0.0</td>\n",
       "      <td>...</td>\n",
       "      <td>NaN</td>\n",
       "      <td>NaN</td>\n",
       "      <td>NaN</td>\n",
       "      <td>NaN</td>\n",
       "      <td>NaN</td>\n",
       "      <td>NaN</td>\n",
       "      <td>NaN</td>\n",
       "      <td>NaN</td>\n",
       "      <td>NaN</td>\n",
       "      <td>NaN</td>\n",
       "    </tr>\n",
       "  </tbody>\n",
       "</table>\n",
       "<p>5 rows × 71 columns</p>\n",
       "</div>"
      ],
      "text/plain": [
       "   Unnamed: 0  customer_id  order_date order_time           sku  \\\n",
       "0           0            3  2023-07-20   17:00:28           NaN   \n",
       "1           1            3  2023-07-20   17:00:28           NaN   \n",
       "2           2            3  2023-07-20   17:00:28           NaN   \n",
       "3           3            7  2022-05-29   20:43:58  BBW-WINE-153   \n",
       "4           4            7  2022-05-29   20:43:58           NaN   \n",
       "\n",
       "                               item_id  item_quantity  item_price  \\\n",
       "0  Ziereisen Blauer Spatburgunder 2017            1.0        50.0   \n",
       "1          Corte Moschina I Tarai 2020            1.0        44.0   \n",
       "2             Cascina Chicco Birbet NV            1.0        32.0   \n",
       "3        Loveblock Gewurztraminer 2020            1.0        44.0   \n",
       "4         Southern Right Pinotage 2020            1.0        56.0   \n",
       "\n",
       "   item_discount_raw  item_discount_percentage  ...  review_data  mineral  \\\n",
       "0                0.0                       0.0  ...          NaN      NaN   \n",
       "1                0.0                       0.0  ...          NaN      NaN   \n",
       "2                0.0                       0.0  ...          NaN      NaN   \n",
       "3                0.0                       0.0  ...          NaN      NaN   \n",
       "4                0.0                       0.0  ...          NaN      NaN   \n",
       "\n",
       "             varietal  tree_fruit  yeasty  tropical_fruit rating  \\\n",
       "0                 NaN         NaN     NaN             NaN    NaN   \n",
       "1                 NaN         NaN     NaN             NaN    NaN   \n",
       "2                 NaN         NaN     NaN             NaN    NaN   \n",
       "3  [\"Gewürztraminer\"]         NaN     NaN   Guava, Lychee    NaN   \n",
       "4                 NaN         NaN     NaN             NaN    NaN   \n",
       "\n",
       "   rating_count reviews description_tag  \n",
       "0           NaN     NaN             NaN  \n",
       "1           NaN     NaN             NaN  \n",
       "2           NaN     NaN             NaN  \n",
       "3           NaN     NaN             NaN  \n",
       "4           NaN     NaN             NaN  \n",
       "\n",
       "[5 rows x 71 columns]"
      ]
     },
     "execution_count": 29,
     "metadata": {},
     "output_type": "execute_result"
    }
   ],
   "source": [
    "print(df.shape)\n",
    "print(df.columns)\n",
    "df.head(5)"
   ]
  },
  {
   "cell_type": "code",
   "execution_count": 30,
   "metadata": {},
   "outputs": [],
   "source": [
    "item_names_to_exclude = [\n",
    "    'tasting', 'workshop', 'event', 'bundle', 'subscription', \n",
    "    'venue booking', 'engagement', 'jancis', 'zalto', \n",
    "    'outstanding balance', 'cheese', 'wine addict', 'wine virgin', 'wine nut', \n",
    "    'shopee', 'crackers', 'chip', 'pretzel', 'chili', 'nuts',\n",
    "    'harvest box', 'coconut water', 'tonic water', 'lavender water', 'sparkling water', \n",
    "    'dash water', 'fiji water', 'all shook up', 'mezete', 'dinner', \n",
    "    'catering', 'service', 'barbecue', 'barbeque', 'charcuterie', 'platter',\n",
    "    'decanter', 'case of', 'networking', 'shiok', 'cappuccino', 'latte', \n",
    "    'soda', 'sparkling juice', 'hamper', 'zieher', 'gift card', 'gift set',\n",
    "    'hunny bunny', 'sampl', 'misc', 'combo', 'pax', 'pizza', 'bbq', \n",
    "    'glassware', 'snowboard', 'chocolate', 'gift wrap', 'bottled water', \n",
    "    \"riedel 'vinum'\", \"riedel 'extreme'\", 'riedel winewings',\n",
    "    'wine ambassador series', 'wine stoppers', 'pasta', 'tomato sauce', \n",
    "    'gift message', 'olive oil', 'magazine'\n",
    "]"
   ]
  },
  {
   "cell_type": "code",
   "execution_count": 31,
   "metadata": {},
   "outputs": [
    {
     "name": "stdout",
     "output_type": "stream",
     "text": [
      "(14154, 71)\n"
     ]
    }
   ],
   "source": [
    "df1 = df[~df['item_id'].str.lower().str.contains('|'.join(item_names_to_exclude))]\n",
    "df1.reset_index(drop=True, inplace=True)\n",
    "print(df1.shape)"
   ]
  },
  {
   "cell_type": "code",
   "execution_count": 32,
   "metadata": {},
   "outputs": [
    {
     "data": {
      "text/plain": [
       "product_type\n",
       "Red Wine            8206\n",
       "White Wine          3393\n",
       "Sparkling Wine       953\n",
       "Orange Wine          406\n",
       "Rose Wine            339\n",
       "Dessert Wine         299\n",
       "Sake                 111\n",
       "Fortified Wine       104\n",
       "Gin                   73\n",
       "Cocktail Mixes        53\n",
       "No Alcohol Wine       46\n",
       "Whiskey               24\n",
       "Wine                  22\n",
       "Hard Cider            18\n",
       "Gift & Hamper         13\n",
       "Vodka                 11\n",
       "Tequila               10\n",
       "Liqueurs              10\n",
       "Rum                    9\n",
       "Syrup                  9\n",
       "Beer                   6\n",
       "Quince                 5\n",
       "Wine Aerators          4\n",
       "Mezcal                 3\n",
       "Snack Foods            3\n",
       "Liquor & Spirits       2\n",
       "Cognac                 1\n",
       "Whiskey Cream          1\n",
       "Soda                   1\n",
       "Armagnac               1\n",
       "Juice                  1\n",
       "Name: count, dtype: int64"
      ]
     },
     "execution_count": 32,
     "metadata": {},
     "output_type": "execute_result"
    }
   ],
   "source": [
    "df1['product_type'].value_counts()"
   ]
  },
  {
   "cell_type": "code",
   "execution_count": 33,
   "metadata": {},
   "outputs": [],
   "source": [
    "product_types_to_exclude = [\n",
    "    'Chips', 'Coffee', 'Dips & Spreads', 'Event Tickets', 'Gift & Hamper', 'Gift Message', 'Snack Foods',\n",
    "    'Stemware', 'Wine Aerators', 'Water', 'Vitamins & Supplements', 'Candy & Chocolate', 'Bottle Stoppers & Savers'\n",
    "]"
   ]
  },
  {
   "cell_type": "code",
   "execution_count": 34,
   "metadata": {},
   "outputs": [
    {
     "name": "stdout",
     "output_type": "stream",
     "text": [
      "(14134, 71)\n"
     ]
    }
   ],
   "source": [
    "df2 = df1[~df1['product_type'].isin(product_types_to_exclude)]\n",
    "print(df2.shape)"
   ]
  },
  {
   "cell_type": "code",
   "execution_count": 35,
   "metadata": {},
   "outputs": [
    {
     "data": {
      "text/plain": [
       "product_type\n",
       "Red Wine            8206\n",
       "White Wine          3393\n",
       "Sparkling Wine       953\n",
       "Orange Wine          406\n",
       "Rose Wine            339\n",
       "Dessert Wine         299\n",
       "Sake                 111\n",
       "Fortified Wine       104\n",
       "Gin                   73\n",
       "Cocktail Mixes        53\n",
       "No Alcohol Wine       46\n",
       "Whiskey               24\n",
       "Wine                  22\n",
       "Hard Cider            18\n",
       "Vodka                 11\n",
       "Tequila               10\n",
       "Liqueurs              10\n",
       "Syrup                  9\n",
       "Rum                    9\n",
       "Beer                   6\n",
       "Quince                 5\n",
       "Mezcal                 3\n",
       "Liquor & Spirits       2\n",
       "Cognac                 1\n",
       "Whiskey Cream          1\n",
       "Soda                   1\n",
       "Armagnac               1\n",
       "Juice                  1\n",
       "Name: count, dtype: int64"
      ]
     },
     "execution_count": 35,
     "metadata": {},
     "output_type": "execute_result"
    }
   ],
   "source": [
    "df2['product_type'].value_counts()"
   ]
  },
  {
   "cell_type": "code",
   "execution_count": 36,
   "metadata": {},
   "outputs": [],
   "source": [
    "df2.to_csv('../datasets/orders_with_metafields.csv')"
   ]
  },
  {
   "cell_type": "code",
   "execution_count": null,
   "metadata": {},
   "outputs": [],
   "source": []
  }
 ],
 "metadata": {
  "kernelspec": {
   "display_name": "base",
   "language": "python",
   "name": "python3"
  },
  "language_info": {
   "codemirror_mode": {
    "name": "ipython",
    "version": 3
   },
   "file_extension": ".py",
   "mimetype": "text/x-python",
   "name": "python",
   "nbconvert_exporter": "python",
   "pygments_lexer": "ipython3",
   "version": "3.9.12"
  }
 },
 "nbformat": 4,
 "nbformat_minor": 2
}
