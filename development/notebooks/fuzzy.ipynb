{
 "cells": [
  {
   "cell_type": "code",
   "execution_count": 3,
   "metadata": {},
   "outputs": [],
   "source": [
    "import pandas as pd\n",
    "import time\n",
    "\n",
    "from selenium import webdriver # obtain the ChromeDriver compatible with the version of the browser being used\n",
    "from selenium.webdriver.chrome.service import Service\n",
    "from webdriver_manager.chrome import ChromeDriverManager\n",
    "from selenium.webdriver.support.ui import WebDriverWait\n",
    "from selenium.webdriver.support import expected_conditions as EC\n",
    "\n",
    "from selenium.webdriver.common.by import By\n",
    "from selenium.webdriver.support.select import Select\n",
    "from selenium.webdriver import ActionChains\n",
    "from selenium.common.exceptions import NoSuchElementException\n",
    "\n",
    "import chromedriver_binary  # Adds chromedriver binary to path"
   ]
  },
  {
   "cell_type": "markdown",
   "metadata": {},
   "source": [
    "### Get Scraped Data"
   ]
  },
  {
   "cell_type": "code",
   "execution_count": 8,
   "metadata": {},
   "outputs": [
    {
     "name": "stdout",
     "output_type": "stream",
     "text": [
      "Collecting chromedriver-binary==118.0.5993.70\n",
      "  Downloading chromedriver-binary-118.0.5993.70.0.tar.gz (5.6 kB)\n",
      "Building wheels for collected packages: chromedriver-binary\n",
      "  Building wheel for chromedriver-binary (setup.py) ... \u001b[?25ldone\n",
      "\u001b[?25h  Created wheel for chromedriver-binary: filename=chromedriver_binary-118.0.5993.70.0-py3-none-any.whl size=8580913 sha256=c73529a2dd631d6c793866fb278db99057a22feef09a0ef1f32f83d0e36a70de\n",
      "  Stored in directory: /Users/caraloo/Library/Caches/pip/wheels/fd/7f/3f/309dd48b6941f29f20692d46d5cf148415a344f46f279f7d2f\n",
      "Successfully built chromedriver-binary\n",
      "Installing collected packages: chromedriver-binary\n",
      "  Attempting uninstall: chromedriver-binary\n",
      "    Found existing installation: chromedriver-binary 119.0.6022.0.0\n",
      "    Uninstalling chromedriver-binary-119.0.6022.0.0:\n",
      "      Successfully uninstalled chromedriver-binary-119.0.6022.0.0\n",
      "Successfully installed chromedriver-binary-118.0.5993.70.0\n",
      "Note: you may need to restart the kernel to use updated packages.\n"
     ]
    }
   ],
   "source": [
    "%pip install chromedriver-binary==118.0.5993.70"
   ]
  },
  {
   "cell_type": "code",
   "execution_count": 17,
   "metadata": {},
   "outputs": [
    {
     "name": "stdout",
     "output_type": "stream",
     "text": [
      "page: 1\n",
      "page: 2\n",
      "page: 3\n",
      "page: 4\n",
      "page: 5\n",
      "page: 6\n",
      "page: 7\n",
      "page: 8\n",
      "page: 9\n",
      "page: 10\n",
      "page: 11\n",
      "page: 12\n",
      "page: 13\n",
      "page: 14\n",
      "page: 15\n"
     ]
    }
   ],
   "source": [
    "driver = webdriver.Chrome()\n",
    "wait = WebDriverWait(driver, 10)\n",
    "url = \"https://www.winelistasia.com/online-shop.html\"\n",
    "driver.maximize_window()\n",
    "driver.get(url)\n",
    "time.sleep(3)\n",
    "\n",
    "i = 1\n",
    "# df = pd.DataFrame(columns=['Product_Name', 'Scraped_Data_Price', 'Product_In_Stock'])\n",
    "product_names = []\n",
    "while i <= 15: # 15 pages on the website\n",
    "    print(\"page: \" + str(i))\n",
    "    try:\n",
    "        wines = driver.find_elements(By.XPATH, \"//div[@class='product-grid__info']\")\n",
    "        for card in wines:\n",
    "            wine = card.text.split('\\n')\n",
    "            if len(wine) >= 3: # only take the products, those with len()<3 are other parts of the page\n",
    "                product_names.append(wine[0])\n",
    "                \"\"\" temp = [wine[0]]\n",
    "                price = wine[1].replace('SGD ','').replace(',', '').split(' ')\n",
    "                if len(price) > 1: # len(list)>1 if there's discount\n",
    "                    temp.append(float(price[1]))\n",
    "                else:\n",
    "                    temp.append(float(price[0]))\n",
    "                if wine[2] == 'Sold out':\n",
    "                    temp.append(False)\n",
    "                else:\n",
    "                    temp.append(True)\n",
    "                df.loc[len(df)] = temp \"\"\"\n",
    "    except NoSuchElementException:\n",
    "        pass\n",
    "    try: # toggle pages\n",
    "        button = driver.find_element(By.XPATH, \"//a[@class='product-grid__paging--link product-grid--next js-products-next']\")\n",
    "        driver.execute_script(\"arguments[0].click();\", button)\n",
    "        time.sleep(10)\n",
    "    except NoSuchElementException:\n",
    "        print(\"The element does not exist / has not loaded yet.\")\n",
    "    i += 1\n",
    "\n",
    "#df.drop_duplicates(subset=\"Product_Name\", keep='first', inplace=True)\n",
    "#df['Supplier_Name'] = 'Winelistasia'"
   ]
  },
  {
   "cell_type": "code",
   "execution_count": 19,
   "metadata": {},
   "outputs": [
    {
     "name": "stdout",
     "output_type": "stream",
     "text": [
      "342\n"
     ]
    }
   ],
   "source": [
    "print(len(product_names))\n",
    "# product_names"
   ]
  },
  {
   "cell_type": "markdown",
   "metadata": {},
   "source": [
    "### Get BBW Product Data"
   ]
  },
  {
   "cell_type": "code",
   "execution_count": 41,
   "metadata": {},
   "outputs": [],
   "source": [
    "bbw_products = pd.read_csv('../datasets/products.csv')\n",
    "bbw_products = bbw_products[['product_name','price']]\n",
    "bbw_products.set_index('product_name',inplace=True)\n",
    "bbw = bbw_products.to_dict()['price']"
   ]
  },
  {
   "cell_type": "code",
   "execution_count": 50,
   "metadata": {},
   "outputs": [
    {
     "name": "stdout",
     "output_type": "stream",
     "text": [
      "2355\n"
     ]
    },
    {
     "data": {
      "text/plain": [
       "['Ken Forrester T Noble Late Harvest 2018 375ML',\n",
       " 'Imako Constellation Chardonnay 2019',\n",
       " 'Champagne Le Brun de Neuville Autolyse Noirs & Blancs Champagne Brut NV',\n",
       " 'Champagne Le Brun de Neuville Millesime Extra Brut 2009',\n",
       " 'Champagne Le Brun de Neuville Cote Blanche Blanc de Blancs Brut NV 375ML']"
      ]
     },
     "execution_count": 50,
     "metadata": {},
     "output_type": "execute_result"
    }
   ],
   "source": [
    "print(len(bbw))\n",
    "list(bbw.keys())[0:5]"
   ]
  },
  {
   "cell_type": "markdown",
   "metadata": {},
   "source": [
    "# Match Scraped Products to BBW Products"
   ]
  },
  {
   "cell_type": "code",
   "execution_count": 45,
   "metadata": {},
   "outputs": [],
   "source": [
    "import re # use regex to match our keyword\n",
    "from fuzzywuzzy import fuzz"
   ]
  },
  {
   "cell_type": "code",
   "execution_count": 91,
   "metadata": {},
   "outputs": [],
   "source": [
    "test = pd.DataFrame(columns=['winelistasia_pdt_name', 'match_wo_regex', 'max_score_wo_regex'])\n",
    "\n",
    "for name in product_names:\n",
    "    max_score = 0\n",
    "    matched_name = ''\n",
    "    for wine in list(bbw.keys()):\n",
    "        score = fuzz.ratio(name.lower(), wine.lower())\n",
    "        if score > max_score:\n",
    "            matched_name = wine\n",
    "            max_score = score\n",
    "    if max_score >= 70:\n",
    "        test.loc[len(test)] = [name, matched_name, max_score]\n",
    "    else:\n",
    "        test.loc[len(test)] = [name, matched_name, max_score]"
   ]
  },
  {
   "cell_type": "code",
   "execution_count": 81,
   "metadata": {},
   "outputs": [],
   "source": [
    "def remove_re_patterns(string):\n",
    "    volume_pattern = r'(- \\d+\\s*(ml|ML|l|L))'  # Match digits followed by \"ml,\", \"ML\", \"L,\" or \"l\"\n",
    "    year_pattern = r'( \\b\\d{4}\\b)'  # Match year/vintage\n",
    "    new_string = re.sub(volume_pattern, '', string, flags=re.IGNORECASE) # case-insensitive\n",
    "    new_string = re.sub(year_pattern, '', string)\n",
    "    new_string = re.sub('[^a-zA-Z0-9 \\n\\.]', '', new_string)\n",
    "    return new_string"
   ]
  },
  {
   "cell_type": "code",
   "execution_count": 92,
   "metadata": {},
   "outputs": [],
   "source": [
    "test2 = pd.DataFrame(columns=['winelistasia_pdt_name', 'match_w_regex', 'max_score_w_regex'])\n",
    "\n",
    "for name in product_names:\n",
    "    edited_name = remove_re_patterns(name)\n",
    "    substrings = edited_name.split(' ')\n",
    "\n",
    "    possible_matches = []\n",
    "    for substring in substrings:\n",
    "        if substring != '':\n",
    "            possible_matches += [key for key in bbw.keys() if substring in key]\n",
    "    unique_possible_matches = set(possible_matches)\n",
    "    \n",
    "    max_score = 0\n",
    "    matched_name = ''\n",
    "    for wine in list(unique_possible_matches):\n",
    "        score = fuzz.ratio(name.lower(), wine.lower())\n",
    "        if score > max_score:\n",
    "            matched_name = wine\n",
    "            max_score = score\n",
    "    if max_score >= 70:\n",
    "        test2.loc[len(test2)] = [name, matched_name, max_score]\n",
    "    else:\n",
    "        test2.loc[len(test2)] = [name, matched_name, max_score]"
   ]
  },
  {
   "cell_type": "markdown",
   "metadata": {},
   "source": [
    "## Compare Results\n",
    "- whole thing runs faster with regex\n",
    "- maybe fuzz.ratio takes a while?\n",
    "- now check the actual matching -> does it give the same result? (it defo should la)"
   ]
  },
  {
   "cell_type": "code",
   "execution_count": 93,
   "metadata": {},
   "outputs": [
    {
     "name": "stdout",
     "output_type": "stream",
     "text": [
      "(342, 3)\n",
      "(342, 3)\n"
     ]
    }
   ],
   "source": [
    "print(test.shape) # without regex\n",
    "print(test2.shape) # with regex"
   ]
  },
  {
   "cell_type": "code",
   "execution_count": 95,
   "metadata": {},
   "outputs": [
    {
     "name": "stdout",
     "output_type": "stream",
     "text": [
      "(342, 5)\n"
     ]
    }
   ],
   "source": [
    "merged = test.merge(test2, on='winelistasia_pdt_name')\n",
    "print(merged.shape)"
   ]
  },
  {
   "cell_type": "code",
   "execution_count": 96,
   "metadata": {},
   "outputs": [
    {
     "data": {
      "text/html": [
       "<div>\n",
       "<style scoped>\n",
       "    .dataframe tbody tr th:only-of-type {\n",
       "        vertical-align: middle;\n",
       "    }\n",
       "\n",
       "    .dataframe tbody tr th {\n",
       "        vertical-align: top;\n",
       "    }\n",
       "\n",
       "    .dataframe thead th {\n",
       "        text-align: right;\n",
       "    }\n",
       "</style>\n",
       "<table border=\"1\" class=\"dataframe\">\n",
       "  <thead>\n",
       "    <tr style=\"text-align: right;\">\n",
       "      <th></th>\n",
       "      <th>winelistasia_pdt_name</th>\n",
       "      <th>match_wo_regex</th>\n",
       "      <th>max_score_wo_regex</th>\n",
       "      <th>match_w_regex</th>\n",
       "      <th>max_score_w_regex</th>\n",
       "    </tr>\n",
       "  </thead>\n",
       "  <tbody>\n",
       "    <tr>\n",
       "      <th>0</th>\n",
       "      <td>Sartori - Soave Classico DOC 2022</td>\n",
       "      <td>Sartori Soave Classico DOC 2017</td>\n",
       "      <td>91</td>\n",
       "      <td>Sartori Soave Classico DOC 2017</td>\n",
       "      <td>91</td>\n",
       "    </tr>\n",
       "    <tr>\n",
       "      <th>1</th>\n",
       "      <td>Sartori - Pinot Grigio delle Venezie DOC 2022</td>\n",
       "      <td>Cesari Pinot Grigio Fiorile delle Venezie 2020...</td>\n",
       "      <td>74</td>\n",
       "      <td>Cesari Pinot Grigio Fiorile delle Venezie 2020...</td>\n",
       "      <td>74</td>\n",
       "    </tr>\n",
       "    <tr>\n",
       "      <th>2</th>\n",
       "      <td>Sartori - Pinot Grigio \"Arcole\" DOC 2018</td>\n",
       "      <td>Freixenet Pinot Grigio Garda DOC 2021</td>\n",
       "      <td>68</td>\n",
       "      <td>Freixenet Pinot Grigio Garda DOC 2021</td>\n",
       "      <td>68</td>\n",
       "    </tr>\n",
       "    <tr>\n",
       "      <th>3</th>\n",
       "      <td>Sartori - Soave Classico \"Sella\" DOC 2022</td>\n",
       "      <td>Sartori Soave Classico DOC 2017</td>\n",
       "      <td>81</td>\n",
       "      <td>Sartori Soave Classico DOC 2017</td>\n",
       "      <td>81</td>\n",
       "    </tr>\n",
       "    <tr>\n",
       "      <th>4</th>\n",
       "      <td>Sartori - Bianco Veronese \"Marani\" IGT 2021</td>\n",
       "      <td>Sartori Bianco Veronese \"Marani\" IGT 2021</td>\n",
       "      <td>98</td>\n",
       "      <td>Sartori Bianco Veronese \"Marani\" IGT 2021</td>\n",
       "      <td>98</td>\n",
       "    </tr>\n",
       "    <tr>\n",
       "      <th>...</th>\n",
       "      <td>...</td>\n",
       "      <td>...</td>\n",
       "      <td>...</td>\n",
       "      <td>...</td>\n",
       "      <td>...</td>\n",
       "    </tr>\n",
       "    <tr>\n",
       "      <th>337</th>\n",
       "      <td>Eugenio Collavini - Merlot \"Di Casa\" DOC 2019</td>\n",
       "      <td>Eugenio Collavini Spumante \"Il Grigio\" NV</td>\n",
       "      <td>60</td>\n",
       "      <td>Eugenio Collavini Spumante \"Il Grigio\" NV</td>\n",
       "      <td>60</td>\n",
       "    </tr>\n",
       "    <tr>\n",
       "      <th>338</th>\n",
       "      <td>Eugenio Collavini - Friulano DOC 2021</td>\n",
       "      <td>Unico Zelo Alluvium Fiano 2021</td>\n",
       "      <td>63</td>\n",
       "      <td>Eugenio Collavini Spumante \"Il Grigio\" NV</td>\n",
       "      <td>62</td>\n",
       "    </tr>\n",
       "    <tr>\n",
       "      <th>339</th>\n",
       "      <td>Domaine La Biscarelle - Chateaunouf Du Pape AO...</td>\n",
       "      <td>Chateau de la Font du Loup Chateauneuf du Pape...</td>\n",
       "      <td>60</td>\n",
       "      <td>Domaines OTT Clos Mireille Rosé Coeur de Grain...</td>\n",
       "      <td>60</td>\n",
       "    </tr>\n",
       "    <tr>\n",
       "      <th>340</th>\n",
       "      <td>Domaine La Biscarelle - Chateaunouf Du Pape \"L...</td>\n",
       "      <td>Famille Perrin Châteauneuf-du-Pape Les Sinards...</td>\n",
       "      <td>58</td>\n",
       "      <td>Famille Perrin Châteauneuf-du-Pape Les Sinards...</td>\n",
       "      <td>58</td>\n",
       "    </tr>\n",
       "    <tr>\n",
       "      <th>341</th>\n",
       "      <td>Domaine La Biscarelle - Vin de France - Rhone ...</td>\n",
       "      <td>Domaine La Bohème Vin de France ‘Môl’ 2019</td>\n",
       "      <td>62</td>\n",
       "      <td>Domaine La Bohème Vin de France ‘Môl’ 2019</td>\n",
       "      <td>62</td>\n",
       "    </tr>\n",
       "  </tbody>\n",
       "</table>\n",
       "<p>342 rows × 5 columns</p>\n",
       "</div>"
      ],
      "text/plain": [
       "                                 winelistasia_pdt_name  \\\n",
       "0                    Sartori - Soave Classico DOC 2022   \n",
       "1        Sartori - Pinot Grigio delle Venezie DOC 2022   \n",
       "2             Sartori - Pinot Grigio \"Arcole\" DOC 2018   \n",
       "3            Sartori - Soave Classico \"Sella\" DOC 2022   \n",
       "4          Sartori - Bianco Veronese \"Marani\" IGT 2021   \n",
       "..                                                 ...   \n",
       "337      Eugenio Collavini - Merlot \"Di Casa\" DOC 2019   \n",
       "338              Eugenio Collavini - Friulano DOC 2021   \n",
       "339  Domaine La Biscarelle - Chateaunouf Du Pape AO...   \n",
       "340  Domaine La Biscarelle - Chateaunouf Du Pape \"L...   \n",
       "341  Domaine La Biscarelle - Vin de France - Rhone ...   \n",
       "\n",
       "                                        match_wo_regex  max_score_wo_regex  \\\n",
       "0                      Sartori Soave Classico DOC 2017                  91   \n",
       "1    Cesari Pinot Grigio Fiorile delle Venezie 2020...                  74   \n",
       "2                Freixenet Pinot Grigio Garda DOC 2021                  68   \n",
       "3                      Sartori Soave Classico DOC 2017                  81   \n",
       "4            Sartori Bianco Veronese \"Marani\" IGT 2021                  98   \n",
       "..                                                 ...                 ...   \n",
       "337          Eugenio Collavini Spumante \"Il Grigio\" NV                  60   \n",
       "338                     Unico Zelo Alluvium Fiano 2021                  63   \n",
       "339  Chateau de la Font du Loup Chateauneuf du Pape...                  60   \n",
       "340  Famille Perrin Châteauneuf-du-Pape Les Sinards...                  58   \n",
       "341         Domaine La Bohème Vin de France ‘Môl’ 2019                  62   \n",
       "\n",
       "                                         match_w_regex  max_score_w_regex  \n",
       "0                      Sartori Soave Classico DOC 2017                 91  \n",
       "1    Cesari Pinot Grigio Fiorile delle Venezie 2020...                 74  \n",
       "2                Freixenet Pinot Grigio Garda DOC 2021                 68  \n",
       "3                      Sartori Soave Classico DOC 2017                 81  \n",
       "4            Sartori Bianco Veronese \"Marani\" IGT 2021                 98  \n",
       "..                                                 ...                ...  \n",
       "337          Eugenio Collavini Spumante \"Il Grigio\" NV                 60  \n",
       "338          Eugenio Collavini Spumante \"Il Grigio\" NV                 62  \n",
       "339  Domaines OTT Clos Mireille Rosé Coeur de Grain...                 60  \n",
       "340  Famille Perrin Châteauneuf-du-Pape Les Sinards...                 58  \n",
       "341         Domaine La Bohème Vin de France ‘Môl’ 2019                 62  \n",
       "\n",
       "[342 rows x 5 columns]"
      ]
     },
     "execution_count": 96,
     "metadata": {},
     "output_type": "execute_result"
    }
   ],
   "source": [
    "merged"
   ]
  }
 ],
 "metadata": {
  "kernelspec": {
   "display_name": "base",
   "language": "python",
   "name": "python3"
  },
  "language_info": {
   "codemirror_mode": {
    "name": "ipython",
    "version": 3
   },
   "file_extension": ".py",
   "mimetype": "text/x-python",
   "name": "python",
   "nbconvert_exporter": "python",
   "pygments_lexer": "ipython3",
   "version": "3.9.12"
  }
 },
 "nbformat": 4,
 "nbformat_minor": 2
}
