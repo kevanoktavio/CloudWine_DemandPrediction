{
 "cells": [
  {
   "cell_type": "code",
   "execution_count": 1,
   "id": "06bd9312",
   "metadata": {},
   "outputs": [],
   "source": [
    "# import the necessary libraries\n",
    "\n",
    "import pandas as pd\n",
    "import numpy as np\n",
    "import matplotlib.pyplot as plt\n",
    "import pmdarima\n",
    "\n",
    "# for Model Training\n",
    "from pmdarima import auto_arima\n",
    "from statsmodels.tsa.arima.model import ARIMA\n",
    "import itertools\n",
    "import statsmodels.api as sm\n",
    "from sklearn.model_selection import train_test_split\n",
    "from sklearn.metrics import mean_absolute_percentage_error, mean_squared_error\n",
    "from statsmodels.tsa.holtwinters import ExponentialSmoothing # Holt-Winters \n",
    "from statsmodels.tsa.holtwinters import SimpleExpSmoothing\n",
    "from statsmodels.tsa.seasonal import seasonal_decompose\n",
    "import statsmodels.tsa.api as smt \n",
    "\n",
    "# for Ensemble Learning\n",
    "from sklearn.ensemble import VotingRegressor"
   ]
  },
  {
   "cell_type": "code",
   "execution_count": 2,
   "id": "81b6c687",
   "metadata": {},
   "outputs": [
    {
     "name": "stdout",
     "output_type": "stream",
     "text": [
      "customer_id                               int64\n",
      "order_date                               object\n",
      "order_time                               object\n",
      "item_id                                  object\n",
      "item_quantity                             int64\n",
      "item_price                              float64\n",
      "item_discount_raw                       float64\n",
      "item_discount_percentage                float64\n",
      "item_disc_bins_item_disc_null             int64\n",
      "item_disc_bins_item_disc_sub_twenty       int64\n",
      "item_disc_bins_item_disc_sub_forty        int64\n",
      "item_disc_bins_item_disc_sub_sixty        int64\n",
      "item_disc_bins_item_disc_sub_eighty       int64\n",
      "item_disc_bins_item_disc_sub_hundred      int64\n",
      "dtype: object\n"
     ]
    },
    {
     "data": {
      "text/html": [
       "<div>\n",
       "<style scoped>\n",
       "    .dataframe tbody tr th:only-of-type {\n",
       "        vertical-align: middle;\n",
       "    }\n",
       "\n",
       "    .dataframe tbody tr th {\n",
       "        vertical-align: top;\n",
       "    }\n",
       "\n",
       "    .dataframe thead th {\n",
       "        text-align: right;\n",
       "    }\n",
       "</style>\n",
       "<table border=\"1\" class=\"dataframe\">\n",
       "  <thead>\n",
       "    <tr style=\"text-align: right;\">\n",
       "      <th></th>\n",
       "      <th>customer_id</th>\n",
       "      <th>order_date</th>\n",
       "      <th>order_time</th>\n",
       "      <th>item_id</th>\n",
       "      <th>item_quantity</th>\n",
       "      <th>item_price</th>\n",
       "      <th>item_discount_raw</th>\n",
       "      <th>item_discount_percentage</th>\n",
       "      <th>item_disc_bins_item_disc_null</th>\n",
       "      <th>item_disc_bins_item_disc_sub_twenty</th>\n",
       "      <th>item_disc_bins_item_disc_sub_forty</th>\n",
       "      <th>item_disc_bins_item_disc_sub_sixty</th>\n",
       "      <th>item_disc_bins_item_disc_sub_eighty</th>\n",
       "      <th>item_disc_bins_item_disc_sub_hundred</th>\n",
       "    </tr>\n",
       "  </thead>\n",
       "  <tbody>\n",
       "    <tr>\n",
       "      <th>0</th>\n",
       "      <td>0</td>\n",
       "      <td>2022-04-29</td>\n",
       "      <td>18:29:49</td>\n",
       "      <td>Arzuaga blanco</td>\n",
       "      <td>1</td>\n",
       "      <td>49.0</td>\n",
       "      <td>0.0</td>\n",
       "      <td>0.0</td>\n",
       "      <td>1</td>\n",
       "      <td>0</td>\n",
       "      <td>0</td>\n",
       "      <td>0</td>\n",
       "      <td>0</td>\n",
       "      <td>0</td>\n",
       "    </tr>\n",
       "    <tr>\n",
       "      <th>1</th>\n",
       "      <td>0</td>\n",
       "      <td>2022-04-29</td>\n",
       "      <td>18:29:49</td>\n",
       "      <td>Arzuaga reserva</td>\n",
       "      <td>1</td>\n",
       "      <td>94.0</td>\n",
       "      <td>0.0</td>\n",
       "      <td>0.0</td>\n",
       "      <td>1</td>\n",
       "      <td>0</td>\n",
       "      <td>0</td>\n",
       "      <td>0</td>\n",
       "      <td>0</td>\n",
       "      <td>0</td>\n",
       "    </tr>\n",
       "  </tbody>\n",
       "</table>\n",
       "</div>"
      ],
      "text/plain": [
       "   customer_id  order_date order_time          item_id  item_quantity  \\\n",
       "0            0  2022-04-29   18:29:49   Arzuaga blanco              1   \n",
       "1            0  2022-04-29   18:29:49  Arzuaga reserva              1   \n",
       "\n",
       "   item_price  item_discount_raw  item_discount_percentage  \\\n",
       "0        49.0                0.0                       0.0   \n",
       "1        94.0                0.0                       0.0   \n",
       "\n",
       "   item_disc_bins_item_disc_null  item_disc_bins_item_disc_sub_twenty  \\\n",
       "0                              1                                    0   \n",
       "1                              1                                    0   \n",
       "\n",
       "   item_disc_bins_item_disc_sub_forty  item_disc_bins_item_disc_sub_sixty  \\\n",
       "0                                   0                                   0   \n",
       "1                                   0                                   0   \n",
       "\n",
       "   item_disc_bins_item_disc_sub_eighty  item_disc_bins_item_disc_sub_hundred  \n",
       "0                                    0                                     0  \n",
       "1                                    0                                     0  "
      ]
     },
     "execution_count": 2,
     "metadata": {},
     "output_type": "execute_result"
    }
   ],
   "source": [
    "df = pd.read_csv('../datasets/cleaned_orders.csv')\n",
    "print(df.dtypes)\n",
    "df.head(2)"
   ]
  },
  {
   "cell_type": "code",
   "execution_count": 3,
   "id": "11e194c8",
   "metadata": {
    "scrolled": true
   },
   "outputs": [
    {
     "data": {
      "text/html": [
       "<div>\n",
       "<style scoped>\n",
       "    .dataframe tbody tr th:only-of-type {\n",
       "        vertical-align: middle;\n",
       "    }\n",
       "\n",
       "    .dataframe tbody tr th {\n",
       "        vertical-align: top;\n",
       "    }\n",
       "\n",
       "    .dataframe thead th {\n",
       "        text-align: right;\n",
       "    }\n",
       "</style>\n",
       "<table border=\"1\" class=\"dataframe\">\n",
       "  <thead>\n",
       "    <tr style=\"text-align: right;\">\n",
       "      <th></th>\n",
       "      <th>customer_id</th>\n",
       "      <th>order_date</th>\n",
       "      <th>order_time</th>\n",
       "      <th>item_id</th>\n",
       "      <th>item_quantity</th>\n",
       "      <th>item_price</th>\n",
       "      <th>item_discount_raw</th>\n",
       "      <th>item_discount_percentage</th>\n",
       "      <th>item_disc_bins_item_disc_null</th>\n",
       "      <th>item_disc_bins_item_disc_sub_twenty</th>\n",
       "      <th>item_disc_bins_item_disc_sub_forty</th>\n",
       "      <th>item_disc_bins_item_disc_sub_sixty</th>\n",
       "      <th>item_disc_bins_item_disc_sub_eighty</th>\n",
       "      <th>item_disc_bins_item_disc_sub_hundred</th>\n",
       "    </tr>\n",
       "  </thead>\n",
       "  <tbody>\n",
       "    <tr>\n",
       "      <th>0</th>\n",
       "      <td>0</td>\n",
       "      <td>2022-04-29</td>\n",
       "      <td>18:29:49</td>\n",
       "      <td>Arzuaga blanco</td>\n",
       "      <td>1</td>\n",
       "      <td>49.0</td>\n",
       "      <td>0.0</td>\n",
       "      <td>0.0</td>\n",
       "      <td>1</td>\n",
       "      <td>0</td>\n",
       "      <td>0</td>\n",
       "      <td>0</td>\n",
       "      <td>0</td>\n",
       "      <td>0</td>\n",
       "    </tr>\n",
       "    <tr>\n",
       "      <th>1</th>\n",
       "      <td>0</td>\n",
       "      <td>2022-04-29</td>\n",
       "      <td>18:29:49</td>\n",
       "      <td>Arzuaga reserva</td>\n",
       "      <td>1</td>\n",
       "      <td>94.0</td>\n",
       "      <td>0.0</td>\n",
       "      <td>0.0</td>\n",
       "      <td>1</td>\n",
       "      <td>0</td>\n",
       "      <td>0</td>\n",
       "      <td>0</td>\n",
       "      <td>0</td>\n",
       "      <td>0</td>\n",
       "    </tr>\n",
       "    <tr>\n",
       "      <th>2</th>\n",
       "      <td>1</td>\n",
       "      <td>2022-04-22</td>\n",
       "      <td>18:08:59</td>\n",
       "      <td>Eclisse</td>\n",
       "      <td>1</td>\n",
       "      <td>51.0</td>\n",
       "      <td>0.0</td>\n",
       "      <td>0.0</td>\n",
       "      <td>1</td>\n",
       "      <td>0</td>\n",
       "      <td>0</td>\n",
       "      <td>0</td>\n",
       "      <td>0</td>\n",
       "      <td>0</td>\n",
       "    </tr>\n",
       "    <tr>\n",
       "      <th>3</th>\n",
       "      <td>1</td>\n",
       "      <td>2022-04-22</td>\n",
       "      <td>18:08:59</td>\n",
       "      <td>Refosco</td>\n",
       "      <td>2</td>\n",
       "      <td>62.0</td>\n",
       "      <td>0.0</td>\n",
       "      <td>0.0</td>\n",
       "      <td>1</td>\n",
       "      <td>0</td>\n",
       "      <td>0</td>\n",
       "      <td>0</td>\n",
       "      <td>0</td>\n",
       "      <td>0</td>\n",
       "    </tr>\n",
       "    <tr>\n",
       "      <th>4</th>\n",
       "      <td>2</td>\n",
       "      <td>2022-05-29</td>\n",
       "      <td>19:37:45</td>\n",
       "      <td>Wine Ambassador Series: Portugal - 1700 - 1800</td>\n",
       "      <td>1</td>\n",
       "      <td>39.0</td>\n",
       "      <td>0.0</td>\n",
       "      <td>0.0</td>\n",
       "      <td>1</td>\n",
       "      <td>0</td>\n",
       "      <td>0</td>\n",
       "      <td>0</td>\n",
       "      <td>0</td>\n",
       "      <td>0</td>\n",
       "    </tr>\n",
       "    <tr>\n",
       "      <th>5</th>\n",
       "      <td>3</td>\n",
       "      <td>2023-07-20</td>\n",
       "      <td>17:00:28</td>\n",
       "      <td>Ziereisen Blauer Spatburgunder 2017</td>\n",
       "      <td>1</td>\n",
       "      <td>50.0</td>\n",
       "      <td>0.0</td>\n",
       "      <td>0.0</td>\n",
       "      <td>1</td>\n",
       "      <td>0</td>\n",
       "      <td>0</td>\n",
       "      <td>0</td>\n",
       "      <td>0</td>\n",
       "      <td>0</td>\n",
       "    </tr>\n",
       "    <tr>\n",
       "      <th>6</th>\n",
       "      <td>3</td>\n",
       "      <td>2023-07-20</td>\n",
       "      <td>17:00:28</td>\n",
       "      <td>Corte Moschina I Tarai 2020</td>\n",
       "      <td>1</td>\n",
       "      <td>44.0</td>\n",
       "      <td>0.0</td>\n",
       "      <td>0.0</td>\n",
       "      <td>1</td>\n",
       "      <td>0</td>\n",
       "      <td>0</td>\n",
       "      <td>0</td>\n",
       "      <td>0</td>\n",
       "      <td>0</td>\n",
       "    </tr>\n",
       "    <tr>\n",
       "      <th>7</th>\n",
       "      <td>3</td>\n",
       "      <td>2023-07-20</td>\n",
       "      <td>17:00:28</td>\n",
       "      <td>Cascina Chicco Birbet NV</td>\n",
       "      <td>1</td>\n",
       "      <td>32.0</td>\n",
       "      <td>0.0</td>\n",
       "      <td>0.0</td>\n",
       "      <td>1</td>\n",
       "      <td>0</td>\n",
       "      <td>0</td>\n",
       "      <td>0</td>\n",
       "      <td>0</td>\n",
       "      <td>0</td>\n",
       "    </tr>\n",
       "    <tr>\n",
       "      <th>8</th>\n",
       "      <td>4</td>\n",
       "      <td>2023-06-03</td>\n",
       "      <td>16:06:32</td>\n",
       "      <td>Wine Ambassador Series: Spier Winery, Stellenb...</td>\n",
       "      <td>2</td>\n",
       "      <td>29.0</td>\n",
       "      <td>0.0</td>\n",
       "      <td>0.0</td>\n",
       "      <td>1</td>\n",
       "      <td>0</td>\n",
       "      <td>0</td>\n",
       "      <td>0</td>\n",
       "      <td>0</td>\n",
       "      <td>0</td>\n",
       "    </tr>\n",
       "    <tr>\n",
       "      <th>9</th>\n",
       "      <td>5</td>\n",
       "      <td>2022-01-22</td>\n",
       "      <td>05:52:45</td>\n",
       "      <td>Luca Old Vine Malbec 2017</td>\n",
       "      <td>2</td>\n",
       "      <td>70.9</td>\n",
       "      <td>0.0</td>\n",
       "      <td>0.0</td>\n",
       "      <td>1</td>\n",
       "      <td>0</td>\n",
       "      <td>0</td>\n",
       "      <td>0</td>\n",
       "      <td>0</td>\n",
       "      <td>0</td>\n",
       "    </tr>\n",
       "  </tbody>\n",
       "</table>\n",
       "</div>"
      ],
      "text/plain": [
       "   customer_id  order_date order_time  \\\n",
       "0            0  2022-04-29   18:29:49   \n",
       "1            0  2022-04-29   18:29:49   \n",
       "2            1  2022-04-22   18:08:59   \n",
       "3            1  2022-04-22   18:08:59   \n",
       "4            2  2022-05-29   19:37:45   \n",
       "5            3  2023-07-20   17:00:28   \n",
       "6            3  2023-07-20   17:00:28   \n",
       "7            3  2023-07-20   17:00:28   \n",
       "8            4  2023-06-03   16:06:32   \n",
       "9            5  2022-01-22   05:52:45   \n",
       "\n",
       "                                             item_id  item_quantity  \\\n",
       "0                                     Arzuaga blanco              1   \n",
       "1                                    Arzuaga reserva              1   \n",
       "2                                            Eclisse              1   \n",
       "3                                            Refosco              2   \n",
       "4     Wine Ambassador Series: Portugal - 1700 - 1800              1   \n",
       "5                Ziereisen Blauer Spatburgunder 2017              1   \n",
       "6                        Corte Moschina I Tarai 2020              1   \n",
       "7                           Cascina Chicco Birbet NV              1   \n",
       "8  Wine Ambassador Series: Spier Winery, Stellenb...              2   \n",
       "9                          Luca Old Vine Malbec 2017              2   \n",
       "\n",
       "   item_price  item_discount_raw  item_discount_percentage  \\\n",
       "0        49.0                0.0                       0.0   \n",
       "1        94.0                0.0                       0.0   \n",
       "2        51.0                0.0                       0.0   \n",
       "3        62.0                0.0                       0.0   \n",
       "4        39.0                0.0                       0.0   \n",
       "5        50.0                0.0                       0.0   \n",
       "6        44.0                0.0                       0.0   \n",
       "7        32.0                0.0                       0.0   \n",
       "8        29.0                0.0                       0.0   \n",
       "9        70.9                0.0                       0.0   \n",
       "\n",
       "   item_disc_bins_item_disc_null  item_disc_bins_item_disc_sub_twenty  \\\n",
       "0                              1                                    0   \n",
       "1                              1                                    0   \n",
       "2                              1                                    0   \n",
       "3                              1                                    0   \n",
       "4                              1                                    0   \n",
       "5                              1                                    0   \n",
       "6                              1                                    0   \n",
       "7                              1                                    0   \n",
       "8                              1                                    0   \n",
       "9                              1                                    0   \n",
       "\n",
       "   item_disc_bins_item_disc_sub_forty  item_disc_bins_item_disc_sub_sixty  \\\n",
       "0                                   0                                   0   \n",
       "1                                   0                                   0   \n",
       "2                                   0                                   0   \n",
       "3                                   0                                   0   \n",
       "4                                   0                                   0   \n",
       "5                                   0                                   0   \n",
       "6                                   0                                   0   \n",
       "7                                   0                                   0   \n",
       "8                                   0                                   0   \n",
       "9                                   0                                   0   \n",
       "\n",
       "   item_disc_bins_item_disc_sub_eighty  item_disc_bins_item_disc_sub_hundred  \n",
       "0                                    0                                     0  \n",
       "1                                    0                                     0  \n",
       "2                                    0                                     0  \n",
       "3                                    0                                     0  \n",
       "4                                    0                                     0  \n",
       "5                                    0                                     0  \n",
       "6                                    0                                     0  \n",
       "7                                    0                                     0  \n",
       "8                                    0                                     0  \n",
       "9                                    0                                     0  "
      ]
     },
     "execution_count": 3,
     "metadata": {},
     "output_type": "execute_result"
    }
   ],
   "source": [
    "pd.set_option('display.max_columns', None)\n",
    "df.head(10)"
   ]
  },
  {
   "cell_type": "markdown",
   "id": "f863a67b",
   "metadata": {},
   "source": [
    "# Let's try only with 1 product, very simple model"
   ]
  },
  {
   "cell_type": "code",
   "execution_count": 4,
   "id": "c2d77e4d",
   "metadata": {},
   "outputs": [
    {
     "data": {
      "text/plain": [
       "Index(['customer_id', 'order_date', 'order_time', 'item_id', 'item_quantity',\n",
       "       'item_price', 'item_discount_raw', 'item_discount_percentage',\n",
       "       'item_disc_bins_item_disc_null', 'item_disc_bins_item_disc_sub_twenty',\n",
       "       'item_disc_bins_item_disc_sub_forty',\n",
       "       'item_disc_bins_item_disc_sub_sixty',\n",
       "       'item_disc_bins_item_disc_sub_eighty',\n",
       "       'item_disc_bins_item_disc_sub_hundred'],\n",
       "      dtype='object')"
      ]
     },
     "execution_count": 4,
     "metadata": {},
     "output_type": "execute_result"
    }
   ],
   "source": [
    "df.columns"
   ]
  },
  {
   "cell_type": "code",
   "execution_count": 5,
   "id": "eeca01e3",
   "metadata": {},
   "outputs": [],
   "source": [
    "grouped = df[['order_date', 'item_id',\n",
    "              'item_quantity']]"
   ]
  },
  {
   "cell_type": "code",
   "execution_count": 6,
   "id": "251b5f6c",
   "metadata": {},
   "outputs": [],
   "source": [
    "groupedbyitem = grouped.groupby('item_id', group_keys=True).apply(lambda x:x)\n"
   ]
  },
  {
   "cell_type": "code",
   "execution_count": 7,
   "id": "48519383",
   "metadata": {},
   "outputs": [
    {
     "data": {
      "text/plain": [
       "Glassware                                  728\n",
       "Wine Virgin                                325\n",
       "Rara Neagră de Purcari 2020                110\n",
       "Wine Nut                                    86\n",
       "Puchang Beichun 2015                        81\n",
       "                                          ... \n",
       "Chersegi furmint                             1\n",
       "Creation Estate Reserve Pinot Noir 2019      1\n",
       "Vinden Wines Reserve Semillon 2017           1\n",
       "Adler Pinot grigio                           1\n",
       "Dalmatia Babic                               1\n",
       "Name: item_id, Length: 4481, dtype: int64"
      ]
     },
     "execution_count": 7,
     "metadata": {},
     "output_type": "execute_result"
    }
   ],
   "source": [
    "groupedbyitem['item_id'].value_counts()"
   ]
  },
  {
   "cell_type": "code",
   "execution_count": 8,
   "id": "54a358fa",
   "metadata": {},
   "outputs": [],
   "source": [
    "sample = groupedbyitem[groupedbyitem['item_id']=='Rara Neagră de Purcari 2020']"
   ]
  },
  {
   "cell_type": "code",
   "execution_count": 9,
   "id": "81374874",
   "metadata": {},
   "outputs": [],
   "source": [
    "sample = sample.groupby('order_date')['item_quantity'].sum().reset_index()"
   ]
  },
  {
   "cell_type": "code",
   "execution_count": 10,
   "id": "25b9670c",
   "metadata": {},
   "outputs": [
    {
     "data": {
      "text/html": [
       "<div>\n",
       "<style scoped>\n",
       "    .dataframe tbody tr th:only-of-type {\n",
       "        vertical-align: middle;\n",
       "    }\n",
       "\n",
       "    .dataframe tbody tr th {\n",
       "        vertical-align: top;\n",
       "    }\n",
       "\n",
       "    .dataframe thead th {\n",
       "        text-align: right;\n",
       "    }\n",
       "</style>\n",
       "<table border=\"1\" class=\"dataframe\">\n",
       "  <thead>\n",
       "    <tr style=\"text-align: right;\">\n",
       "      <th></th>\n",
       "      <th>order_date</th>\n",
       "      <th>item_quantity</th>\n",
       "    </tr>\n",
       "  </thead>\n",
       "  <tbody>\n",
       "    <tr>\n",
       "      <th>0</th>\n",
       "      <td>2022-04-08</td>\n",
       "      <td>2</td>\n",
       "    </tr>\n",
       "    <tr>\n",
       "      <th>1</th>\n",
       "      <td>2022-04-13</td>\n",
       "      <td>3</td>\n",
       "    </tr>\n",
       "    <tr>\n",
       "      <th>2</th>\n",
       "      <td>2022-04-15</td>\n",
       "      <td>1</td>\n",
       "    </tr>\n",
       "    <tr>\n",
       "      <th>3</th>\n",
       "      <td>2022-04-16</td>\n",
       "      <td>1</td>\n",
       "    </tr>\n",
       "    <tr>\n",
       "      <th>4</th>\n",
       "      <td>2022-04-17</td>\n",
       "      <td>1</td>\n",
       "    </tr>\n",
       "    <tr>\n",
       "      <th>...</th>\n",
       "      <td>...</td>\n",
       "      <td>...</td>\n",
       "    </tr>\n",
       "    <tr>\n",
       "      <th>84</th>\n",
       "      <td>2023-06-27</td>\n",
       "      <td>1</td>\n",
       "    </tr>\n",
       "    <tr>\n",
       "      <th>85</th>\n",
       "      <td>2023-07-04</td>\n",
       "      <td>1</td>\n",
       "    </tr>\n",
       "    <tr>\n",
       "      <th>86</th>\n",
       "      <td>2023-07-08</td>\n",
       "      <td>1</td>\n",
       "    </tr>\n",
       "    <tr>\n",
       "      <th>87</th>\n",
       "      <td>2023-07-12</td>\n",
       "      <td>1</td>\n",
       "    </tr>\n",
       "    <tr>\n",
       "      <th>88</th>\n",
       "      <td>2023-07-14</td>\n",
       "      <td>1</td>\n",
       "    </tr>\n",
       "  </tbody>\n",
       "</table>\n",
       "<p>89 rows × 2 columns</p>\n",
       "</div>"
      ],
      "text/plain": [
       "    order_date  item_quantity\n",
       "0   2022-04-08              2\n",
       "1   2022-04-13              3\n",
       "2   2022-04-15              1\n",
       "3   2022-04-16              1\n",
       "4   2022-04-17              1\n",
       "..         ...            ...\n",
       "84  2023-06-27              1\n",
       "85  2023-07-04              1\n",
       "86  2023-07-08              1\n",
       "87  2023-07-12              1\n",
       "88  2023-07-14              1\n",
       "\n",
       "[89 rows x 2 columns]"
      ]
     },
     "execution_count": 10,
     "metadata": {},
     "output_type": "execute_result"
    }
   ],
   "source": [
    "sample"
   ]
  },
  {
   "cell_type": "code",
   "execution_count": 11,
   "id": "bb85e9c6",
   "metadata": {},
   "outputs": [],
   "source": [
    "sample['order_date'] = pd.to_datetime(sample['order_date'])\n",
    "sample = sample.set_index('order_date')"
   ]
  },
  {
   "cell_type": "code",
   "execution_count": 12,
   "id": "6f8db7e1",
   "metadata": {},
   "outputs": [
    {
     "data": {
      "text/html": [
       "<div>\n",
       "<style scoped>\n",
       "    .dataframe tbody tr th:only-of-type {\n",
       "        vertical-align: middle;\n",
       "    }\n",
       "\n",
       "    .dataframe tbody tr th {\n",
       "        vertical-align: top;\n",
       "    }\n",
       "\n",
       "    .dataframe thead th {\n",
       "        text-align: right;\n",
       "    }\n",
       "</style>\n",
       "<table border=\"1\" class=\"dataframe\">\n",
       "  <thead>\n",
       "    <tr style=\"text-align: right;\">\n",
       "      <th></th>\n",
       "      <th>item_quantity</th>\n",
       "    </tr>\n",
       "    <tr>\n",
       "      <th>order_date</th>\n",
       "      <th></th>\n",
       "    </tr>\n",
       "  </thead>\n",
       "  <tbody>\n",
       "    <tr>\n",
       "      <th>2022-04-08</th>\n",
       "      <td>2</td>\n",
       "    </tr>\n",
       "    <tr>\n",
       "      <th>2022-04-13</th>\n",
       "      <td>3</td>\n",
       "    </tr>\n",
       "    <tr>\n",
       "      <th>2022-04-15</th>\n",
       "      <td>1</td>\n",
       "    </tr>\n",
       "    <tr>\n",
       "      <th>2022-04-16</th>\n",
       "      <td>1</td>\n",
       "    </tr>\n",
       "    <tr>\n",
       "      <th>2022-04-17</th>\n",
       "      <td>1</td>\n",
       "    </tr>\n",
       "    <tr>\n",
       "      <th>...</th>\n",
       "      <td>...</td>\n",
       "    </tr>\n",
       "    <tr>\n",
       "      <th>2023-06-27</th>\n",
       "      <td>1</td>\n",
       "    </tr>\n",
       "    <tr>\n",
       "      <th>2023-07-04</th>\n",
       "      <td>1</td>\n",
       "    </tr>\n",
       "    <tr>\n",
       "      <th>2023-07-08</th>\n",
       "      <td>1</td>\n",
       "    </tr>\n",
       "    <tr>\n",
       "      <th>2023-07-12</th>\n",
       "      <td>1</td>\n",
       "    </tr>\n",
       "    <tr>\n",
       "      <th>2023-07-14</th>\n",
       "      <td>1</td>\n",
       "    </tr>\n",
       "  </tbody>\n",
       "</table>\n",
       "<p>89 rows × 1 columns</p>\n",
       "</div>"
      ],
      "text/plain": [
       "            item_quantity\n",
       "order_date               \n",
       "2022-04-08              2\n",
       "2022-04-13              3\n",
       "2022-04-15              1\n",
       "2022-04-16              1\n",
       "2022-04-17              1\n",
       "...                   ...\n",
       "2023-06-27              1\n",
       "2023-07-04              1\n",
       "2023-07-08              1\n",
       "2023-07-12              1\n",
       "2023-07-14              1\n",
       "\n",
       "[89 rows x 1 columns]"
      ]
     },
     "execution_count": 12,
     "metadata": {},
     "output_type": "execute_result"
    }
   ],
   "source": [
    "sample"
   ]
  },
  {
   "cell_type": "code",
   "execution_count": 13,
   "id": "68fcef2f",
   "metadata": {},
   "outputs": [
    {
     "data": {
      "image/png": "[encoded data removed]",
      "text/plain": [
       "<Figure size 432x288 with 1 Axes>"
      ]
     },
     "metadata": {
      "needs_background": "light"
     },
     "output_type": "display_data"
    }
   ],
   "source": [
    "sample['item_quantity'].plot()\n",
    "plt.xlabel('Order Date')\n",
    "plt.ylabel('Sales')\n",
    "plt.title('Sales of Rara Neagră de Purcari 2020 over the years')\n",
    "plt.show()"
   ]
  },
  {
   "cell_type": "code",
   "execution_count": 14,
   "id": "be63fccc",
   "metadata": {},
   "outputs": [],
   "source": [
    "monthly_sales = pd.DataFrame()\n",
    "\n",
    "monthly_sales['sales'] = sample['item_quantity'].resample('MS').mean()"
   ]
  },
  {
   "cell_type": "code",
   "execution_count": 15,
   "id": "5f3f487a",
   "metadata": {},
   "outputs": [
    {
     "data": {
      "text/html": [
       "<div>\n",
       "<style scoped>\n",
       "    .dataframe tbody tr th:only-of-type {\n",
       "        vertical-align: middle;\n",
       "    }\n",
       "\n",
       "    .dataframe tbody tr th {\n",
       "        vertical-align: top;\n",
       "    }\n",
       "\n",
       "    .dataframe thead th {\n",
       "        text-align: right;\n",
       "    }\n",
       "</style>\n",
       "<table border=\"1\" class=\"dataframe\">\n",
       "  <thead>\n",
       "    <tr style=\"text-align: right;\">\n",
       "      <th></th>\n",
       "      <th>sales</th>\n",
       "    </tr>\n",
       "    <tr>\n",
       "      <th>order_date</th>\n",
       "      <th></th>\n",
       "    </tr>\n",
       "  </thead>\n",
       "  <tbody>\n",
       "    <tr>\n",
       "      <th>2022-04-01</th>\n",
       "      <td>2.000000</td>\n",
       "    </tr>\n",
       "    <tr>\n",
       "      <th>2022-05-01</th>\n",
       "      <td>2.285714</td>\n",
       "    </tr>\n",
       "    <tr>\n",
       "      <th>2022-06-01</th>\n",
       "      <td>2.125000</td>\n",
       "    </tr>\n",
       "    <tr>\n",
       "      <th>2022-07-01</th>\n",
       "      <td>1.428571</td>\n",
       "    </tr>\n",
       "    <tr>\n",
       "      <th>2022-08-01</th>\n",
       "      <td>3.500000</td>\n",
       "    </tr>\n",
       "    <tr>\n",
       "      <th>2022-09-01</th>\n",
       "      <td>1.200000</td>\n",
       "    </tr>\n",
       "    <tr>\n",
       "      <th>2022-10-01</th>\n",
       "      <td>1.800000</td>\n",
       "    </tr>\n",
       "    <tr>\n",
       "      <th>2022-11-01</th>\n",
       "      <td>1.750000</td>\n",
       "    </tr>\n",
       "    <tr>\n",
       "      <th>2022-12-01</th>\n",
       "      <td>1.600000</td>\n",
       "    </tr>\n",
       "    <tr>\n",
       "      <th>2023-01-01</th>\n",
       "      <td>1.666667</td>\n",
       "    </tr>\n",
       "    <tr>\n",
       "      <th>2023-02-01</th>\n",
       "      <td>1.111111</td>\n",
       "    </tr>\n",
       "    <tr>\n",
       "      <th>2023-03-01</th>\n",
       "      <td>1.500000</td>\n",
       "    </tr>\n",
       "    <tr>\n",
       "      <th>2023-04-01</th>\n",
       "      <td>2.000000</td>\n",
       "    </tr>\n",
       "    <tr>\n",
       "      <th>2023-05-01</th>\n",
       "      <td>2.428571</td>\n",
       "    </tr>\n",
       "    <tr>\n",
       "      <th>2023-06-01</th>\n",
       "      <td>1.200000</td>\n",
       "    </tr>\n",
       "    <tr>\n",
       "      <th>2023-07-01</th>\n",
       "      <td>1.000000</td>\n",
       "    </tr>\n",
       "  </tbody>\n",
       "</table>\n",
       "</div>"
      ],
      "text/plain": [
       "               sales\n",
       "order_date          \n",
       "2022-04-01  2.000000\n",
       "2022-05-01  2.285714\n",
       "2022-06-01  2.125000\n",
       "2022-07-01  1.428571\n",
       "2022-08-01  3.500000\n",
       "2022-09-01  1.200000\n",
       "2022-10-01  1.800000\n",
       "2022-11-01  1.750000\n",
       "2022-12-01  1.600000\n",
       "2023-01-01  1.666667\n",
       "2023-02-01  1.111111\n",
       "2023-03-01  1.500000\n",
       "2023-04-01  2.000000\n",
       "2023-05-01  2.428571\n",
       "2023-06-01  1.200000\n",
       "2023-07-01  1.000000"
      ]
     },
     "execution_count": 15,
     "metadata": {},
     "output_type": "execute_result"
    }
   ],
   "source": [
    "monthly_sales"
   ]
  },
  {
   "cell_type": "code",
   "execution_count": 16,
   "id": "ec0f83c2",
   "metadata": {},
   "outputs": [
    {
     "data": {
      "text/plain": [
       "[<matplotlib.lines.Line2D at 0x1f87a0fa100>]"
      ]
     },
     "execution_count": 16,
     "metadata": {},
     "output_type": "execute_result"
    },
    {
     "data": {
      "image/png": "[encoded data removed]",
      "text/plain": [
       "<Figure size 432x288 with 1 Axes>"
      ]
     },
     "metadata": {
      "needs_background": "light"
     },
     "output_type": "display_data"
    }
   ],
   "source": [
    "#plot weekly sales data\n",
    "plt.plot(monthly_sales.index, monthly_sales.sales, linewidth=3)"
   ]
  },
  {
   "cell_type": "code",
   "execution_count": 17,
   "id": "3f8a9751",
   "metadata": {},
   "outputs": [],
   "source": [
    "x = monthly_sales.index\n",
    "y = monthly_sales.sales"
   ]
  },
  {
   "cell_type": "code",
   "execution_count": 18,
   "id": "23663df4",
   "metadata": {},
   "outputs": [
    {
     "data": {
      "text/plain": [
       "DatetimeIndex(['2022-04-01', '2022-05-01', '2022-06-01', '2022-07-01',\n",
       "               '2022-08-01', '2022-09-01', '2022-10-01', '2022-11-01',\n",
       "               '2022-12-01', '2023-01-01', '2023-02-01', '2023-03-01',\n",
       "               '2023-04-01', '2023-05-01', '2023-06-01', '2023-07-01'],\n",
       "              dtype='datetime64[ns]', name='order_date', freq='MS')"
      ]
     },
     "execution_count": 18,
     "metadata": {},
     "output_type": "execute_result"
    }
   ],
   "source": [
    "x"
   ]
  },
  {
   "cell_type": "code",
   "execution_count": 19,
   "id": "64aeb1ab",
   "metadata": {},
   "outputs": [
    {
     "data": {
      "text/plain": [
       "order_date\n",
       "2022-04-01    2.000000\n",
       "2022-05-01    2.285714\n",
       "2022-06-01    2.125000\n",
       "2022-07-01    1.428571\n",
       "2022-08-01    3.500000\n",
       "2022-09-01    1.200000\n",
       "2022-10-01    1.800000\n",
       "2022-11-01    1.750000\n",
       "2022-12-01    1.600000\n",
       "2023-01-01    1.666667\n",
       "2023-02-01    1.111111\n",
       "2023-03-01    1.500000\n",
       "2023-04-01    2.000000\n",
       "2023-05-01    2.428571\n",
       "2023-06-01    1.200000\n",
       "2023-07-01    1.000000\n",
       "Freq: MS, Name: sales, dtype: float64"
      ]
     },
     "execution_count": 19,
     "metadata": {},
     "output_type": "execute_result"
    }
   ],
   "source": [
    "y"
   ]
  },
  {
   "cell_type": "markdown",
   "id": "7bfc939e",
   "metadata": {},
   "source": [
    "# Training Time"
   ]
  },
  {
   "cell_type": "code",
   "execution_count": 20,
   "id": "bb04ed1a",
   "metadata": {},
   "outputs": [],
   "source": [
    "x_train, x_test, y_train, y_test = train_test_split(x, y, test_size = 0.25, random_state = 69, shuffle=False)"
   ]
  },
  {
   "cell_type": "code",
   "execution_count": 21,
   "id": "4b1d4053",
   "metadata": {},
   "outputs": [
    {
     "data": {
      "text/plain": [
       "order_date\n",
       "2022-04-01    2.000000\n",
       "2022-05-01    2.285714\n",
       "2022-06-01    2.125000\n",
       "2022-07-01    1.428571\n",
       "2022-08-01    3.500000\n",
       "2022-09-01    1.200000\n",
       "2022-10-01    1.800000\n",
       "2022-11-01    1.750000\n",
       "2022-12-01    1.600000\n",
       "2023-01-01    1.666667\n",
       "2023-02-01    1.111111\n",
       "2023-03-01    1.500000\n",
       "Freq: MS, Name: sales, dtype: float64"
      ]
     },
     "execution_count": 21,
     "metadata": {},
     "output_type": "execute_result"
    }
   ],
   "source": [
    "y_train"
   ]
  },
  {
   "cell_type": "code",
   "execution_count": 22,
   "id": "09e918fe",
   "metadata": {},
   "outputs": [
    {
     "data": {
      "text/plain": [
       "DatetimeIndex(['2022-04-01', '2022-05-01', '2022-06-01', '2022-07-01',\n",
       "               '2022-08-01', '2022-09-01', '2022-10-01', '2022-11-01',\n",
       "               '2022-12-01', '2023-01-01', '2023-02-01', '2023-03-01'],\n",
       "              dtype='datetime64[ns]', name='order_date', freq=None)"
      ]
     },
     "execution_count": 22,
     "metadata": {},
     "output_type": "execute_result"
    }
   ],
   "source": [
    "x_train"
   ]
  },
  {
   "cell_type": "code",
   "execution_count": 23,
   "id": "d9de9e87",
   "metadata": {},
   "outputs": [
    {
     "name": "stdout",
     "output_type": "stream",
     "text": [
      "Performing stepwise search to minimize aic\n",
      " ARIMA(2,2,2)(0,0,0)[0]             : AIC=27385.605, Time=0.05 sec\n",
      " ARIMA(0,2,0)(0,0,0)[0]             : AIC=43.576, Time=0.00 sec\n",
      " ARIMA(1,2,0)(0,0,0)[0]             : AIC=37.230, Time=0.02 sec\n",
      " ARIMA(0,2,1)(0,0,0)[0]             : AIC=inf, Time=0.03 sec\n",
      " ARIMA(2,2,0)(0,0,0)[0]             : AIC=33.124, Time=0.02 sec\n",
      " ARIMA(3,2,0)(0,0,0)[0]             : AIC=33.078, Time=0.03 sec\n",
      " ARIMA(4,2,0)(0,0,0)[0]             : AIC=31.752, Time=0.03 sec\n",
      " ARIMA(4,2,1)(0,0,0)[0]             : AIC=inf, Time=0.14 sec\n",
      " ARIMA(3,2,1)(0,0,0)[0]             : AIC=inf, Time=0.09 sec\n",
      " ARIMA(4,2,0)(0,0,0)[0] intercept   : AIC=33.427, Time=0.06 sec\n",
      "\n",
      "Best model:  ARIMA(4,2,0)(0,0,0)[0]          \n",
      "Total fit time: 0.467 seconds\n"
     ]
    },
    {
     "data": {
      "text/plain": [
       "ARIMA(order=(4, 2, 0), scoring_args={}, suppress_warnings=True,\n",
       "      with_intercept=False)"
      ]
     },
     "execution_count": 23,
     "metadata": {},
     "output_type": "execute_result"
    }
   ],
   "source": [
    "auto_arima(y_train, test='adf',seasonal=True, trace=True, error_action='ignore', suppress_warnings=True)"
   ]
  },
  {
   "cell_type": "code",
   "execution_count": 24,
   "id": "63fb7aa5",
   "metadata": {},
   "outputs": [
    {
     "name": "stdout",
     "output_type": "stream",
     "text": [
      "Performing stepwise search to minimize aic\n",
      " ARIMA(2,2,2)(0,0,0)[0]             : AIC=inf, Time=0.07 sec\n",
      " ARIMA(0,2,0)(0,0,0)[0]             : AIC=56.858, Time=0.00 sec\n",
      " ARIMA(1,2,0)(0,0,0)[0]             : AIC=48.484, Time=0.02 sec\n",
      " ARIMA(0,2,1)(0,0,0)[0]             : AIC=inf, Time=0.03 sec\n",
      " ARIMA(2,2,0)(0,0,0)[0]             : AIC=45.636, Time=0.02 sec\n",
      " ARIMA(3,2,0)(0,0,0)[0]             : AIC=46.296, Time=0.03 sec\n",
      " ARIMA(2,2,1)(0,0,0)[0]             : AIC=inf, Time=0.08 sec\n",
      " ARIMA(1,2,1)(0,0,0)[0]             : AIC=inf, Time=0.06 sec\n",
      " ARIMA(3,2,1)(0,0,0)[0]             : AIC=inf, Time=0.08 sec\n",
      " ARIMA(2,2,0)(0,0,0)[0] intercept   : AIC=47.531, Time=0.02 sec\n",
      "\n",
      "Best model:  ARIMA(2,2,0)(0,0,0)[0]          \n",
      "Total fit time: 0.407 seconds\n"
     ]
    },
    {
     "data": {
      "text/plain": [
       "ARIMA(order=(2, 2, 0), scoring_args={}, suppress_warnings=True,\n",
       "      with_intercept=False)"
      ]
     },
     "execution_count": 24,
     "metadata": {},
     "output_type": "execute_result"
    }
   ],
   "source": [
    "auto_arima(y,test='adf',       # use adftest to find optimal 'd'\n",
    "                       # maximum p and q\n",
    "                                 # frequency of series\n",
    "                       # let model determine 'd'\n",
    "                      seasonal=True,   # No Seasonality\n",
    "                       \n",
    "\n",
    "                      trace=True,\n",
    "                      error_action='ignore',  \n",
    "                      suppress_warnings=True, \n",
    "                      stepwise=True)"
   ]
  },
  {
   "cell_type": "code",
   "execution_count": 25,
   "id": "555a13be",
   "metadata": {
    "scrolled": true
   },
   "outputs": [
    {
     "data": {
      "text/html": [
       "<table class=\"simpletable\">\n",
       "<caption>SARIMAX Results</caption>\n",
       "<tr>\n",
       "  <th>Dep. Variable:</th>         <td>sales</td>      <th>  No. Observations:  </th>   <td>12</td>   \n",
       "</tr>\n",
       "<tr>\n",
       "  <th>Model:</th>            <td>ARIMA(1, 1, 1)</td>  <th>  Log Likelihood     </th> <td>-10.503</td>\n",
       "</tr>\n",
       "<tr>\n",
       "  <th>Date:</th>            <td>Thu, 07 Sep 2023</td> <th>  AIC                </th> <td>27.007</td> \n",
       "</tr>\n",
       "<tr>\n",
       "  <th>Time:</th>                <td>13:49:11</td>     <th>  BIC                </th> <td>28.201</td> \n",
       "</tr>\n",
       "<tr>\n",
       "  <th>Sample:</th>             <td>04-01-2022</td>    <th>  HQIC               </th> <td>26.254</td> \n",
       "</tr>\n",
       "<tr>\n",
       "  <th></th>                   <td>- 03-01-2023</td>   <th>                     </th>    <td> </td>   \n",
       "</tr>\n",
       "<tr>\n",
       "  <th>Covariance Type:</th>        <td>opg</td>       <th>                     </th>    <td> </td>   \n",
       "</tr>\n",
       "</table>\n",
       "<table class=\"simpletable\">\n",
       "<tr>\n",
       "     <td></td>       <th>coef</th>     <th>std err</th>      <th>z</th>      <th>P>|z|</th>  <th>[0.025</th>    <th>0.975]</th>  \n",
       "</tr>\n",
       "<tr>\n",
       "  <th>ar.L1</th>  <td>   -0.4968</td> <td>    0.310</td> <td>   -1.602</td> <td> 0.109</td> <td>   -1.105</td> <td>    0.111</td>\n",
       "</tr>\n",
       "<tr>\n",
       "  <th>ma.L1</th>  <td>   -0.5542</td> <td>    0.765</td> <td>   -0.724</td> <td> 0.469</td> <td>   -2.054</td> <td>    0.946</td>\n",
       "</tr>\n",
       "<tr>\n",
       "  <th>sigma2</th> <td>    0.3565</td> <td>    0.286</td> <td>    1.245</td> <td> 0.213</td> <td>   -0.205</td> <td>    0.918</td>\n",
       "</tr>\n",
       "</table>\n",
       "<table class=\"simpletable\">\n",
       "<tr>\n",
       "  <th>Ljung-Box (L1) (Q):</th>     <td>1.51</td> <th>  Jarque-Bera (JB):  </th> <td>5.75</td>\n",
       "</tr>\n",
       "<tr>\n",
       "  <th>Prob(Q):</th>                <td>0.22</td> <th>  Prob(JB):          </th> <td>0.06</td>\n",
       "</tr>\n",
       "<tr>\n",
       "  <th>Heteroskedasticity (H):</th> <td>0.24</td> <th>  Skew:              </th> <td>1.48</td>\n",
       "</tr>\n",
       "<tr>\n",
       "  <th>Prob(H) (two-sided):</th>    <td>0.19</td> <th>  Kurtosis:          </th> <td>4.93</td>\n",
       "</tr>\n",
       "</table><br/><br/>Warnings:<br/>[1] Covariance matrix calculated using the outer product of gradients (complex-step)."
      ],
      "text/plain": [
       "<class 'statsmodels.iolib.summary.Summary'>\n",
       "\"\"\"\n",
       "                               SARIMAX Results                                \n",
       "==============================================================================\n",
       "Dep. Variable:                  sales   No. Observations:                   12\n",
       "Model:                 ARIMA(1, 1, 1)   Log Likelihood                 -10.503\n",
       "Date:                Thu, 07 Sep 2023   AIC                             27.007\n",
       "Time:                        13:49:11   BIC                             28.201\n",
       "Sample:                    04-01-2022   HQIC                            26.254\n",
       "                         - 03-01-2023                                         \n",
       "Covariance Type:                  opg                                         \n",
       "==============================================================================\n",
       "                 coef    std err          z      P>|z|      [0.025      0.975]\n",
       "------------------------------------------------------------------------------\n",
       "ar.L1         -0.4968      0.310     -1.602      0.109      -1.105       0.111\n",
       "ma.L1         -0.5542      0.765     -0.724      0.469      -2.054       0.946\n",
       "sigma2         0.3565      0.286      1.245      0.213      -0.205       0.918\n",
       "===================================================================================\n",
       "Ljung-Box (L1) (Q):                   1.51   Jarque-Bera (JB):                 5.75\n",
       "Prob(Q):                              0.22   Prob(JB):                         0.06\n",
       "Heteroskedasticity (H):               0.24   Skew:                             1.48\n",
       "Prob(H) (two-sided):                  0.19   Kurtosis:                         4.93\n",
       "===================================================================================\n",
       "\n",
       "Warnings:\n",
       "[1] Covariance matrix calculated using the outer product of gradients (complex-step).\n",
       "\"\"\""
      ]
     },
     "execution_count": 25,
     "metadata": {},
     "output_type": "execute_result"
    }
   ],
   "source": [
    "model_arima = ARIMA(y_train, order=(1,1,1)).fit()\n",
    "model_arima.summary()"
   ]
  },
  {
   "cell_type": "code",
   "execution_count": 26,
   "id": "980fb1fc",
   "metadata": {},
   "outputs": [
    {
     "data": {
      "text/plain": [
       "2023-04-01    1.433956\n",
       "2023-05-01    1.466764\n",
       "2023-06-01    1.450466\n",
       "2023-07-01    1.458563\n",
       "Freq: MS, Name: predicted_mean, dtype: float64"
      ]
     },
     "execution_count": 26,
     "metadata": {},
     "output_type": "execute_result"
    }
   ],
   "source": [
    "pred_arima = model_arima.predict(start=len(y_train), end=(len(y)-1),dynamic=True)\n",
    "pred_arima"
   ]
  },
  {
   "cell_type": "code",
   "execution_count": 27,
   "id": "04c3e0fd",
   "metadata": {},
   "outputs": [
    {
     "data": {
      "text/plain": [
       "order_date\n",
       "2023-04-01    2.000000\n",
       "2023-05-01    2.428571\n",
       "2023-06-01    1.200000\n",
       "2023-07-01    1.000000\n",
       "Freq: MS, Name: sales, dtype: float64"
      ]
     },
     "execution_count": 27,
     "metadata": {},
     "output_type": "execute_result"
    }
   ],
   "source": [
    "y_test"
   ]
  },
  {
   "cell_type": "markdown",
   "id": "14cb5b88",
   "metadata": {},
   "source": [
    "# Evaluate"
   ]
  },
  {
   "cell_type": "code",
   "execution_count": 28,
   "id": "a6a2611b",
   "metadata": {},
   "outputs": [
    {
     "name": "stdout",
     "output_type": "stream",
     "text": [
      "MAPE SARIMAX: 0.336586\n",
      "RMSE SARIMAX: 0.616136\n"
     ]
    }
   ],
   "source": [
    "mape_arima = mean_absolute_percentage_error(y_test, pred_arima)\n",
    "rmse_arima = mean_squared_error(y_test, pred_arima, squared=False)\n",
    "\n",
    "print('MAPE SARIMAX: %f' %mape_arima)\n",
    "print('RMSE SARIMAX: %f' %rmse_arima)"
   ]
  },
  {
   "cell_type": "code",
   "execution_count": 29,
   "id": "de7e0bfc",
   "metadata": {},
   "outputs": [
    {
     "data": {
      "text/plain": [
       "<AxesSubplot:xlabel='order_date'>"
      ]
     },
     "execution_count": 29,
     "metadata": {},
     "output_type": "execute_result"
    },
    {
     "data": {
      "image/png": "[encoded data removed]",
      "text/plain": [
       "<Figure size 720x432 with 1 Axes>"
      ]
     },
     "metadata": {
      "needs_background": "light"
     },
     "output_type": "display_data"
    }
   ],
   "source": [
    "y_train.plot(legend=True, label='Train', figsize=(10,6))\n",
    "\n",
    "y_test.plot(legend=True, label= 'Test')\n",
    "\n",
    "pred_arima.plot(legend=True, label='ARIMA prediction')"
   ]
  },
  {
   "cell_type": "markdown",
   "id": "46eae1b6",
   "metadata": {},
   "source": [
    "# Seasonal ARIMA"
   ]
  },
  {
   "cell_type": "code",
   "execution_count": 30,
   "id": "3dd098f4",
   "metadata": {},
   "outputs": [
    {
     "name": "stderr",
     "output_type": "stream",
     "text": [
      "C:\\Users\\Kevan\\anaconda3\\lib\\site-packages\\statsmodels\\tsa\\statespace\\sarimax.py:866: UserWarning: Too few observations to estimate starting parameters for ARMA and trend. All parameters except for variances will be set to zeros.\n",
      "  warn('Too few observations to estimate starting parameters%s.'\n",
      "C:\\Users\\Kevan\\anaconda3\\lib\\site-packages\\statsmodels\\tsa\\statespace\\sarimax.py:866: UserWarning: Too few observations to estimate starting parameters for seasonal ARMA. All parameters except for variances will be set to zeros.\n",
      "  warn('Too few observations to estimate starting parameters%s.'\n",
      "C:\\Users\\Kevan\\anaconda3\\lib\\site-packages\\statsmodels\\tools\\eval_measures.py:406: RuntimeWarning: invalid value encountered in log\n",
      "  return -2.0 * llf + np.log(nobs) * df_modelwc\n",
      "C:\\Users\\Kevan\\anaconda3\\lib\\site-packages\\statsmodels\\tools\\eval_measures.py:431: RuntimeWarning: invalid value encountered in log\n",
      "  return -2.0 * llf + 2 * np.log(np.log(nobs)) * df_modelwc\n",
      "C:\\Users\\Kevan\\anaconda3\\lib\\site-packages\\statsmodels\\tsa\\statespace\\mlemodel.py:2979: RuntimeWarning: divide by zero encountered in true_divide\n",
      "  return self.params / self.bse\n",
      "C:\\Users\\Kevan\\anaconda3\\lib\\site-packages\\statsmodels\\tsa\\statespace\\mlemodel.py:2979: RuntimeWarning: invalid value encountered in true_divide\n",
      "  return self.params / self.bse\n",
      "C:\\Users\\Kevan\\anaconda3\\lib\\site-packages\\statsmodels\\tsa\\stattools.py:467: RuntimeWarning: Mean of empty slice.\n",
      "  xo = x - x.mean()\n",
      "C:\\Users\\Kevan\\anaconda3\\lib\\site-packages\\numpy\\core\\_methods.py:189: RuntimeWarning: invalid value encountered in double_scalars\n",
      "  ret = ret.dtype.type(ret / rcount)\n"
     ]
    },
    {
     "data": {
      "text/html": [
       "<table class=\"simpletable\">\n",
       "<caption>SARIMAX Results</caption>\n",
       "<tr>\n",
       "  <th>Dep. Variable:</th>                <td>sales</td>             <th>  No. Observations:  </th>   <td>12</td>  \n",
       "</tr>\n",
       "<tr>\n",
       "  <th>Model:</th>           <td>SARIMAX(1, 1, 1)x(1, 1, 1, 12)</td> <th>  Log Likelihood     </th>  <td>0.000</td>\n",
       "</tr>\n",
       "<tr>\n",
       "  <th>Date:</th>                   <td>Thu, 07 Sep 2023</td>        <th>  AIC                </th> <td>10.000</td>\n",
       "</tr>\n",
       "<tr>\n",
       "  <th>Time:</th>                       <td>13:49:11</td>            <th>  BIC                </th>  <td>  nan</td>\n",
       "</tr>\n",
       "<tr>\n",
       "  <th>Sample:</th>                    <td>04-01-2022</td>           <th>  HQIC               </th>  <td>  nan</td>\n",
       "</tr>\n",
       "<tr>\n",
       "  <th></th>                          <td>- 03-01-2023</td>          <th>                     </th>    <td> </td>  \n",
       "</tr>\n",
       "<tr>\n",
       "  <th>Covariance Type:</th>               <td>opg</td>              <th>                     </th>    <td> </td>  \n",
       "</tr>\n",
       "</table>\n",
       "<table class=\"simpletable\">\n",
       "<tr>\n",
       "      <td></td>        <th>coef</th>     <th>std err</th>      <th>z</th>      <th>P>|z|</th>  <th>[0.025</th>    <th>0.975]</th>  \n",
       "</tr>\n",
       "<tr>\n",
       "  <th>ar.L1</th>    <td>         0</td> <td>       -0</td> <td>      nan</td> <td>   nan</td> <td>        0</td> <td>        0</td>\n",
       "</tr>\n",
       "<tr>\n",
       "  <th>ma.L1</th>    <td>         0</td> <td>       -0</td> <td>      nan</td> <td>   nan</td> <td>        0</td> <td>        0</td>\n",
       "</tr>\n",
       "<tr>\n",
       "  <th>ar.S.L12</th> <td>         0</td> <td>       -0</td> <td>      nan</td> <td>   nan</td> <td>        0</td> <td>        0</td>\n",
       "</tr>\n",
       "<tr>\n",
       "  <th>ma.S.L12</th> <td>         0</td> <td>       -0</td> <td>      nan</td> <td>   nan</td> <td>        0</td> <td>        0</td>\n",
       "</tr>\n",
       "<tr>\n",
       "  <th>sigma2</th>   <td>    1.0000</td> <td>       -0</td> <td>     -inf</td> <td> 0.000</td> <td>    1.000</td> <td>    1.000</td>\n",
       "</tr>\n",
       "</table>\n",
       "<table class=\"simpletable\">\n",
       "<tr>\n",
       "  <th>Ljung-Box (L1) (Q):</th>     <td>nan</td> <th>  Jarque-Bera (JB):  </th> <td>nan</td>\n",
       "</tr>\n",
       "<tr>\n",
       "  <th>Prob(Q):</th>                <td>nan</td> <th>  Prob(JB):          </th> <td>nan</td>\n",
       "</tr>\n",
       "<tr>\n",
       "  <th>Heteroskedasticity (H):</th> <td>nan</td> <th>  Skew:              </th> <td>nan</td>\n",
       "</tr>\n",
       "<tr>\n",
       "  <th>Prob(H) (two-sided):</th>    <td>nan</td> <th>  Kurtosis:          </th> <td>nan</td>\n",
       "</tr>\n",
       "</table><br/><br/>Warnings:<br/>[1] Covariance matrix calculated using the outer product of gradients (complex-step).<br/>[2] Covariance matrix is singular or near-singular, with condition number    inf. Standard errors may be unstable."
      ],
      "text/plain": [
       "<class 'statsmodels.iolib.summary.Summary'>\n",
       "\"\"\"\n",
       "                                     SARIMAX Results                                      \n",
       "==========================================================================================\n",
       "Dep. Variable:                              sales   No. Observations:                   12\n",
       "Model:             SARIMAX(1, 1, 1)x(1, 1, 1, 12)   Log Likelihood                   0.000\n",
       "Date:                            Thu, 07 Sep 2023   AIC                             10.000\n",
       "Time:                                    13:49:11   BIC                                nan\n",
       "Sample:                                04-01-2022   HQIC                               nan\n",
       "                                     - 03-01-2023                                         \n",
       "Covariance Type:                              opg                                         \n",
       "==============================================================================\n",
       "                 coef    std err          z      P>|z|      [0.025      0.975]\n",
       "------------------------------------------------------------------------------\n",
       "ar.L1               0         -0        nan        nan           0           0\n",
       "ma.L1               0         -0        nan        nan           0           0\n",
       "ar.S.L12            0         -0        nan        nan           0           0\n",
       "ma.S.L12            0         -0        nan        nan           0           0\n",
       "sigma2         1.0000         -0       -inf      0.000       1.000       1.000\n",
       "===================================================================================\n",
       "Ljung-Box (L1) (Q):                    nan   Jarque-Bera (JB):                  nan\n",
       "Prob(Q):                               nan   Prob(JB):                          nan\n",
       "Heteroskedasticity (H):                nan   Skew:                              nan\n",
       "Prob(H) (two-sided):                   nan   Kurtosis:                          nan\n",
       "===================================================================================\n",
       "\n",
       "Warnings:\n",
       "[1] Covariance matrix calculated using the outer product of gradients (complex-step).\n",
       "[2] Covariance matrix is singular or near-singular, with condition number    inf. Standard errors may be unstable.\n",
       "\"\"\""
      ]
     },
     "execution_count": 30,
     "metadata": {},
     "output_type": "execute_result"
    }
   ],
   "source": [
    "model_sarimax = sm.tsa.statespace.SARIMAX(y_train,order=(1, 1, 1),seasonal_order=(1,1,1,12))\n",
    "\n",
    "results_sarimax = model_sarimax.fit()\n",
    "results_sarimax.summary()"
   ]
  },
  {
   "cell_type": "code",
   "execution_count": 31,
   "id": "c2e7a136",
   "metadata": {},
   "outputs": [
    {
     "data": {
      "text/plain": [
       "2023-04-01    2.500000\n",
       "2023-05-01    2.785715\n",
       "2023-06-01    2.625000\n",
       "2023-07-01    1.928572\n",
       "Freq: MS, Name: predicted_mean, dtype: float64"
      ]
     },
     "execution_count": 31,
     "metadata": {},
     "output_type": "execute_result"
    }
   ],
   "source": [
    "pred_sarimax = results_sarimax.predict(start= len(y_train), end= (len(y)-1),dynamic=True)\n",
    "pred_sarimax"
   ]
  },
  {
   "cell_type": "code",
   "execution_count": 32,
   "id": "7bfe7186",
   "metadata": {},
   "outputs": [
    {
     "data": {
      "text/plain": [
       "<AxesSubplot:xlabel='order_date'>"
      ]
     },
     "execution_count": 32,
     "metadata": {},
     "output_type": "execute_result"
    },
    {
     "data": {
      "image/png": "[encoded data removed]",
      "text/plain": [
       "<Figure size 720x432 with 1 Axes>"
      ]
     },
     "metadata": {
      "needs_background": "light"
     },
     "output_type": "display_data"
    }
   ],
   "source": [
    "y_train.plot(legend=True, label='Train', figsize=(10,6))\n",
    "\n",
    "y_test.plot(legend=True, label= 'Test')\n",
    "\n",
    "pred_sarimax.plot(legend=True, label='SARIMAX prediction')"
   ]
  },
  {
   "cell_type": "code",
   "execution_count": 33,
   "id": "7dc54cee",
   "metadata": {},
   "outputs": [
    {
     "name": "stdout",
     "output_type": "stream",
     "text": [
      "MAPE SARIMAX: 0.628283\n",
      "RMSE SARIMAX: 0.904216\n"
     ]
    }
   ],
   "source": [
    "mape_sarimax = mean_absolute_percentage_error(y_test, pred_sarimax)\n",
    "rmse_sarimax = mean_squared_error(y_test, pred_sarimax, squared=False)\n",
    "\n",
    "print('MAPE SARIMAX: %f' %mape_sarimax)\n",
    "print('RMSE SARIMAX: %f' %rmse_sarimax)"
   ]
  },
  {
   "cell_type": "markdown",
   "id": "0343abf4",
   "metadata": {},
   "source": [
    "# Predicting future sales"
   ]
  },
  {
   "cell_type": "code",
   "execution_count": 34,
   "id": "634dec74",
   "metadata": {},
   "outputs": [
    {
     "data": {
      "text/plain": [
       "2023-08-01    4.000000\n",
       "2023-09-01    1.700000\n",
       "2023-10-01    2.300000\n",
       "2023-11-01    2.250000\n",
       "2023-12-01    2.100000\n",
       "2024-01-01    2.166667\n",
       "2024-02-01    1.611112\n",
       "2024-03-01    2.000000\n",
       "2024-04-01    3.000001\n",
       "2024-05-01    3.285715\n",
       "2024-06-01    3.125001\n",
       "2024-07-01    2.428572\n",
       "2024-08-01    4.500001\n",
       "Freq: MS, Name: predicted_mean, dtype: float64"
      ]
     },
     "execution_count": 34,
     "metadata": {},
     "output_type": "execute_result"
    }
   ],
   "source": [
    "future_sale = results_sarimax.predict(start= len(y), end=(len(y)+12))\n",
    "future_sale"
   ]
  },
  {
   "cell_type": "code",
   "execution_count": 35,
   "id": "c717dcc5",
   "metadata": {},
   "outputs": [
    {
     "data": {
      "text/plain": [
       "<AxesSubplot:xlabel='order_date'>"
      ]
     },
     "execution_count": 35,
     "metadata": {},
     "output_type": "execute_result"
    },
    {
     "data": {
      "image/png": "[encoded data removed]",
      "text/plain": [
       "<Figure size 720x432 with 1 Axes>"
      ]
     },
     "metadata": {
      "needs_background": "light"
     },
     "output_type": "display_data"
    }
   ],
   "source": [
    "y.plot(legend=True, label='Current Sale', figsize=(10,6))\n",
    "\n",
    "future_sale.plot(legend= True, label='Future Sale')"
   ]
  },
  {
   "cell_type": "code",
   "execution_count": 36,
   "id": "d8423b23",
   "metadata": {},
   "outputs": [
    {
     "data": {
      "text/plain": [
       "order_date\n",
       "2022-04-01    2.000000\n",
       "2022-05-01    2.285714\n",
       "2022-06-01    2.125000\n",
       "2022-07-01    1.428571\n",
       "2022-08-01    3.500000\n",
       "2022-09-01    1.200000\n",
       "2022-10-01    1.800000\n",
       "2022-11-01    1.750000\n",
       "2022-12-01    1.600000\n",
       "2023-01-01    1.666667\n",
       "2023-02-01    1.111111\n",
       "2023-03-01    1.500000\n",
       "2023-04-01    2.000000\n",
       "2023-05-01    2.428571\n",
       "2023-06-01    1.200000\n",
       "2023-07-01    1.000000\n",
       "Freq: MS, Name: sales, dtype: float64"
      ]
     },
     "execution_count": 36,
     "metadata": {},
     "output_type": "execute_result"
    }
   ],
   "source": [
    "y"
   ]
  },
  {
   "cell_type": "code",
   "execution_count": 37,
   "id": "5a7685f4",
   "metadata": {},
   "outputs": [
    {
     "data": {
      "text/plain": [
       "dtype('float64')"
      ]
     },
     "execution_count": 37,
     "metadata": {},
     "output_type": "execute_result"
    }
   ],
   "source": [
    "y.dtype"
   ]
  },
  {
   "cell_type": "code",
   "execution_count": 38,
   "id": "f680cdef",
   "metadata": {},
   "outputs": [
    {
     "data": {
      "text/html": [
       "<div>\n",
       "<style scoped>\n",
       "    .dataframe tbody tr th:only-of-type {\n",
       "        vertical-align: middle;\n",
       "    }\n",
       "\n",
       "    .dataframe tbody tr th {\n",
       "        vertical-align: top;\n",
       "    }\n",
       "\n",
       "    .dataframe thead th {\n",
       "        text-align: right;\n",
       "    }\n",
       "</style>\n",
       "<table border=\"1\" class=\"dataframe\">\n",
       "  <thead>\n",
       "    <tr style=\"text-align: right;\">\n",
       "      <th></th>\n",
       "      <th>month</th>\n",
       "      <th>sales</th>\n",
       "    </tr>\n",
       "  </thead>\n",
       "  <tbody>\n",
       "    <tr>\n",
       "      <th>0</th>\n",
       "      <td>2022-04-01</td>\n",
       "      <td>2.000000</td>\n",
       "    </tr>\n",
       "    <tr>\n",
       "      <th>1</th>\n",
       "      <td>2022-05-01</td>\n",
       "      <td>2.285714</td>\n",
       "    </tr>\n",
       "    <tr>\n",
       "      <th>2</th>\n",
       "      <td>2022-06-01</td>\n",
       "      <td>2.125000</td>\n",
       "    </tr>\n",
       "    <tr>\n",
       "      <th>3</th>\n",
       "      <td>2022-07-01</td>\n",
       "      <td>1.428571</td>\n",
       "    </tr>\n",
       "    <tr>\n",
       "      <th>4</th>\n",
       "      <td>2022-08-01</td>\n",
       "      <td>3.500000</td>\n",
       "    </tr>\n",
       "    <tr>\n",
       "      <th>5</th>\n",
       "      <td>2022-09-01</td>\n",
       "      <td>1.200000</td>\n",
       "    </tr>\n",
       "    <tr>\n",
       "      <th>6</th>\n",
       "      <td>2022-10-01</td>\n",
       "      <td>1.800000</td>\n",
       "    </tr>\n",
       "    <tr>\n",
       "      <th>7</th>\n",
       "      <td>2022-11-01</td>\n",
       "      <td>1.750000</td>\n",
       "    </tr>\n",
       "    <tr>\n",
       "      <th>8</th>\n",
       "      <td>2022-12-01</td>\n",
       "      <td>1.600000</td>\n",
       "    </tr>\n",
       "    <tr>\n",
       "      <th>9</th>\n",
       "      <td>2023-01-01</td>\n",
       "      <td>1.666667</td>\n",
       "    </tr>\n",
       "    <tr>\n",
       "      <th>10</th>\n",
       "      <td>2023-02-01</td>\n",
       "      <td>1.111111</td>\n",
       "    </tr>\n",
       "    <tr>\n",
       "      <th>11</th>\n",
       "      <td>2023-03-01</td>\n",
       "      <td>1.500000</td>\n",
       "    </tr>\n",
       "    <tr>\n",
       "      <th>12</th>\n",
       "      <td>2023-04-01</td>\n",
       "      <td>2.000000</td>\n",
       "    </tr>\n",
       "    <tr>\n",
       "      <th>13</th>\n",
       "      <td>2023-05-01</td>\n",
       "      <td>2.428571</td>\n",
       "    </tr>\n",
       "    <tr>\n",
       "      <th>14</th>\n",
       "      <td>2023-06-01</td>\n",
       "      <td>1.200000</td>\n",
       "    </tr>\n",
       "    <tr>\n",
       "      <th>15</th>\n",
       "      <td>2023-07-01</td>\n",
       "      <td>1.000000</td>\n",
       "    </tr>\n",
       "    <tr>\n",
       "      <th>16</th>\n",
       "      <td>2023-08-01</td>\n",
       "      <td>4.000000</td>\n",
       "    </tr>\n",
       "    <tr>\n",
       "      <th>17</th>\n",
       "      <td>2023-09-01</td>\n",
       "      <td>1.700000</td>\n",
       "    </tr>\n",
       "    <tr>\n",
       "      <th>18</th>\n",
       "      <td>2023-10-01</td>\n",
       "      <td>2.300000</td>\n",
       "    </tr>\n",
       "    <tr>\n",
       "      <th>19</th>\n",
       "      <td>2023-11-01</td>\n",
       "      <td>2.250000</td>\n",
       "    </tr>\n",
       "    <tr>\n",
       "      <th>20</th>\n",
       "      <td>2023-12-01</td>\n",
       "      <td>2.100000</td>\n",
       "    </tr>\n",
       "    <tr>\n",
       "      <th>21</th>\n",
       "      <td>2024-01-01</td>\n",
       "      <td>2.166667</td>\n",
       "    </tr>\n",
       "    <tr>\n",
       "      <th>22</th>\n",
       "      <td>2024-02-01</td>\n",
       "      <td>1.611112</td>\n",
       "    </tr>\n",
       "    <tr>\n",
       "      <th>23</th>\n",
       "      <td>2024-03-01</td>\n",
       "      <td>2.000000</td>\n",
       "    </tr>\n",
       "    <tr>\n",
       "      <th>24</th>\n",
       "      <td>2024-04-01</td>\n",
       "      <td>3.000001</td>\n",
       "    </tr>\n",
       "    <tr>\n",
       "      <th>25</th>\n",
       "      <td>2024-05-01</td>\n",
       "      <td>3.285715</td>\n",
       "    </tr>\n",
       "    <tr>\n",
       "      <th>26</th>\n",
       "      <td>2024-06-01</td>\n",
       "      <td>3.125001</td>\n",
       "    </tr>\n",
       "    <tr>\n",
       "      <th>27</th>\n",
       "      <td>2024-07-01</td>\n",
       "      <td>2.428572</td>\n",
       "    </tr>\n",
       "    <tr>\n",
       "      <th>28</th>\n",
       "      <td>2024-08-01</td>\n",
       "      <td>4.500001</td>\n",
       "    </tr>\n",
       "  </tbody>\n",
       "</table>\n",
       "</div>"
      ],
      "text/plain": [
       "        month     sales\n",
       "0  2022-04-01  2.000000\n",
       "1  2022-05-01  2.285714\n",
       "2  2022-06-01  2.125000\n",
       "3  2022-07-01  1.428571\n",
       "4  2022-08-01  3.500000\n",
       "5  2022-09-01  1.200000\n",
       "6  2022-10-01  1.800000\n",
       "7  2022-11-01  1.750000\n",
       "8  2022-12-01  1.600000\n",
       "9  2023-01-01  1.666667\n",
       "10 2023-02-01  1.111111\n",
       "11 2023-03-01  1.500000\n",
       "12 2023-04-01  2.000000\n",
       "13 2023-05-01  2.428571\n",
       "14 2023-06-01  1.200000\n",
       "15 2023-07-01  1.000000\n",
       "16 2023-08-01  4.000000\n",
       "17 2023-09-01  1.700000\n",
       "18 2023-10-01  2.300000\n",
       "19 2023-11-01  2.250000\n",
       "20 2023-12-01  2.100000\n",
       "21 2024-01-01  2.166667\n",
       "22 2024-02-01  1.611112\n",
       "23 2024-03-01  2.000000\n",
       "24 2024-04-01  3.000001\n",
       "25 2024-05-01  3.285715\n",
       "26 2024-06-01  3.125001\n",
       "27 2024-07-01  2.428572\n",
       "28 2024-08-01  4.500001"
      ]
     },
     "execution_count": 38,
     "metadata": {},
     "output_type": "execute_result"
    }
   ],
   "source": [
    "for_front_end = pd.concat([y, future_sale])\n",
    "for_front_end = for_front_end.reset_index()\n",
    "for_front_end = for_front_end.rename(columns={\"index\": \"month\", 0: \"sales\"})\n",
    "for_front_end.to_csv('../datasets/demand_prediction_sarimax_sample.csv', index=False)\n",
    "for_front_end"
   ]
  },
  {
   "cell_type": "markdown",
   "id": "0c61bbaa",
   "metadata": {},
   "source": [
    "# Combine Both"
   ]
  },
  {
   "cell_type": "code",
   "execution_count": 39,
   "id": "0c814172",
   "metadata": {},
   "outputs": [
    {
     "data": {
      "text/plain": [
       "2023-04-01    1.433956\n",
       "2023-05-01    1.466764\n",
       "2023-06-01    1.450466\n",
       "2023-07-01    1.458563\n",
       "Freq: MS, Name: predicted_mean, dtype: float64"
      ]
     },
     "execution_count": 39,
     "metadata": {},
     "output_type": "execute_result"
    }
   ],
   "source": [
    "pred_arima"
   ]
  },
  {
   "cell_type": "code",
   "execution_count": 40,
   "id": "fe6efe20",
   "metadata": {},
   "outputs": [
    {
     "data": {
      "text/plain": [
       "2023-04-01    2.500000\n",
       "2023-05-01    2.785715\n",
       "2023-06-01    2.625000\n",
       "2023-07-01    1.928572\n",
       "Freq: MS, Name: predicted_mean, dtype: float64"
      ]
     },
     "execution_count": 40,
     "metadata": {},
     "output_type": "execute_result"
    }
   ],
   "source": [
    "pred_sarimax"
   ]
  },
  {
   "cell_type": "code",
   "execution_count": 42,
   "id": "805a266d",
   "metadata": {},
   "outputs": [
    {
     "name": "stdout",
     "output_type": "stream",
     "text": [
      "ARIMA Weight  SARIMAX Weight  RMSE    MAPE\n",
      "0.1            0.9            0.8204  56.52%\n",
      "0.2            0.8            0.7423  50.20%\n",
      "0.3            0.7            0.6717  44.68%\n",
      "0.4            0.6            0.6114  41.09%\n",
      "0.5            0.5            0.5647  38.32%\n",
      "0.6            0.4            0.5350  37.39%\n",
      "0.7            0.3            0.5254  36.45%\n",
      "0.8            0.2            0.5368  35.52%\n",
      "0.9            0.1            0.5681  34.59%\n"
     ]
    }
   ],
   "source": [
    "# Initialize lists to store MSE and MAPE results\n",
    "rmse_results = []\n",
    "mape_results = []\n",
    "\n",
    "# Iterate through different weight values for pred_arima\n",
    "for weight in np.arange(0.1, 1.0, 0.1):\n",
    "    # Calculate the weighted average of the two predictions\n",
    "    weighted_average = (weight * np.array(pred_arima)) + ((1 - weight) * np.array(pred_sarimax))\n",
    "    \n",
    "    # Calculate MSE and MAPE\n",
    "    rmse = mean_squared_error(y_test, weighted_average, squared=False)\n",
    "    mape = mean_absolute_percentage_error(y_test, weighted_average)\n",
    "    \n",
    "    # Append results to the lists\n",
    "    rmse_results.append((weight, rmse))\n",
    "    mape_results.append((weight, mape))\n",
    "\n",
    "# Print the results\n",
    "print(\"ARIMA Weight  SARIMAX Weight  RMSE    MAPE\")\n",
    "for weight, mse in rmse_results:\n",
    "    mape = next(mape for w, mape in mape_results if w == weight)\n",
    "    print(f\"{weight:.1f}            {(1 - weight):.1f}            {mse:.4f}  {mape*100:.2f}%\")\n"
   ]
  },
  {
   "cell_type": "code",
   "execution_count": 43,
   "id": "7a408922",
   "metadata": {},
   "outputs": [
    {
     "data": {
      "text/plain": [
       "2023-08-01    1.454540\n",
       "2023-09-01    1.456538\n",
       "2023-10-01    1.455546\n",
       "2023-11-01    1.456039\n",
       "2023-12-01    1.455794\n",
       "2024-01-01    1.455916\n",
       "2024-02-01    1.455855\n",
       "2024-03-01    1.455885\n",
       "2024-04-01    1.455870\n",
       "2024-05-01    1.455878\n",
       "2024-06-01    1.455874\n",
       "2024-07-01    1.455876\n",
       "2024-08-01    1.455875\n",
       "Freq: MS, Name: predicted_mean, dtype: float64"
      ]
     },
     "execution_count": 43,
     "metadata": {},
     "output_type": "execute_result"
    }
   ],
   "source": [
    "# Here we can see a 70:30 split returns the best RMSE. Let's see hows the future sales graph look like with this split\n",
    "\n",
    "future_sales_arima = model_arima.predict(start=len(y), end=(len(y)+12))\n",
    "future_sales_sarimax = results_sarimax.predict(start= len(y), end=(len(y)+12))\n",
    "\n",
    "future_sales_arima"
   ]
  },
  {
   "cell_type": "code",
   "execution_count": 44,
   "id": "845425da",
   "metadata": {},
   "outputs": [
    {
     "data": {
      "text/plain": [
       "2023-08-01    4.000000\n",
       "2023-09-01    1.700000\n",
       "2023-10-01    2.300000\n",
       "2023-11-01    2.250000\n",
       "2023-12-01    2.100000\n",
       "2024-01-01    2.166667\n",
       "2024-02-01    1.611112\n",
       "2024-03-01    2.000000\n",
       "2024-04-01    3.000001\n",
       "2024-05-01    3.285715\n",
       "2024-06-01    3.125001\n",
       "2024-07-01    2.428572\n",
       "2024-08-01    4.500001\n",
       "Freq: MS, Name: predicted_mean, dtype: float64"
      ]
     },
     "execution_count": 44,
     "metadata": {},
     "output_type": "execute_result"
    }
   ],
   "source": [
    "future_sales_sarimax"
   ]
  },
  {
   "cell_type": "code",
   "execution_count": 45,
   "id": "5feec1ac",
   "metadata": {},
   "outputs": [
    {
     "data": {
      "text/plain": [
       "2023-08-01    2.218178\n",
       "2023-09-01    1.529577\n",
       "2023-10-01    1.708882\n",
       "2023-11-01    1.694227\n",
       "2023-12-01    1.649056\n",
       "2024-01-01    1.669141\n",
       "2024-02-01    1.502432\n",
       "2024-03-01    1.619120\n",
       "2024-04-01    1.919110\n",
       "2024-05-01    2.004829\n",
       "2024-06-01    1.956612\n",
       "2024-07-01    1.747685\n",
       "2024-08-01    2.369113\n",
       "Freq: MS, Name: predicted_mean, dtype: float64"
      ]
     },
     "execution_count": 45,
     "metadata": {},
     "output_type": "execute_result"
    }
   ],
   "source": [
    "weight_arima = 0.7\n",
    "future_sales_weighted = (weight_arima * future_sales_arima) + ((1 - weight_arima) * future_sales_sarimax)\n",
    "future_sales_weighted"
   ]
  },
  {
   "cell_type": "code",
   "execution_count": 46,
   "id": "62e43462",
   "metadata": {},
   "outputs": [
    {
     "data": {
      "text/plain": [
       "Text(0.5, 1.0, 'ARIMA:SARIMAX = 70:30 Sales Prediction')"
      ]
     },
     "execution_count": 46,
     "metadata": {},
     "output_type": "execute_result"
    },
    {
     "data": {
      "image/png": "[encoded data removed]",
      "text/plain": [
       "<Figure size 720x432 with 1 Axes>"
      ]
     },
     "metadata": {
      "needs_background": "light"
     },
     "output_type": "display_data"
    }
   ],
   "source": [
    "y.plot(legend=True, label='Current Sale', figsize=(10,6))\n",
    "\n",
    "future_sales_weighted.plot(legend= True, label='Future Sale')\n",
    "\n",
    "plt.title('ARIMA:SARIMAX = 70:30 Sales Prediction')"
   ]
  },
  {
   "cell_type": "markdown",
   "id": "b64d26d0",
   "metadata": {},
   "source": [
    "# Combine all 3"
   ]
  },
  {
   "cell_type": "code",
   "execution_count": 48,
   "id": "ef7d6c6d",
   "metadata": {},
   "outputs": [
    {
     "data": {
      "text/plain": [
       "order_date\n",
       "2022-04-01    2.000000\n",
       "2022-05-01    2.285714\n",
       "2022-06-01    2.125000\n",
       "2022-07-01    1.428571\n",
       "2022-08-01    3.500000\n",
       "2022-09-01    1.200000\n",
       "2022-10-01    1.800000\n",
       "2022-11-01    1.750000\n",
       "2022-12-01    1.600000\n",
       "2023-01-01    1.666667\n",
       "2023-02-01    1.111111\n",
       "2023-03-01    1.500000\n",
       "Freq: MS, Name: sales, dtype: float64"
      ]
     },
     "execution_count": 48,
     "metadata": {},
     "output_type": "execute_result"
    }
   ],
   "source": [
    "y_train"
   ]
  },
  {
   "cell_type": "code",
   "execution_count": 49,
   "id": "ebcb2bae",
   "metadata": {},
   "outputs": [
    {
     "data": {
      "text/plain": [
       "order_date\n",
       "2023-04-01    2.000000\n",
       "2023-05-01    2.428571\n",
       "2023-06-01    1.200000\n",
       "2023-07-01    1.000000\n",
       "Freq: MS, Name: sales, dtype: float64"
      ]
     },
     "execution_count": 49,
     "metadata": {},
     "output_type": "execute_result"
    }
   ],
   "source": [
    "y_test"
   ]
  },
  {
   "cell_type": "code",
   "execution_count": 50,
   "id": "b9c5b559",
   "metadata": {},
   "outputs": [
    {
     "ename": "ValueError",
     "evalue": "Cannot compute initial seasonals using heuristic method with less than two full seasonal cycles in the data.",
     "output_type": "error",
     "traceback": [
      "\u001b[1;31m---------------------------------------------------------------------------\u001b[0m",
      "\u001b[1;31mValueError\u001b[0m                                Traceback (most recent call last)",
      "\u001b[1;32m~\\AppData\\Local\\Temp/ipykernel_24280/2119323483.py\u001b[0m in \u001b[0;36m<module>\u001b[1;34m\u001b[0m\n\u001b[0;32m      3\u001b[0m \u001b[1;32mfor\u001b[0m \u001b[0mx\u001b[0m \u001b[1;32min\u001b[0m \u001b[0mrange\u001b[0m\u001b[1;33m(\u001b[0m\u001b[1;36m1\u001b[0m\u001b[1;33m,\u001b[0m \u001b[1;36m10\u001b[0m\u001b[1;33m,\u001b[0m \u001b[1;36m1\u001b[0m\u001b[1;33m)\u001b[0m\u001b[1;33m:\u001b[0m\u001b[1;33m\u001b[0m\u001b[1;33m\u001b[0m\u001b[0m\n\u001b[0;32m      4\u001b[0m     \u001b[0mlevel\u001b[0m \u001b[1;33m=\u001b[0m \u001b[0mx\u001b[0m\u001b[1;33m/\u001b[0m\u001b[1;36m10\u001b[0m\u001b[1;33m\u001b[0m\u001b[1;33m\u001b[0m\u001b[0m\n\u001b[1;32m----> 5\u001b[1;33m     \u001b[0mes\u001b[0m \u001b[1;33m=\u001b[0m \u001b[0mExponentialSmoothing\u001b[0m\u001b[1;33m(\u001b[0m\u001b[0my_train\u001b[0m\u001b[1;33m,\u001b[0m\u001b[0mtrend\u001b[0m\u001b[1;33m=\u001b[0m\u001b[1;34m'add'\u001b[0m\u001b[1;33m,\u001b[0m\u001b[0mseasonal\u001b[0m\u001b[1;33m=\u001b[0m\u001b[1;34m'add'\u001b[0m\u001b[1;33m,\u001b[0m\u001b[0mseasonal_periods\u001b[0m\u001b[1;33m=\u001b[0m\u001b[1;36m12\u001b[0m\u001b[1;33m)\u001b[0m\u001b[1;33m.\u001b[0m\u001b[0mfit\u001b[0m\u001b[1;33m(\u001b[0m\u001b[0msmoothing_seasonal\u001b[0m\u001b[1;33m=\u001b[0m\u001b[0mlevel\u001b[0m\u001b[1;33m)\u001b[0m\u001b[1;33m\u001b[0m\u001b[1;33m\u001b[0m\u001b[0m\n\u001b[0m\u001b[0;32m      6\u001b[0m     \u001b[0mpred_es\u001b[0m \u001b[1;33m=\u001b[0m \u001b[0mes\u001b[0m\u001b[1;33m.\u001b[0m\u001b[0mforecast\u001b[0m\u001b[1;33m(\u001b[0m\u001b[0mlen\u001b[0m\u001b[1;33m(\u001b[0m\u001b[0my_test\u001b[0m\u001b[1;33m)\u001b[0m\u001b[1;33m)\u001b[0m\u001b[1;33m\u001b[0m\u001b[1;33m\u001b[0m\u001b[0m\n\u001b[0;32m      7\u001b[0m     \u001b[0mtemp\u001b[0m \u001b[1;33m=\u001b[0m \u001b[1;33m[\u001b[0m\u001b[0mlevel\u001b[0m\u001b[1;33m,\u001b[0m \u001b[0mround\u001b[0m\u001b[1;33m(\u001b[0m\u001b[0mmean_squared_error\u001b[0m\u001b[1;33m(\u001b[0m\u001b[0my_test\u001b[0m\u001b[1;33m,\u001b[0m \u001b[0mpred_es\u001b[0m\u001b[1;33m,\u001b[0m \u001b[0msquared\u001b[0m\u001b[1;33m=\u001b[0m\u001b[1;32mFalse\u001b[0m\u001b[1;33m)\u001b[0m\u001b[1;33m,\u001b[0m\u001b[1;36m3\u001b[0m\u001b[1;33m)\u001b[0m\u001b[1;33m,\u001b[0m \u001b[0mround\u001b[0m\u001b[1;33m(\u001b[0m\u001b[0mmean_absolute_percentage_error\u001b[0m\u001b[1;33m(\u001b[0m\u001b[0mtest\u001b[0m\u001b[1;33m,\u001b[0m \u001b[0my_pred\u001b[0m\u001b[1;33m)\u001b[0m\u001b[1;33m,\u001b[0m\u001b[1;36m3\u001b[0m\u001b[1;33m)\u001b[0m\u001b[1;33m]\u001b[0m\u001b[1;33m\u001b[0m\u001b[1;33m\u001b[0m\u001b[0m\n",
      "\u001b[1;32m~\\AppData\\Roaming\\Python\\Python39\\site-packages\\pandas\\util\\_decorators.py\u001b[0m in \u001b[0;36mwrapper\u001b[1;34m(*args, **kwargs)\u001b[0m\n\u001b[0;32m    197\u001b[0m                 \u001b[1;32melse\u001b[0m\u001b[1;33m:\u001b[0m\u001b[1;33m\u001b[0m\u001b[1;33m\u001b[0m\u001b[0m\n\u001b[0;32m    198\u001b[0m                     \u001b[0mkwargs\u001b[0m\u001b[1;33m[\u001b[0m\u001b[0mnew_arg_name\u001b[0m\u001b[1;33m]\u001b[0m \u001b[1;33m=\u001b[0m \u001b[0mnew_arg_value\u001b[0m\u001b[1;33m\u001b[0m\u001b[1;33m\u001b[0m\u001b[0m\n\u001b[1;32m--> 199\u001b[1;33m             \u001b[1;32mreturn\u001b[0m \u001b[0mfunc\u001b[0m\u001b[1;33m(\u001b[0m\u001b[1;33m*\u001b[0m\u001b[0margs\u001b[0m\u001b[1;33m,\u001b[0m \u001b[1;33m**\u001b[0m\u001b[0mkwargs\u001b[0m\u001b[1;33m)\u001b[0m\u001b[1;33m\u001b[0m\u001b[1;33m\u001b[0m\u001b[0m\n\u001b[0m\u001b[0;32m    200\u001b[0m \u001b[1;33m\u001b[0m\u001b[0m\n\u001b[0;32m    201\u001b[0m         \u001b[1;32mreturn\u001b[0m \u001b[0mcast\u001b[0m\u001b[1;33m(\u001b[0m\u001b[0mF\u001b[0m\u001b[1;33m,\u001b[0m \u001b[0mwrapper\u001b[0m\u001b[1;33m)\u001b[0m\u001b[1;33m\u001b[0m\u001b[1;33m\u001b[0m\u001b[0m\n",
      "\u001b[1;32m~\\anaconda3\\lib\\site-packages\\statsmodels\\tsa\\holtwinters\\model.py\u001b[0m in \u001b[0;36m__init__\u001b[1;34m(self, endog, trend, damped_trend, seasonal, seasonal_periods, initialization_method, initial_level, initial_trend, initial_seasonal, use_boxcox, bounds, dates, freq, missing)\u001b[0m\n\u001b[0;32m    290\u001b[0m         \u001b[0mself\u001b[0m\u001b[1;33m.\u001b[0m\u001b[0m_lambda\u001b[0m \u001b[1;33m=\u001b[0m \u001b[0mnp\u001b[0m\u001b[1;33m.\u001b[0m\u001b[0mnan\u001b[0m\u001b[1;33m\u001b[0m\u001b[1;33m\u001b[0m\u001b[0m\n\u001b[0;32m    291\u001b[0m         \u001b[0mself\u001b[0m\u001b[1;33m.\u001b[0m\u001b[0m_y\u001b[0m \u001b[1;33m=\u001b[0m \u001b[0mself\u001b[0m\u001b[1;33m.\u001b[0m\u001b[0m_boxcox\u001b[0m\u001b[1;33m(\u001b[0m\u001b[1;33m)\u001b[0m\u001b[1;33m\u001b[0m\u001b[1;33m\u001b[0m\u001b[0m\n\u001b[1;32m--> 292\u001b[1;33m         \u001b[0mself\u001b[0m\u001b[1;33m.\u001b[0m\u001b[0m_initialize\u001b[0m\u001b[1;33m(\u001b[0m\u001b[1;33m)\u001b[0m\u001b[1;33m\u001b[0m\u001b[1;33m\u001b[0m\u001b[0m\n\u001b[0m\u001b[0;32m    293\u001b[0m         \u001b[0mself\u001b[0m\u001b[1;33m.\u001b[0m\u001b[0m_fixed_parameters\u001b[0m \u001b[1;33m=\u001b[0m \u001b[1;33m{\u001b[0m\u001b[1;33m}\u001b[0m\u001b[1;33m\u001b[0m\u001b[1;33m\u001b[0m\u001b[0m\n\u001b[0;32m    294\u001b[0m \u001b[1;33m\u001b[0m\u001b[0m\n",
      "\u001b[1;32m~\\anaconda3\\lib\\site-packages\\statsmodels\\tsa\\holtwinters\\model.py\u001b[0m in \u001b[0;36m_initialize\u001b[1;34m(self)\u001b[0m\n\u001b[0;32m    428\u001b[0m         \u001b[1;32melif\u001b[0m \u001b[0mself\u001b[0m\u001b[1;33m.\u001b[0m\u001b[0m_initialization_method\u001b[0m \u001b[1;33m==\u001b[0m \u001b[1;34m\"estimated\"\u001b[0m\u001b[1;33m:\u001b[0m\u001b[1;33m\u001b[0m\u001b[1;33m\u001b[0m\u001b[0m\n\u001b[0;32m    429\u001b[0m             \u001b[1;32mif\u001b[0m \u001b[0mself\u001b[0m\u001b[1;33m.\u001b[0m\u001b[0mnobs\u001b[0m \u001b[1;33m<\u001b[0m \u001b[1;36m10\u001b[0m \u001b[1;33m+\u001b[0m \u001b[1;36m2\u001b[0m \u001b[1;33m*\u001b[0m \u001b[1;33m(\u001b[0m\u001b[0mself\u001b[0m\u001b[1;33m.\u001b[0m\u001b[0mseasonal_periods\u001b[0m \u001b[1;33m//\u001b[0m \u001b[1;36m2\u001b[0m\u001b[1;33m)\u001b[0m\u001b[1;33m:\u001b[0m\u001b[1;33m\u001b[0m\u001b[1;33m\u001b[0m\u001b[0m\n\u001b[1;32m--> 430\u001b[1;33m                 \u001b[1;32mreturn\u001b[0m \u001b[0mself\u001b[0m\u001b[1;33m.\u001b[0m\u001b[0m_initialize_simple\u001b[0m\u001b[1;33m(\u001b[0m\u001b[1;33m)\u001b[0m\u001b[1;33m\u001b[0m\u001b[1;33m\u001b[0m\u001b[0m\n\u001b[0m\u001b[0;32m    431\u001b[0m             \u001b[1;32melse\u001b[0m\u001b[1;33m:\u001b[0m\u001b[1;33m\u001b[0m\u001b[1;33m\u001b[0m\u001b[0m\n\u001b[0;32m    432\u001b[0m                 \u001b[1;32mreturn\u001b[0m \u001b[0mself\u001b[0m\u001b[1;33m.\u001b[0m\u001b[0m_initialize_heuristic\u001b[0m\u001b[1;33m(\u001b[0m\u001b[1;33m)\u001b[0m\u001b[1;33m\u001b[0m\u001b[1;33m\u001b[0m\u001b[0m\n",
      "\u001b[1;32m~\\anaconda3\\lib\\site-packages\\statsmodels\\tsa\\holtwinters\\model.py\u001b[0m in \u001b[0;36m_initialize_simple\u001b[1;34m(self)\u001b[0m\n\u001b[0;32m    435\u001b[0m         \u001b[0mtrend\u001b[0m \u001b[1;33m=\u001b[0m \u001b[0mself\u001b[0m\u001b[1;33m.\u001b[0m\u001b[0mtrend\u001b[0m \u001b[1;32mif\u001b[0m \u001b[0mself\u001b[0m\u001b[1;33m.\u001b[0m\u001b[0mhas_trend\u001b[0m \u001b[1;32melse\u001b[0m \u001b[1;32mFalse\u001b[0m\u001b[1;33m\u001b[0m\u001b[1;33m\u001b[0m\u001b[0m\n\u001b[0;32m    436\u001b[0m         \u001b[0mseasonal\u001b[0m \u001b[1;33m=\u001b[0m \u001b[0mself\u001b[0m\u001b[1;33m.\u001b[0m\u001b[0mseasonal\u001b[0m \u001b[1;32mif\u001b[0m \u001b[0mself\u001b[0m\u001b[1;33m.\u001b[0m\u001b[0mhas_seasonal\u001b[0m \u001b[1;32melse\u001b[0m \u001b[1;32mFalse\u001b[0m\u001b[1;33m\u001b[0m\u001b[1;33m\u001b[0m\u001b[0m\n\u001b[1;32m--> 437\u001b[1;33m         lvl, trend, seas = _initialization_simple(\n\u001b[0m\u001b[0;32m    438\u001b[0m             \u001b[0mself\u001b[0m\u001b[1;33m.\u001b[0m\u001b[0m_y\u001b[0m\u001b[1;33m,\u001b[0m \u001b[0mtrend\u001b[0m\u001b[1;33m,\u001b[0m \u001b[0mseasonal\u001b[0m\u001b[1;33m,\u001b[0m \u001b[0mself\u001b[0m\u001b[1;33m.\u001b[0m\u001b[0mseasonal_periods\u001b[0m\u001b[1;33m\u001b[0m\u001b[1;33m\u001b[0m\u001b[0m\n\u001b[0;32m    439\u001b[0m         )\n",
      "\u001b[1;32m~\\anaconda3\\lib\\site-packages\\statsmodels\\tsa\\exponential_smoothing\\initialization.py\u001b[0m in \u001b[0;36m_initialization_simple\u001b[1;34m(endog, trend, seasonal, seasonal_periods)\u001b[0m\n\u001b[0;32m     24\u001b[0m     \u001b[1;32melse\u001b[0m\u001b[1;33m:\u001b[0m\u001b[1;33m\u001b[0m\u001b[1;33m\u001b[0m\u001b[0m\n\u001b[0;32m     25\u001b[0m         \u001b[1;32mif\u001b[0m \u001b[0mnobs\u001b[0m \u001b[1;33m<\u001b[0m \u001b[1;36m2\u001b[0m \u001b[1;33m*\u001b[0m \u001b[0mseasonal_periods\u001b[0m\u001b[1;33m:\u001b[0m\u001b[1;33m\u001b[0m\u001b[1;33m\u001b[0m\u001b[0m\n\u001b[1;32m---> 26\u001b[1;33m             raise ValueError('Cannot compute initial seasonals using'\n\u001b[0m\u001b[0;32m     27\u001b[0m                              \u001b[1;34m' heuristic method with less than two full'\u001b[0m\u001b[1;33m\u001b[0m\u001b[1;33m\u001b[0m\u001b[0m\n\u001b[0;32m     28\u001b[0m                              ' seasonal cycles in the data.')\n",
      "\u001b[1;31mValueError\u001b[0m: Cannot compute initial seasonals using heuristic method with less than two full seasonal cycles in the data."
     ]
    }
   ],
   "source": [
    "es_results = pd.DataFrame([], columns=['smoothing_seasonal', 'mae', 'mape'])\n",
    "\n",
    "for x in range(1, 10, 1):\n",
    "    level = x/10\n",
    "    es = ExponentialSmoothing(y_train,trend='add',seasonal='add',seasonal_periods=12).fit(smoothing_seasonal=level)\n",
    "    pred_es = es.forecast(len(y_test))\n",
    "    temp = [level, round(mean_squared_error(y_test, pred_es, squared=False),3), round(mean_absolute_percentage_error(test, y_pred),3)]\n",
    "    es_results.loc[len(es_results)] = temp\n",
    "\n",
    "es_results"
   ]
  }
 ],
 "metadata": {
  "kernelspec": {
   "display_name": "Python 3 (ipykernel)",
   "language": "python",
   "name": "python3"
  },
  "language_info": {
   "codemirror_mode": {
    "name": "ipython",
    "version": 3
   },
   "file_extension": ".py",
   "mimetype": "text/x-python",
   "name": "python",
   "nbconvert_exporter": "python",
   "pygments_lexer": "ipython3",
   "version": "3.9.7"
  }
 },
 "nbformat": 4,
 "nbformat_minor": 5
}
