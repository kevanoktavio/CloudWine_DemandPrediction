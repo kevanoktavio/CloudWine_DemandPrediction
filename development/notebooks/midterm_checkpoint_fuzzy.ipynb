{
 "cells": [
  {
   "cell_type": "markdown",
   "metadata": {},
   "source": [
    "# Import Required Libraries"
   ]
  },
  {
   "cell_type": "code",
   "execution_count": 1,
   "metadata": {},
   "outputs": [],
   "source": [
    "import pandas as pd\n",
    "\n",
    "from fuzzywuzzy import fuzz\n",
    "import re # use regular expression (regex) operations on top of fuzzscore\n",
    "from sklearn.feature_extraction.text import CountVectorizer\n",
    "from sklearn.metrics.pairwise import cosine_similarity\n",
    "from names_matcher import NamesMatcher"
   ]
  },
  {
   "cell_type": "markdown",
   "metadata": {},
   "source": [
    "# Fuzzy vs Names Matching vs Cosine Similarity"
   ]
  },
  {
   "cell_type": "code",
   "execution_count": 2,
   "metadata": {},
   "outputs": [],
   "source": [
    "# cosine similarity function\n",
    "\n",
    "def compare_cosine_similarity(product1, product2):\n",
    "    names = [product1, product2]\n",
    "    # create the document term matrix\n",
    "    count_vectorizer = CountVectorizer(stop_words='english')\n",
    "    count_vectorizer = CountVectorizer()\n",
    "    sparse_matrix = count_vectorizer.fit_transform(names)\n",
    "    \n",
    "    doc_term_matrix = sparse_matrix.todense()\n",
    "    df = pd.DataFrame(doc_term_matrix, \n",
    "                  columns=count_vectorizer.get_feature_names_out(), \n",
    "                  index=['name1', 'name2'])\n",
    "    result = cosine_similarity(df, df)\n",
    "    return result[0][1]"
   ]
  },
  {
   "cell_type": "markdown",
   "metadata": {},
   "source": [
    "## Positive Sample"
   ]
  },
  {
   "cell_type": "code",
   "execution_count": 13,
   "metadata": {},
   "outputs": [],
   "source": [
    "# sample 1 - products that can/should be matched\n",
    "bbw_1 = \"BODEGAS VALDUERO 6 AÑOS RESERVA PREMIUM 2015\"\n",
    "comp_1 = [\"Ribera Del Duero 6 Años Reserva Premium\", \"Bodegas Valduero Ribera Del Duero Reserva Premium 6 Anos\"]"
   ]
  },
  {
   "cell_type": "code",
   "execution_count": 16,
   "metadata": {},
   "outputs": [],
   "source": [
    "results_1 = {\n",
    "    \"cosine similarity\": [],\n",
    "    \"fuzz.ratio\": [],\n",
    "    \"fuzz.token_set_ratio\": [],\n",
    "    \"names matcher\": []\n",
    "}\n",
    "\n",
    "for pdt in comp_1:\n",
    "    results_1[\"cosine similarity\"].append(round(compare_cosine_similarity(bbw_1, pdt),2))\n",
    "    results_1[\"fuzz.ratio\"].append(fuzz.ratio(bbw_1.lower(), pdt.lower())/100)\n",
    "    results_1[\"fuzz.token_set_ratio\"].append(fuzz.token_set_ratio(bbw_1, pdt)/100)\n",
    "    results_1[\"names matcher\"].append(NamesMatcher()([bbw_1], [pdt])[1][0])"
   ]
  },
  {
   "cell_type": "code",
   "execution_count": 17,
   "metadata": {},
   "outputs": [
    {
     "data": {
      "text/plain": [
       "{'cosine similarity': [0.5, 0.58],\n",
       " 'fuzz.ratio': [0.8, 0.72],\n",
       " 'fuzz.token_set_ratio': [0.74, 0.88],\n",
       " 'names matcher': [1.0, 1.0]}"
      ]
     },
     "execution_count": 17,
     "metadata": {},
     "output_type": "execute_result"
    }
   ],
   "source": [
    "results_1"
   ]
  },
  {
   "cell_type": "code",
   "execution_count": 18,
   "metadata": {},
   "outputs": [
    {
     "data": {
      "text/html": [
       "<div>\n",
       "<style scoped>\n",
       "    .dataframe tbody tr th:only-of-type {\n",
       "        vertical-align: middle;\n",
       "    }\n",
       "\n",
       "    .dataframe tbody tr th {\n",
       "        vertical-align: top;\n",
       "    }\n",
       "\n",
       "    .dataframe thead th {\n",
       "        text-align: right;\n",
       "    }\n",
       "</style>\n",
       "<table border=\"1\" class=\"dataframe\">\n",
       "  <thead>\n",
       "    <tr style=\"text-align: right;\">\n",
       "      <th></th>\n",
       "      <th>cosine similarity</th>\n",
       "      <th>fuzz.ratio</th>\n",
       "      <th>fuzz.token_set_ratio</th>\n",
       "      <th>names matcher</th>\n",
       "    </tr>\n",
       "  </thead>\n",
       "  <tbody>\n",
       "    <tr>\n",
       "      <th>Ribera Del Duero 6 Años Reserva Premium</th>\n",
       "      <td>0.50</td>\n",
       "      <td>0.80</td>\n",
       "      <td>0.74</td>\n",
       "      <td>1.0</td>\n",
       "    </tr>\n",
       "    <tr>\n",
       "      <th>Bodegas Valduero Ribera Del Duero Reserva Premium 6 Anos</th>\n",
       "      <td>0.58</td>\n",
       "      <td>0.72</td>\n",
       "      <td>0.88</td>\n",
       "      <td>1.0</td>\n",
       "    </tr>\n",
       "  </tbody>\n",
       "</table>\n",
       "</div>"
      ],
      "text/plain": [
       "                                                    cosine similarity  \\\n",
       "Ribera Del Duero 6 Años Reserva Premium                          0.50   \n",
       "Bodegas Valduero Ribera Del Duero Reserva Premi...               0.58   \n",
       "\n",
       "                                                    fuzz.ratio  \\\n",
       "Ribera Del Duero 6 Años Reserva Premium                   0.80   \n",
       "Bodegas Valduero Ribera Del Duero Reserva Premi...        0.72   \n",
       "\n",
       "                                                    fuzz.token_set_ratio  \\\n",
       "Ribera Del Duero 6 Años Reserva Premium                             0.74   \n",
       "Bodegas Valduero Ribera Del Duero Reserva Premi...                  0.88   \n",
       "\n",
       "                                                    names matcher  \n",
       "Ribera Del Duero 6 Años Reserva Premium                       1.0  \n",
       "Bodegas Valduero Ribera Del Duero Reserva Premi...            1.0  "
      ]
     },
     "execution_count": 18,
     "metadata": {},
     "output_type": "execute_result"
    }
   ],
   "source": [
    "df_1 = pd.DataFrame(results_1, index=[comp_1[0],comp_1[1]])\n",
    "df_1"
   ]
  },
  {
   "cell_type": "markdown",
   "metadata": {},
   "source": [
    "## Negative Sample"
   ]
  },
  {
   "cell_type": "code",
   "execution_count": 33,
   "metadata": {},
   "outputs": [],
   "source": [
    "# sample 2 - products that are NOT supposed to be matched - with extra tests this time\n",
    "bbw_2 = \"BATASIOLO MOSCATO SPUNANTE NV\"\n",
    "comp_2 = [\"Prunotto Moscato 2020\",\n",
    "          \"BATASIOLO MOSCATO D’ASTI DOCG BOSC DLA REI 2019\",\n",
    "          \"BROWN BROTHERS MOSCATO\",\n",
    "          \"Batasiolo Bosc D'la Rei Moscato d'Asti\"\n",
    "         ]"
   ]
  },
  {
   "cell_type": "code",
   "execution_count": 34,
   "metadata": {},
   "outputs": [],
   "source": [
    "results_2 = {\n",
    "    \"cosine similarity\": [],\n",
    "    \"fuzz.ratio\": [],\n",
    "    \"fuzz.token_set_ratio\": [],\n",
    "    \"names matcher\": []\n",
    "}\n",
    "\n",
    "for pdt in comp_2:\n",
    "    results_2[\"cosine similarity\"].append(round(compare_cosine_similarity(bbw_2, pdt),2))\n",
    "    results_2[\"fuzz.ratio\"].append(fuzz.ratio(bbw_2.lower(), pdt.lower())/100)\n",
    "    results_2[\"fuzz.token_set_ratio\"].append(fuzz.token_set_ratio(bbw_2, pdt)/100)\n",
    "    results_2[\"names matcher\"].append(round(NamesMatcher()([bbw_2], [pdt])[1][0],2))"
   ]
  },
  {
   "cell_type": "code",
   "execution_count": 35,
   "metadata": {},
   "outputs": [
    {
     "data": {
      "text/plain": [
       "{'cosine similarity': [0.29, 0.35, 0.29, 0.41],\n",
       " 'fuzz.ratio': [0.44, 0.58, 0.43, 0.6],\n",
       " 'fuzz.token_set_ratio': [0.52, 0.74, 0.51, 0.74],\n",
       " 'names matcher': [0.85, 0.83, 0.85, 0.9]}"
      ]
     },
     "execution_count": 35,
     "metadata": {},
     "output_type": "execute_result"
    }
   ],
   "source": [
    "results_2"
   ]
  },
  {
   "cell_type": "code",
   "execution_count": 36,
   "metadata": {},
   "outputs": [
    {
     "data": {
      "text/html": [
       "<div>\n",
       "<style scoped>\n",
       "    .dataframe tbody tr th:only-of-type {\n",
       "        vertical-align: middle;\n",
       "    }\n",
       "\n",
       "    .dataframe tbody tr th {\n",
       "        vertical-align: top;\n",
       "    }\n",
       "\n",
       "    .dataframe thead th {\n",
       "        text-align: right;\n",
       "    }\n",
       "</style>\n",
       "<table border=\"1\" class=\"dataframe\">\n",
       "  <thead>\n",
       "    <tr style=\"text-align: right;\">\n",
       "      <th></th>\n",
       "      <th>cosine similarity</th>\n",
       "      <th>fuzz.ratio</th>\n",
       "      <th>fuzz.token_set_ratio</th>\n",
       "      <th>names matcher</th>\n",
       "    </tr>\n",
       "  </thead>\n",
       "  <tbody>\n",
       "    <tr>\n",
       "      <th>Prunotto Moscato 2020</th>\n",
       "      <td>0.29</td>\n",
       "      <td>0.44</td>\n",
       "      <td>0.52</td>\n",
       "      <td>0.85</td>\n",
       "    </tr>\n",
       "    <tr>\n",
       "      <th>BATASIOLO MOSCATO D’ASTI DOCG BOSC DLA REI 2019</th>\n",
       "      <td>0.35</td>\n",
       "      <td>0.58</td>\n",
       "      <td>0.74</td>\n",
       "      <td>0.83</td>\n",
       "    </tr>\n",
       "    <tr>\n",
       "      <th>BROWN BROTHERS MOSCATO</th>\n",
       "      <td>0.29</td>\n",
       "      <td>0.43</td>\n",
       "      <td>0.51</td>\n",
       "      <td>0.85</td>\n",
       "    </tr>\n",
       "    <tr>\n",
       "      <th>Batasiolo Bosc D'la Rei Moscato d'Asti</th>\n",
       "      <td>0.41</td>\n",
       "      <td>0.60</td>\n",
       "      <td>0.74</td>\n",
       "      <td>0.90</td>\n",
       "    </tr>\n",
       "  </tbody>\n",
       "</table>\n",
       "</div>"
      ],
      "text/plain": [
       "                                                 cosine similarity  \\\n",
       "Prunotto Moscato 2020                                         0.29   \n",
       "BATASIOLO MOSCATO D’ASTI DOCG BOSC DLA REI 2019               0.35   \n",
       "BROWN BROTHERS MOSCATO                                        0.29   \n",
       "Batasiolo Bosc D'la Rei Moscato d'Asti                        0.41   \n",
       "\n",
       "                                                 fuzz.ratio  \\\n",
       "Prunotto Moscato 2020                                  0.44   \n",
       "BATASIOLO MOSCATO D’ASTI DOCG BOSC DLA REI 2019        0.58   \n",
       "BROWN BROTHERS MOSCATO                                 0.43   \n",
       "Batasiolo Bosc D'la Rei Moscato d'Asti                 0.60   \n",
       "\n",
       "                                                 fuzz.token_set_ratio  \\\n",
       "Prunotto Moscato 2020                                            0.52   \n",
       "BATASIOLO MOSCATO D’ASTI DOCG BOSC DLA REI 2019                  0.74   \n",
       "BROWN BROTHERS MOSCATO                                           0.51   \n",
       "Batasiolo Bosc D'la Rei Moscato d'Asti                           0.74   \n",
       "\n",
       "                                                 names matcher  \n",
       "Prunotto Moscato 2020                                     0.85  \n",
       "BATASIOLO MOSCATO D’ASTI DOCG BOSC DLA REI 2019           0.83  \n",
       "BROWN BROTHERS MOSCATO                                    0.85  \n",
       "Batasiolo Bosc D'la Rei Moscato d'Asti                    0.90  "
      ]
     },
     "execution_count": 36,
     "metadata": {},
     "output_type": "execute_result"
    }
   ],
   "source": [
    "df_2 = pd.DataFrame(results_2, index=[comp_2[0],comp_2[1],comp_2[2],comp_2[3]])\n",
    "df_2"
   ]
  },
  {
   "cell_type": "markdown",
   "metadata": {},
   "source": [
    "## Conclusion\n",
    "- names matcher seems to be very lenient and inaccurate when comparing products that are not supposed to be matched\n",
    "- on the other hand, cosine similarity score seems to be compressed. relatively small spread between the scores of positive vs negative samples\n",
    "    - quite unforgiving for the positve sample\n",
    "- token set ratio is also quite lenient for negative samples as it is a more flexible approach than purely using Levenshtein distance\n",
    "\n",
    "## Hence, we end up using fuzz.ratio() as our main names matcher.\n",
    "- it performs decently well for positive and negative samples\n",
    "- note: we compared more products than in these 2 samples (i.e. we did not use ONLY these 2 samples to pick the method)\n",
    "\n",
    "## More about the algorithms used\n",
    "- fuzz.ratio: using Levenshtein distance (number of single character insertions, deletions or substitutions required to change one string into another)\n",
    "- cosine similarity: n-gram matching\n",
    "- names matching: similarity metric is inspired by max(ratio, token_set_ratio) by the fuzzywuzzy library"
   ]
  },
  {
   "cell_type": "markdown",
   "metadata": {},
   "source": [
    "# Example Use Case: Matching BBW Products with BBW Orders"
   ]
  },
  {
   "cell_type": "code",
   "execution_count": 30,
   "metadata": {},
   "outputs": [
    {
     "name": "stdout",
     "output_type": "stream",
     "text": [
      "Products df shape: (2355, 3)\n",
      "Orders df shape: (19467, 13)\n",
      "Merged df shape: (19467, 16)\n"
     ]
    }
   ],
   "source": [
    "# === get product & order data === #\n",
    "products_df = pd.read_csv('../datasets/products.csv')\n",
    "products_df = products_df[['product_name','shopify_product_id','product_type']]\n",
    "\n",
    "products_df[\"product_name\"].value_counts() # we see that there are duplicates\n",
    "products_df = products_df.drop_duplicates(subset=['product_name'])\n",
    "print('Products df shape: ' + str(products_df.shape))\n",
    "\n",
    "orders_df = pd.read_csv('../datasets/cleaned_orders.csv')\n",
    "print('Orders df shape: ' + str(orders_df.shape))\n",
    "\n",
    "# === merge product & order data to find exact matches of product name === #\n",
    "merged = orders_df.merge(products_df, left_on='item_id', right_on=\"product_name\", how=\"left\")\n",
    "print('Merged df shape: ' + str(merged.shape))"
   ]
  },
  {
   "cell_type": "code",
   "execution_count": 31,
   "metadata": {},
   "outputs": [
    {
     "name": "stdout",
     "output_type": "stream",
     "text": [
      "merged_cleaned df shape: (10444, 16)\n",
      "dropped df shape: (9023, 16)\n"
     ]
    }
   ],
   "source": [
    "# merged_cleaned: contains all the orders that have exact matches to product name from product data\n",
    "merged_cleaned = merged.dropna(subset=['shopify_product_id'])\n",
    "print('merged_cleaned df shape: ' + str(merged_cleaned.shape))\n",
    "\n",
    "# dropped: contains all the orders that don't have exact matches\n",
    "dropped = merged[merged['shopify_product_id'].isna()]\n",
    "print('dropped df shape: ' + str(dropped.shape))\n",
    "\n",
    "# === to check which order items have been dropped === #\n",
    "# values = dropped['item_id'].value_counts()\n",
    "# values.to_csv('datasets/items_dropped.csv')"
   ]
  },
  {
   "cell_type": "code",
   "execution_count": 32,
   "metadata": {},
   "outputs": [],
   "source": [
    "# products dictionary, key: product_name, values: { shopify_product_id, product_type } \n",
    "products_dict = products_df.set_index('product_name').to_dict('index') "
   ]
  },
  {
   "cell_type": "code",
   "execution_count": 33,
   "metadata": {},
   "outputs": [],
   "source": [
    "copied_dropped = dropped.copy() # orders with no exact product name matches\n",
    "\n",
    "for index, row in dropped.iterrows():\n",
    "    # preliminary checks to reduce comp power -> check if substring inside pdt dict keys\n",
    "    volume_pattern = r'(- \\d+\\s*(ml|ML|l|L))'  # Match digits followed by \"ml,\", \"ML\", \"L,\" or \"l\"\n",
    "    year_pattern = r'(\\b\\d{4}\\b)'  # Match year/vintage\n",
    "    # Remove volume & year patterns from the string\n",
    "    string = re.sub(volume_pattern, '', row['item_id'], flags=re.IGNORECASE) # case-insensitive\n",
    "    string = re.sub(year_pattern, '', string)\n",
    "    res = [key for key in products_dict.keys() if string in key]\n",
    "\n",
    "    fuzzthreshold = 70 # threshold for fuzzy score - currently an arbitrary number\n",
    "\n",
    "    if len(res) == 0: # if the new string gives no matches, do fuzzy score with pdt dict\n",
    "        max_score = 0\n",
    "        best_match = \"\"\n",
    "        for key in products_dict.keys():\n",
    "            if fuzz.ratio(row['item_id'], key) > max_score and max_score >= fuzzthreshold:\n",
    "                best_match = key\n",
    "                max_score = fuzz.ratio(row['item_id'], key)\n",
    "\n",
    "    if len(res) >= 1:\n",
    "        scores = []\n",
    "        for pdt in res: # find similarity score based on ORIGINAL pdt name from orders data\n",
    "            scores.append(fuzz.ratio(row['item_id'], pdt))\n",
    "        max_score = max(scores) # find max score - best match\n",
    "        best_match = res[scores.index(max_score)]\n",
    "\n",
    "    if max_score >= fuzzthreshold:\n",
    "        copied_dropped.at[index, 'product_name'] = best_match\n",
    "        copied_dropped.at[index, 'shopify_product_id'] = products_dict[best_match]['shopify_product_id']\n",
    "        copied_dropped.at[index, 'product_type'] = products_dict[best_match]['product_type']"
   ]
  },
  {
   "cell_type": "code",
   "execution_count": 34,
   "metadata": {},
   "outputs": [
    {
     "name": "stdout",
     "output_type": "stream",
     "text": [
      "merged_cleaned2 df shape: (3744, 16)\n",
      "final df shape: (14188, 16)\n"
     ]
    }
   ],
   "source": [
    "# merged_cleaned2: contains orders that have good-enough product name matches\n",
    "merged_cleaned2 = copied_dropped.dropna(subset=['shopify_product_id'])\n",
    "print('merged_cleaned2 df shape: ' + str(merged_cleaned2.shape))\n",
    "\n",
    "# final: all matched products from 1st & 2nd round of matching\n",
    "final = pd.concat([merged_cleaned, merged_cleaned2], ignore_index=True)\n",
    "print('final df shape: ' + str(final.shape))"
   ]
  },
  {
   "cell_type": "code",
   "execution_count": 36,
   "metadata": {},
   "outputs": [],
   "source": [
    "final.to_csv('../datasets/matched_orders.csv')"
   ]
  }
 ],
 "metadata": {
  "kernelspec": {
   "display_name": "Python 3 (ipykernel)",
   "language": "python",
   "name": "python3"
  },
  "language_info": {
   "codemirror_mode": {
    "name": "ipython",
    "version": 3
   },
   "file_extension": ".py",
   "mimetype": "text/x-python",
   "name": "python",
   "nbconvert_exporter": "python",
   "pygments_lexer": "ipython3",
   "version": "3.9.12"
  }
 },
 "nbformat": 4,
 "nbformat_minor": 2
}
