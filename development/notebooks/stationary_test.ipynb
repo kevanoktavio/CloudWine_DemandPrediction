{
 "cells": [
  {
   "cell_type": "code",
   "execution_count": 7,
   "metadata": {},
   "outputs": [],
   "source": [
    "import pandas as pd\n",
    "import numpy as np\n",
    "import matplotlib.pyplot as plt\n",
    "%matplotlib inline\n",
    "\n",
    "import statsmodels.api as sm\n"
   ]
  },
  {
   "cell_type": "code",
   "execution_count": 3,
   "metadata": {},
   "outputs": [
    {
     "data": {
      "text/html": [
       "<div>\n",
       "<style scoped>\n",
       "    .dataframe tbody tr th:only-of-type {\n",
       "        vertical-align: middle;\n",
       "    }\n",
       "\n",
       "    .dataframe tbody tr th {\n",
       "        vertical-align: top;\n",
       "    }\n",
       "\n",
       "    .dataframe thead th {\n",
       "        text-align: right;\n",
       "    }\n",
       "</style>\n",
       "<table border=\"1\" class=\"dataframe\">\n",
       "  <thead>\n",
       "    <tr style=\"text-align: right;\">\n",
       "      <th></th>\n",
       "      <th>qty</th>\n",
       "    </tr>\n",
       "    <tr>\n",
       "      <th>order_date</th>\n",
       "      <th></th>\n",
       "    </tr>\n",
       "  </thead>\n",
       "  <tbody>\n",
       "    <tr>\n",
       "      <th>2022-04-08</th>\n",
       "      <td>2.0</td>\n",
       "    </tr>\n",
       "    <tr>\n",
       "      <th>2022-04-09</th>\n",
       "      <td>0.0</td>\n",
       "    </tr>\n",
       "    <tr>\n",
       "      <th>2022-04-10</th>\n",
       "      <td>0.0</td>\n",
       "    </tr>\n",
       "    <tr>\n",
       "      <th>2022-04-11</th>\n",
       "      <td>0.0</td>\n",
       "    </tr>\n",
       "    <tr>\n",
       "      <th>2022-04-12</th>\n",
       "      <td>0.0</td>\n",
       "    </tr>\n",
       "    <tr>\n",
       "      <th>...</th>\n",
       "      <td>...</td>\n",
       "    </tr>\n",
       "    <tr>\n",
       "      <th>2023-07-10</th>\n",
       "      <td>0.0</td>\n",
       "    </tr>\n",
       "    <tr>\n",
       "      <th>2023-07-11</th>\n",
       "      <td>0.0</td>\n",
       "    </tr>\n",
       "    <tr>\n",
       "      <th>2023-07-12</th>\n",
       "      <td>1.0</td>\n",
       "    </tr>\n",
       "    <tr>\n",
       "      <th>2023-07-13</th>\n",
       "      <td>0.0</td>\n",
       "    </tr>\n",
       "    <tr>\n",
       "      <th>2023-07-14</th>\n",
       "      <td>1.0</td>\n",
       "    </tr>\n",
       "  </tbody>\n",
       "</table>\n",
       "<p>463 rows × 1 columns</p>\n",
       "</div>"
      ],
      "text/plain": [
       "            qty\n",
       "order_date     \n",
       "2022-04-08  2.0\n",
       "2022-04-09  0.0\n",
       "2022-04-10  0.0\n",
       "2022-04-11  0.0\n",
       "2022-04-12  0.0\n",
       "...         ...\n",
       "2023-07-10  0.0\n",
       "2023-07-11  0.0\n",
       "2023-07-12  1.0\n",
       "2023-07-13  0.0\n",
       "2023-07-14  1.0\n",
       "\n",
       "[463 rows x 1 columns]"
      ]
     },
     "execution_count": 3,
     "metadata": {},
     "output_type": "execute_result"
    }
   ],
   "source": [
    "# read cleaned orders file\n",
    "df = pd.read_csv('../datasets/cleaned_orders.csv')\n",
    "\n",
    "# take some sample data\n",
    "grouped = df[['order_date', 'item_id', 'item_quantity']]\n",
    "groupedbyitem = grouped.groupby('item_id', group_keys=True).apply(lambda x:x)\n",
    "groupedbyitem['item_id'].value_counts()\n",
    "\n",
    "# take a specific item to perform predicion on\n",
    "sample = groupedbyitem[groupedbyitem['item_id']=='Rara Neagră de Purcari 2020']\n",
    "sample = sample.groupby('order_date')['item_quantity'].sum().reset_index()\n",
    "sample['order_date'] = pd.to_datetime(sample['order_date'])\n",
    "sample = sample.set_index('order_date')\n",
    "\n",
    "for_model = pd.DataFrame()\n",
    "# samples daily\n",
    "for_model['qty'] = sample['item_quantity'].resample('D').mean()\n",
    "for_model = for_model.fillna(0)\n",
    "for_model"
   ]
  },
  {
   "cell_type": "code",
   "execution_count": 8,
   "metadata": {},
   "outputs": [
    {
     "data": {
      "text/plain": [
       "[<matplotlib.lines.Line2D at 0x7f96a798f130>]"
      ]
     },
     "execution_count": 8,
     "metadata": {},
     "output_type": "execute_result"
    },
    {
     "data": {
      "image/png": "[encoded data removed]",
      "text/plain": [
       "<Figure size 432x288 with 1 Axes>"
      ]
     },
     "metadata": {
      "needs_background": "light"
     },
     "output_type": "display_data"
    }
   ],
   "source": [
    "plt.plot(for_model) # is the data stationary?"
   ]
  },
  {
   "cell_type": "markdown",
   "metadata": {},
   "source": [
    "## Augmented Dickey-Fuller Test\n",
    "- statistical test called unit root test\n",
    "- where the unit root is non-stationary\n",
    "- hypothesis testing\n",
    "    - H0: Series has a unit root (i.e. Non-stationary)\n",
    "    - H1: Series does not have a unit root (i.e. Stationary)\n",
    "- our conditions to reject H0 and say that data is stationary...\n",
    "    - test statistic < critical value\n",
    "    - p-value < 0.05"
   ]
  },
  {
   "cell_type": "code",
   "execution_count": 9,
   "metadata": {},
   "outputs": [
    {
     "name": "stdout",
     "output_type": "stream",
     "text": [
      "Test Stat               -22.069832\n",
      "p-value                   0.000000\n",
      "# Lags used               0.000000\n",
      "# Obsverations used     462.000000\n",
      "Critical Value (1%)      -3.444584\n",
      "Critical Value (5%)      -2.867816\n",
      "Critical Value (10%)     -2.570113\n",
      "dtype: float64\n"
     ]
    }
   ],
   "source": [
    "from statsmodels.tsa.stattools import adfuller\n",
    "\n",
    "test = adfuller(for_model, autolag='AIC')\n",
    "output = pd.Series(test[0:4], index=['Test Stat','p-value','# Lags used','# Obsverations used'])\n",
    "\n",
    "for key, value in test[4].items():\n",
    "    output['Critical Value (%s)'%key] = value\n",
    "print(output)"
   ]
  },
  {
   "cell_type": "markdown",
   "metadata": {},
   "source": [
    "- tstat < all critical values\n",
    "- p-value < 0.05\n",
    "#### Hence, reject H0. Data is stationary."
   ]
  },
  {
   "cell_type": "markdown",
   "metadata": {},
   "source": [
    "## KPSS Test\n",
    "- unit root test similar to ADF, but cannot be used interchangeably with the ADF test beause the interpretation of p-value is opposite (H0 and H1 are swapped)\n",
    "- hypothesis testing\n",
    "    - H0: No unit root (i.e. stationary)\n",
    "    - H1: Series has a unit root (i.e. non-stationary)\n",
    "- our conditions to reject H0 and say that data is non-stationary...\n",
    "    - test statistic < critical value\n",
    "    - p-value < 0.05"
   ]
  },
  {
   "cell_type": "code",
   "execution_count": 10,
   "metadata": {},
   "outputs": [
    {
     "name": "stdout",
     "output_type": "stream",
     "text": [
      "Test Statistic           0.425392\n",
      "p-value                  0.066210\n",
      "#Lags Used               7.000000\n",
      "Critical Value (10%)     0.347000\n",
      "Critical Value (5%)      0.463000\n",
      "Critical Value (2.5%)    0.574000\n",
      "Critical Value (1%)      0.739000\n",
      "dtype: float64\n"
     ]
    }
   ],
   "source": [
    "from statsmodels.tsa.stattools import kpss\n",
    "\n",
    "kpsstest = kpss(for_model, regression='c', nlags=\"auto\")\n",
    "kpss_output = pd.Series(kpsstest[0:3], index=['Test Statistic','p-value','#Lags Used'])\n",
    "\n",
    "for key,value in kpsstest[3].items():\n",
    "    kpss_output['Critical Value (%s)'%key] = value\n",
    "print(kpss_output)"
   ]
  },
  {
   "cell_type": "markdown",
   "metadata": {},
   "source": [
    "- tstat < critical value at 95% confidence level\n",
    "- p-value > 0.05\n",
    "#### Hence, do not reject H0. Data is stationary."
   ]
  }
 ],
 "metadata": {
  "kernelspec": {
   "display_name": "base",
   "language": "python",
   "name": "python3"
  },
  "language_info": {
   "codemirror_mode": {
    "name": "ipython",
    "version": 3
   },
   "file_extension": ".py",
   "mimetype": "text/x-python",
   "name": "python",
   "nbconvert_exporter": "python",
   "pygments_lexer": "ipython3",
   "version": "3.9.12"
  },
  "orig_nbformat": 4
 },
 "nbformat": 4,
 "nbformat_minor": 2
}
